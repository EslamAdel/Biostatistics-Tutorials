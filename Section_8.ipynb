{
 "cells": [
  {
   "cell_type": "markdown",
   "metadata": {},
   "source": [
    "# Joint Probability Distribution "
   ]
  },
  {
   "cell_type": "markdown",
   "metadata": {},
   "source": [
    "## Ex 5-1\n",
    "\n",
    "Show that the following function satisfies the properties of a joint probability mass function\n",
    "\n",
    "![](images/ex_5-1_a.png)\n",
    "\n",
    "Determine the following:\n",
    "\n",
    "(a) $P (X < 2.5 ,Y <  3 )$ \n",
    "\n",
    "(b) $P(X <  2.5 )$\n",
    "\n",
    "(c) $P (Y < 3)$\n",
    " \n",
    "(d) $P( X > 1.8, Y > 4.7)$\n",
    "\n",
    "(e) $E(X)$, $E(Y)$ , $V(X)$, and $V(Y)$.\n",
    "\n",
    "(f) Marginal probability distribution of $X$\n",
    "\n",
    "(g) Conditional probability distribution of $Y$ given that $X = 1.5$\n",
    "\n",
    "(h) Conditional probability distribution of $X$ given that $Y = 2$\n",
    "\n",
    "(i) $E(Y|X = 1.5)$ \n",
    "\n",
    "(j) Are  $X$ and $Y$ independent?"
   ]
  },
  {
   "cell_type": "markdown",
   "metadata": {},
   "source": []
  },
  {
   "cell_type": "markdown",
   "metadata": {},
   "source": [
    "## Ex 5-7 "
   ]
  },
  {
   "cell_type": "markdown",
   "metadata": {},
   "source": [
    "A manufacturing company employs two devices to\n",
    "inspect output for quality control purposes. The first device is\n",
    "able to accurately detect $99.3\\%$ of the defective items it receives,\n",
    "whereas the second is able to do so in $99.7\\%$ of the cases.\n",
    "Assume that four defective items are produced and sent out for\n",
    "inspection. Let X and Y denote the number of items that will\n",
    "be identified as defective by inspecting devices 1 and 2, respectively. Assume that the devices are independent. Determine:\n",
    "\n",
    "(a) $f_{X,Y}(x, y)$\n",
    "\n",
    "(b) $f_x(X)$\n",
    "\n",
    "(c) $E(X)$\n",
    "\n",
    "(d) $f_{Y|2}(y)$\n",
    "\n",
    "(e) $E  (Y  |X = 2) $\n",
    "\n",
    "(f) $V (Y | X  = 2)$\n",
    "\n",
    "(g) Are $X$ and $Y$ independent?"
   ]
  },
  {
   "cell_type": "markdown",
   "metadata": {},
   "source": [
    "## Ex 5-13"
   ]
  },
  {
   "cell_type": "markdown",
   "metadata": {},
   "source": [
    "Determine the value of c such that the function\n",
    "\n",
    "$$f(x,y) = cxy $$\n",
    "\n",
    "for $0 <x  < 3$ and $0 < y < 3$ \n",
    "\n",
    "satisfies the properties of a joint probability density function.\n",
    "\n",
    "\n",
    "Determine the following:\n",
    "\n",
    "(a) $P(X < 2, Y < 3)$\n",
    "\n",
    "(b) $P(X < 2.5)$\n",
    "\n",
    "(c) $P(1 < Y < 2.5)$ \n",
    "\n",
    "(d) $P(X > 1.8, 1<Y<2.5$\n",
    "\n",
    "(e) $E(X)$\n",
    "\n",
    "(f) $P(X < 0, Y < 4$\n",
    "\n",
    "(g) Marginal probability distribution of $X$\n",
    "\n",
    "(h) Conditional probability distribution of $Y$ given $X = 1.5$\n",
    "\n",
    "(i) $E(Y|X = 1.5)$\n",
    "\n",
    "(j) $P(Y < 2 | X = 1.5)$\n",
    "\n",
    "(k) Conditional probability distribution of $X$ given $Y = 2$\n"
   ]
  },
  {
   "cell_type": "markdown",
   "metadata": {},
   "source": [
    "## Ex 5-19\n",
    "\n",
    "Two methods of measuring surface smoothness are used\n",
    "to evaluate a paper product. The measurements are recorded\n",
    "as deviations from the nominal surface smoothness in coded\n",
    "units. The joint probability distribution of the two measurements is a uniform distribution over the region $0 < x <4 < $ , $0 < y$ \n",
    "and $x-1 < y < x +1$ . That is\n",
    "\n",
    "$$f_{XY}(x, y) = c $$ \n",
    "\n",
    "for $x$ and $y$ in the region. \n",
    "\n",
    "Determine the value for $c$ such that $f_{XY}(x, y)$ is a joint\n",
    "probability density function.\n",
    "\n",
    "\n",
    "Determine the following:\n",
    "\n",
    "(a) $P(X < 0.5, Y< 0.5)$\n",
    "\n",
    "(b) $P(X < 0.5)$\n",
    "\n",
    "(c) $E(X)$\n",
    "\n",
    "(d) $E(Y)$\n",
    "\n",
    "(e) Marginal probability distribution of $X$\n",
    "\n",
    "(f) Conditional probability distribution of $Y$ given $X = 1$\n",
    "\n",
    "(g) $E(Y|X =1 )$\n",
    "\n",
    "(h) $P(Y < 0.5 | X = 1) $"
   ]
  },
  {
   "cell_type": "markdown",
   "metadata": {},
   "source": [
    "## Ex 5-33"
   ]
  },
  {
   "cell_type": "markdown",
   "metadata": {},
   "source": [
    "Determine the covariance and correlation for the\n",
    "following joint probability distribution\n",
    "\n",
    "| || | | |\n",
    "|---|---|---|---|---|\n",
    "|x |1| 1| 2| 4|\n",
    "|y |3| 4| 5| 6|\n",
    "|$f_XY(x,y)$ |$\\frac{1}{8}$| $\\frac{1}{4}$| $\\frac{1}{2}$| $\\frac{1}{8}$|\n",
    "\n"
   ]
  },
  {
   "cell_type": "markdown",
   "metadata": {},
   "source": [
    "## Ex 5-35"
   ]
  },
  {
   "cell_type": "markdown",
   "metadata": {},
   "source": [
    "Determine the value for $c$ and the covariance\n",
    "and correlation for the joint probability mass function\n",
    "\n",
    "$$f_{XY}(x, y) = c(x+y)$$ \n",
    "\n",
    "for $x = 1, 2, 3$\n",
    "\n",
    "and $y = 1, 2, 3$\n",
    "\n"
   ]
  },
  {
   "cell_type": "markdown",
   "metadata": {},
   "source": [
    "## Ex 5-41\n",
    "\n",
    "Determine the covariance and correlation for the\n",
    "joint probability density function \n",
    "\n",
    "$$f_{XY}(x,y) = e^{-x-y}$$\n",
    "over the range\n",
    "\n",
    "$ 0 < x$  and $0 < y$."
   ]
  },
  {
   "cell_type": "code",
   "execution_count": null,
   "metadata": {},
   "outputs": [],
   "source": []
  }
 ],
 "metadata": {
  "kernelspec": {
   "display_name": "Python 3",
   "language": "python",
   "name": "python3"
  },
  "language_info": {
   "codemirror_mode": {
    "name": "ipython",
    "version": 3
   },
   "file_extension": ".py",
   "mimetype": "text/x-python",
   "name": "python",
   "nbconvert_exporter": "python",
   "pygments_lexer": "ipython3",
   "version": "3.7.4"
  }
 },
 "nbformat": 4,
 "nbformat_minor": 2
}