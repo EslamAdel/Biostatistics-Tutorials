{
 "cells": [
  {
   "cell_type": "markdown",
   "metadata": {},
   "source": [
    "# Discrete Random Variables II "
   ]
  },
  {
   "cell_type": "markdown",
   "metadata": {},
   "source": [
    "##  Discrete Distributions\n",
    "\n",
    "* Uniform distribution\n",
    "* Binomial distribution\n",
    "* Geometric and Negative Binomial distribution\n",
    "* Hypergeometric distribution\n"
   ]
  },
  {
   "cell_type": "markdown",
   "metadata": {},
   "source": [
    "### Uniform Distribution\n",
    "\n",
    "$x_1, x_2, .., x_i$ has equal probability where \n",
    "\n",
    "$$f(x_i) = \\frac{1}{n}$$\n",
    "\n",
    "For $X$ **consecutive integers** $a, a+1, ...., b$ **(Arithmetic progression)** and $a \\leq b$\n",
    "\n",
    "$$f(x_i) = \\frac{1}{b-a+1}$$\n",
    "\n",
    "$$E[X]= \\frac{b+a}{2}$$\n",
    "and\n",
    "$$Var(X)= \\frac{(b-a+1)^2-1}{12}$$\n",
    "\n",
    "**Note**:\n",
    "\n",
    "Arithmetic progression : \n",
    "\n",
    "$a_n = a_1 + (n-1)d$\n",
    "\n",
    "$a_1 + (a_1+d) + (a_1+2d) + (a_1+ 3d) ..... + a_n $\n",
    "\n",
    "Ex: $1, 2 ,3 , 4,  5$ \n",
    "\n",
    "$S_n = \\frac{n(a_n + a_1)}{2}$\n",
    "\n",
    "**Proof**\n",
    "\n",
    "$E[x] = \\sum_x x f(x) = \\frac{1}{b-a+1} \\times (a+ (a+1) + (a+2) ... + b) = \\frac{1}{b-a+1} \\times \\frac{(b-a+1)(a+b)}{2} = \\frac{a+b}{2}$ "
   ]
  },
  {
   "cell_type": "code",
   "execution_count": 8,
   "metadata": {},
   "outputs": [],
   "source": [
    "import numpy as np \n",
    "import matplotlib.pyplot as plt\n",
    "def plot_pmf(x, fx, new_fig = True, color = 'b'):\n",
    "    if new_fig:\n",
    "        fig = plt.figure(figsize=(9,6))\n",
    "    plt.stem( x , fx, use_line_collection = True, linefmt=color,markerfmt=color+\"o\", basefmt='k')\n",
    "    plt.xlabel(\"RV X\",fontsize=15)\n",
    "    plt.ylabel(\"PMF f(x)\",fontsize=15)\n",
    "    plt.xticks(fontsize=15)\n",
    "    plt.yticks(fontsize=15)\n",
    "    plt.grid(True)"
   ]
  },
  {
   "cell_type": "code",
   "execution_count": null,
   "metadata": {},
   "outputs": [],
   "source": [
    "x = [a for a in range(1,20)]\n",
    "print(\"E[X] = \", np.mean(x))\n",
    "plot_pmf(x, [1/len(x)]*len(x))"
   ]
  },
  {
   "cell_type": "markdown",
   "metadata": {},
   "source": [
    "### Binomial Distribution\n",
    "* n Bernoulli trials (success, fail) $n = 1, 2, ..$\n",
    "* Trials are indepenant\n",
    "* Success probability $p$ is the same for all trials and $ 0 < p < 1$\n",
    "* RV $X$ is number of success trials\n",
    "\n",
    "$$f(x) =\\begin{pmatrix}n \\\\ x\\end{pmatrix} p^{x} (1-p)^{n-x}$$\n",
    "\n",
    "where  $\\begin{pmatrix}n \\\\ x\\end{pmatrix}  = \\frac{n!}{x! (n-x)!}$\n",
    "\n",
    "and $x = 0, 1, 2, 3 , ..., n$\n",
    "\n",
    "$$E[X] = np $$\n",
    "$$Var(X) = np(1-p)$$\n",
    "\n",
    "\n",
    "**Note:**\n",
    "\n",
    "$n$ is number of trials cann't be 0 but $X$ is number of successful trials and may be 0"
   ]
  },
  {
   "cell_type": "code",
   "execution_count": null,
   "metadata": {},
   "outputs": [],
   "source": [
    "from scipy.stats import binom\n",
    "n, p=20, 0.2\n",
    "rv = binom(n,p)\n",
    "x=np.arange(0,n)\n",
    "fx = rv.pmf(x)\n",
    "print(\"E[X] = \", rv.mean())\n",
    "fig = plt.figure(figsize=(9, 6))\n",
    "plot_pmf(x, fx, False)\n",
    "plt.xlabel('x = # of success')\n",
    "plt.ylabel('f(x) ')\n",
    "plt.show()"
   ]
  },
  {
   "cell_type": "markdown",
   "metadata": {},
   "source": [
    "## Geometric Distribution\n",
    "* Series of independant Bernoulli trials (success, fail) and success probability $p \\rightarrow 0<p<1$\n",
    "* RV $X$ is number of trials untill the first success\n",
    "\n",
    "$$f(x) = (1-p)^{x-1} p $$\n",
    "\n",
    "and $x = 1, 2, 3, ..$\n",
    "\n",
    "$$E[X] = \\frac{1}{p}$$\n",
    "and \n",
    "$$Var(X) = \\frac{1-p}{p^2}$$\n",
    "\n",
    "**Note**:\n",
    "\n",
    "Goemetric Series: \n",
    "\n",
    "$a + a r + ar^2 + ....$\n",
    "\n",
    "$\\sum a (r)^{n-1} = \\frac{a}{1-r}$\n",
    "\n",
    "**Proof**:\n",
    "\n",
    "$\\sum_x{f(x)} = \\sum_x(1-p)^{x-1}p = \\frac{p}{1-1+p} = 1$"
   ]
  },
  {
   "cell_type": "code",
   "execution_count": null,
   "metadata": {},
   "outputs": [],
   "source": [
    "from scipy.stats import geom\n",
    "p= 0.2\n",
    "rv = geom(p)\n",
    "x=np.arange(1,20)\n",
    "fx = rv.pmf(x)\n",
    "print(\"E[X] = \", rv.mean())\n",
    "fig = plt.figure(figsize=(9, 6))\n",
    "plot_pmf(x, fx, False)\n",
    "plt.xlabel('x = # trials until 1st success')\n",
    "plt.ylabel('f(x) ')\n",
    "plt.show()"
   ]
  },
  {
   "cell_type": "markdown",
   "metadata": {},
   "source": [
    "## Negative Binomial Distribution\n",
    "* Series of independant Bernoulli trials (success, fail) and success probability $p \\rightarrow 0<p<1$\n",
    "* RV $X$ is the number of trials until $r$ successes  \n",
    "\n",
    "$$f(x) =\\begin{pmatrix}x-1 \\\\ r-1\\end{pmatrix} (1-p)^{x-r} p^{r}$$\n",
    "\n",
    "\n",
    "Where $x = r, r+1, r+2, ...$\n",
    "\n",
    "$$E[X] = \\frac{r}{p} $$\n",
    "and \n",
    "$$Var(X) = \\frac{r(1-p)}{p^2}$$\n"
   ]
  },
  {
   "cell_type": "code",
   "execution_count": null,
   "metadata": {},
   "outputs": [],
   "source": [
    "from scipy.stats import nbinom\n",
    "r, p= 5, 0.2\n",
    "rv = nbinom(r,p)\n",
    "x=np.arange(r, 10*r)\n",
    "fx = rv.pmf(x)\n",
    "print(\"E[X] = \", r/p)\n",
    "fig = plt.figure(figsize=(9, 6))\n",
    "plot_pmf(x, fx, False)\n",
    "plt.xlabel('x = # trials until 5 success')\n",
    "plt.ylabel('f(x) ')\n",
    "plt.show()"
   ]
  },
  {
   "cell_type": "markdown",
   "metadata": {},
   "source": [
    "## Hypergeometric Distribution\n",
    "\n",
    "* Selection of sample (without replacement) with size $n$ from population with size $N$ where $n\\leq N$\n",
    "* Population contains K success, N-K failers where $K \\leq N$\n",
    "* RV X is number of success in the sample\n",
    "\n",
    "$$f(x) = \\frac{\\begin{pmatrix}K \\\\ x\\end{pmatrix} \\begin{pmatrix}N-K \\\\ n-x\\end{pmatrix} }{\\begin{pmatrix}N \\\\ n\\end{pmatrix} }$$\n",
    "\n",
    "Where \n",
    "\n",
    "$x = max(0, n+K-N)$ to $min(K, n)$\n",
    "\n",
    "and \n",
    "\n",
    "$$E[X] = np $$\n",
    "$$Var(X) = np (1-p) (\\frac{N-n}{N-1})$$\n",
    "\n",
    "Where $p = \\frac{K}{N}$"
   ]
  },
  {
   "cell_type": "code",
   "execution_count": null,
   "metadata": {},
   "outputs": [],
   "source": [
    "from scipy.stats import hypergeom\n",
    "[N, n, K] = [100, 10, 20]\n",
    "rv = hypergeom(N, n, K)\n",
    "x = np.arange(0, n+1)\n",
    "fx = rv.pmf(x)\n",
    "print(\"E[X] = \", rv.mean())\n",
    "fig = plt.figure(figsize=(9, 6))\n",
    "plot_pmf(x, fx, False)\n",
    "plt.xlabel('x = # success in sample of 10 (N = 100, K = 20)')\n",
    "plt.ylabel('f(x) ')\n",
    "plt.show()"
   ]
  },
  {
   "cell_type": "markdown",
   "metadata": {},
   "source": [
    "## Summary "
   ]
  },
  {
   "cell_type": "markdown",
   "metadata": {},
   "source": [
    "|X|f(x)|E[X]|Var(X)| Notes|\n",
    "|--|-----|--|--|--|\n",
    "|Uniform(consecutive values of $x$)| $$\\frac{1}{b-a+1}$$ | $$\\frac{b+a}{2}$$|  $$\\frac{(b-a+1)^2-1}{12}$$| |\n",
    "|Binomial (# success trials)|$$\\begin{pmatrix}n \\\\ x\\end{pmatrix} p^{x} (1-p)^{n-x}$$ | $$np$$ | $$np(1-p)$$| $p$ is success prob| \n",
    "|Geometric (# trials until 1st success)|$$(1-p)^{x-1} p$$ | $$\\frac{1}{p}$$ | $$ \\frac{1-p}{p^2}$$| $p$ is success prob| \n",
    "|Negative Binomial (# trials until r success)|$$\\begin{pmatrix}x-1 \\\\ r-1\\end{pmatrix} (1-p)^{x-r} p^{r}$$ | $$\\frac{r}{p} $$ | $$ \\frac{r(1-p)}{p^2}$$|  $p$ is success prob| \n",
    "|Hypergeometric (# success in sample of n)|$$ \\frac{\\begin{pmatrix}K \\\\ x\\end{pmatrix} \\begin{pmatrix}N-K \\\\ n-x\\end{pmatrix} }{\\begin{pmatrix}N \\\\ n\\end{pmatrix} }$$ | $$np $$ | $$ np (1-p) (\\frac{N-n}{N-1})$$| $N$ pop size, $K$ # success, $p = \\frac{K}{N}$\n",
    "\n"
   ]
  },
  {
   "cell_type": "markdown",
   "metadata": {},
   "source": [
    "### Exercise 3-79\n",
    "\n",
    "Thickness measurements of a coating process are\n",
    "made to the nearest hundredth of a millimeter. The thickness\n",
    "measurements are uniformly distributed with values 0.15, 0.16,\n",
    "0.17, 0.18, and 0.19. Determine the mean and variance of the\n",
    "coating thickness for this process"
   ]
  },
  {
   "cell_type": "markdown",
   "metadata": {},
   "source": [
    "**Solution**\n",
    "\n",
    "let $X$ = 15, 16, 17, 18, 19\n",
    "\n",
    "and \n",
    "\n",
    "$Y = 0.01X$\n",
    "\n",
    "$X$ is Uniform random variable with consecutive values \n"
   ]
  },
  {
   "cell_type": "code",
   "execution_count": 1,
   "metadata": {},
   "outputs": [
    {
     "name": "stdout",
     "output_type": "stream",
     "text": [
      "Mean :  0.17\n",
      "Var : 0.0002\n"
     ]
    }
   ],
   "source": [
    "import numpy as np\n",
    "# Consecutive\n",
    "a = 15 \n",
    "b = 19\n",
    "# From Uniform distribution\n",
    "mean_x = (b+a)/2\n",
    "var_x = ((b-a+1)**2-1)/12\n",
    "\n",
    "# From properties of E[x] and Var(X)\n",
    "mean_y = 0.01*mean_x\n",
    "var_y = (0.01**2)*var_x\n",
    "\n",
    "\n",
    "print(\"Mean : \" , mean_y)\n",
    "print(\"Var :\",var_y)"
   ]
  },
  {
   "cell_type": "markdown",
   "metadata": {},
   "source": [
    "## Exercise 3-81 \n",
    "\n",
    "Assume that the wavelengths of photosynthetically\n",
    "active radiations (PAR) are uniformly distributed at integer\n",
    "nanometers in the red spectrum from 675 to 700 nm.\n",
    "\n",
    "(a) What are the mean and variance of the wavelength distribution for this radiation?\n",
    "\n",
    "(b) If the wavelengths are uniformly distributed at integer\n",
    "nanometers from 75 to 100 nanometers, how do the mean\n",
    "and variance of the wavelength distribution compare to the\n",
    "previous part? Explain."
   ]
  },
  {
   "cell_type": "markdown",
   "metadata": {},
   "source": [
    "**Solution**"
   ]
  },
  {
   "cell_type": "code",
   "execution_count": 2,
   "metadata": {},
   "outputs": [
    {
     "name": "stdout",
     "output_type": "stream",
     "text": [
      "(a)\n",
      "====\n",
      "Mean :  687.5\n",
      "Var :  56.25\n"
     ]
    }
   ],
   "source": [
    "a = 675\n",
    "b = 700 \n",
    "mean = (b+a)/2\n",
    "var = (((b-a+1)**2)-1)/12\n",
    "print(\"(a)\\n====\")\n",
    "print(\"Mean : \", mean)\n",
    "print(\"Var : \", var)"
   ]
  },
  {
   "cell_type": "code",
   "execution_count": 3,
   "metadata": {},
   "outputs": [
    {
     "name": "stdout",
     "output_type": "stream",
     "text": [
      "(b)\n",
      "====\n",
      "Mean :  87.5\n",
      "Var :  56.25\n"
     ]
    }
   ],
   "source": [
    "a = 75\n",
    "b = 100 \n",
    "mean = (b+a)/2\n",
    "var = (((b-a+1)**2)-1)/12\n",
    "print(\"(b)\\n====\")\n",
    "print(\"Mean : \", mean)\n",
    "print(\"Var : \", var)"
   ]
  },
  {
   "cell_type": "markdown",
   "metadata": {},
   "source": [
    "$b = a - 600$ \n",
    "\n",
    "$E[b] = E[a] - 600$\n",
    "\n",
    "$Var(b) = Var(a) $"
   ]
  },
  {
   "cell_type": "markdown",
   "metadata": {},
   "source": [
    "## Exercise 3-93\n",
    "\n",
    "Let X be a binomial random variable with p = 0.1 .\n",
    "and n = 10. Calculate the following probabilities from the binomial probability mass function and from the binomial table in\n",
    "Appendix A and compare results.\n",
    "\n",
    "(a) P  ( X≤ 2 )\n",
    "\n",
    "(b)  P (X  > 8)\n",
    "\n",
    "(c) P (X  = 4 )  \n",
    "\n",
    "(d) P (5  ≤ X  ≤ 7 )\n",
    "\n",
    "**Solution**\n",
    "\n",
    "$$f(x) = ^{10}C_{x} \\times 0.1^{x}\\times 0.9^{(10-x)}$$"
   ]
  },
  {
   "cell_type": "code",
   "execution_count": 4,
   "metadata": {},
   "outputs": [],
   "source": [
    "from scipy.special import comb"
   ]
  },
  {
   "cell_type": "code",
   "execution_count": 5,
   "metadata": {},
   "outputs": [],
   "source": [
    "def binom_fx(x, p, n):\n",
    "    return comb(n, x)*(p**x)*((1-p)**(n-x))"
   ]
  },
  {
   "cell_type": "code",
   "execution_count": 6,
   "metadata": {},
   "outputs": [
    {
     "name": "stdout",
     "output_type": "stream",
     "text": [
      "(a)0.9298\n",
      "(b) 0.0000\n",
      "(c) 0.0112\n",
      "(d) 0.0016\n"
     ]
    }
   ],
   "source": [
    "p, n = 0.1, 10\n",
    "a = sum([binom_fx(x, p, n) for x in range(3)])\n",
    "print(\"(a)%.4f\"%a)\n",
    "b = sum([binom_fx(x, p, n) for x in range(9, 11)])\n",
    "print(\"(b) %.4f\"%b)\n",
    "c = binom_fx(4, p, n) \n",
    "print(\"(c) %.4f\"%c)\n",
    "d = sum([binom_fx(x, p, n) for x in range(5, 8)])\n",
    "print(\"(d) %.4f\"%d)"
   ]
  },
  {
   "cell_type": "code",
   "execution_count": 9,
   "metadata": {},
   "outputs": [
    {
     "data": {
      "image/png": "[encoded data removed]",
      "text/plain": [
       "<Figure size 648x432 with 1 Axes>"
      ]
     },
     "metadata": {
      "needs_background": "light"
     },
     "output_type": "display_data"
    }
   ],
   "source": [
    "from scipy.stats import binom\n",
    "rv = binom(p=p, n=n)\n",
    "x = np.arange(0, n+1)\n",
    "fx = rv.pmf(x)\n",
    "plot_pmf(x, fx)"
   ]
  },
  {
   "cell_type": "markdown",
   "metadata": {},
   "source": [
    "## Exercise 3-106\n",
    "\n",
    "Heart failure is due to either natural occurrences\n",
    "(87%) or outside factors (13%). Outside factors are related to\n",
    "induced substances or foreign objects. Natural occurrences are\n",
    "caused by arterial blockage, disease, and infection. Suppose\n",
    "that 20 patients will visit an emergency room with heart failure. Assume that causes of heart failure for the individuals are\n",
    "independent.\n",
    "\n",
    "(a) What is the probability that three individuals have conditions caused by outside factors?\n",
    "\n",
    "(b) What is the probability that three or more individuals have\n",
    "conditions caused by outside factors?\n",
    "\n",
    "(c) What are the mean and standard deviation of the number\n",
    "of individuals with conditions caused by outside factors?"
   ]
  },
  {
   "cell_type": "markdown",
   "metadata": {},
   "source": [
    "**Solution**\n",
    "\n",
    "$X$ is number of patients has conditions by outside factors with $p = 0.13$\n",
    "\n",
    "With 20 patients (n = 20)\n",
    "\n",
    "$X$ has a binomial distribution\n",
    "\n",
    "$$f(x) = ^{20} C_x \\times 0.13^x \\times 0.87^{(20-x)}$$"
   ]
  },
  {
   "cell_type": "code",
   "execution_count": 10,
   "metadata": {},
   "outputs": [
    {
     "name": "stdout",
     "output_type": "stream",
     "text": [
      "(a)0.2347\n",
      "(b)0.4920\n"
     ]
    }
   ],
   "source": [
    "n, p = 20, 0.13\n",
    "# P(X = 3)\n",
    "a = binom_fx(3, p, n) \n",
    "print(\"(a)%.4f\"%a)\n",
    "\n",
    "\n",
    "# P(X >= 3)\n",
    "# 1 - P(x < 3) = 1 - P(x = [0, 1, 2])\n",
    "b = 1 - sum([binom_fx(x, p, n) for x in range(3)]) \n",
    "print(\"(b)%.4f\"%b)"
   ]
  },
  {
   "cell_type": "code",
   "execution_count": 11,
   "metadata": {},
   "outputs": [
    {
     "name": "stdout",
     "output_type": "stream",
     "text": [
      "(c)\n",
      "===\n",
      "Mean =  2.6\n",
      "Var =  2.262\n"
     ]
    }
   ],
   "source": [
    "mean = n*p\n",
    "var = n*p*(1-p)\n",
    "print(\"(c)\\n===\")\n",
    "print(\"Mean = \", mean)\n",
    "print(\"Var = \", var)"
   ]
  },
  {
   "cell_type": "code",
   "execution_count": 12,
   "metadata": {},
   "outputs": [
    {
     "data": {
      "image/png": "[encoded data removed]",
      "text/plain": [
       "<Figure size 648x432 with 1 Axes>"
      ]
     },
     "metadata": {
      "needs_background": "light"
     },
     "output_type": "display_data"
    }
   ],
   "source": [
    "from scipy.stats import binom\n",
    "rv = binom(p=p, n=n)\n",
    "x = np.arange(0, n+1)\n",
    "fx = rv.pmf(x)\n",
    "plot_pmf(x, fx)"
   ]
  },
  {
   "cell_type": "markdown",
   "metadata": {},
   "source": [
    "## Exercise 3-115 \n",
    "\n",
    "The probability that a visitor to a Web site provides\n",
    "contact data for additional information is 0.01. Assume that\n",
    "1000 visitors to the site behave independently. Determine the\n",
    "following probabilities:\n",
    "\n",
    "(a) No visitor provides contact data.\n",
    "\n",
    "(b) Exactly 10 visitors provide contact data.\n",
    "\n",
    "(c) More than 3 visitors provide contact data."
   ]
  },
  {
   "cell_type": "markdown",
   "metadata": {},
   "source": [
    "**Solution**\n",
    "\n",
    "$X$ is number of users who provides data $p = 0.01$\n",
    " \n",
    " Binomial distribution with $n = 1000$\n",
    " \n",
    " $$f(x) = ^{1000}C_x \\times 0.01^x \\times 0.99^{(1000-x)}$$"
   ]
  },
  {
   "cell_type": "code",
   "execution_count": 13,
   "metadata": {},
   "outputs": [
    {
     "name": "stdout",
     "output_type": "stream",
     "text": [
      "(a) 0.00004\n",
      "(b) 0.126\n",
      "(b) 0.990\n"
     ]
    }
   ],
   "source": [
    "n, p = 1000, 0.01\n",
    "\n",
    "# P(X = 0), f(0)\n",
    "a = binom_fx(0, p, n )\n",
    "print(\"(a) %.5f\"%a)\n",
    "\n",
    "# P(X = 10), f(10)\n",
    "b = binom_fx(10, p, n)\n",
    "print(\"(b) %.3f\"%b)\n",
    "# More than 3 : P(x > 3) =  1 - P(X <= 3) = 1 - (P(0)+ P(1) ... + P(3))\n",
    "c = 1 - sum([binom_fx(x, p, n) for x in range(0, 4)])\n",
    "print(\"(b) %.3f\"%c)\n"
   ]
  },
  {
   "cell_type": "markdown",
   "metadata": {},
   "source": [
    "## Exercise 3-120\n",
    "Suppose that the random variable X has a geometric distribution with a mean of 2.5. Determine the following probabilities:\n",
    "\n",
    "(a) P  (X = 1)\n",
    "\n",
    "(b) P  ( X= 4 )\n",
    "\n",
    "(c)  P  ( X = 5)\n",
    "\n",
    "(d) P ( X ≤ 3) \n",
    "\n",
    "(e) ) P  (X > 3)"
   ]
  },
  {
   "cell_type": "markdown",
   "metadata": {},
   "source": [
    "**Solution**\n",
    "\n",
    "$$f(x) = (1-p)^{x-1}p$$\n",
    "\n",
    "$$E[X] = \\frac{1}{p}$$"
   ]
  },
  {
   "cell_type": "code",
   "execution_count": 14,
   "metadata": {},
   "outputs": [],
   "source": [
    "def geom_fx(x, p):\n",
    "    return ((1-p)**(x-1))*p"
   ]
  },
  {
   "cell_type": "code",
   "execution_count": 15,
   "metadata": {},
   "outputs": [
    {
     "name": "stdout",
     "output_type": "stream",
     "text": [
      "(a) 0.400\n",
      "(b) 0.086\n",
      "(c) 0.052\n",
      "(d) 0.784\n",
      "(e) 0.216\n"
     ]
    }
   ],
   "source": [
    "p = 1/2.5\n",
    "a = geom_fx(1, p)\n",
    "print(\"(a) %.3f\"%a)\n",
    "b = geom_fx(4, p)\n",
    "print(\"(b) %.3f\"%b)\n",
    "c = geom_fx(5, p)\n",
    "print(\"(c) %.3f\"%c)\n",
    "d = geom_fx(1, p) + geom_fx(2, p) + geom_fx(3, p)\n",
    "print(\"(d) %.3f\"%d)\n",
    "e = 1 - d\n",
    "print(\"(e) %.3f\"%e)\n"
   ]
  },
  {
   "cell_type": "code",
   "execution_count": 17,
   "metadata": {},
   "outputs": [
    {
     "data": {
      "image/png": "[encoded data removed]",
      "text/plain": [
       "<Figure size 648x432 with 1 Axes>"
      ]
     },
     "metadata": {
      "needs_background": "light"
     },
     "output_type": "display_data"
    }
   ],
   "source": [
    "from scipy.stats import geom\n",
    "rv = geom(p)\n",
    "x = np.arange(1, 10)\n",
    "fx = rv.pmf(x)\n",
    "plot_pmf(x, fx)"
   ]
  },
  {
   "cell_type": "markdown",
   "metadata": {},
   "source": [
    "## Exercise 3-122.\n",
    "Suppose that X is a negative binomial random\n",
    "variable with p = 0.2 and r = 4 Determine the following:\n",
    "\n",
    "(a) E(X ) \n",
    "\n",
    "(b) P(X = 20)\n",
    "\n",
    "(c) P( X = 19  ) \n",
    "\n",
    "(d) P(X = 21)\n",
    "\n",
    "(e) The most likely value for X"
   ]
  },
  {
   "cell_type": "markdown",
   "metadata": {},
   "source": [
    "**Solution**\n",
    "\n",
    "$$f(x) = ^{(x-1)}C_{3} \\times 0.8^{x-4} \\times 0.2^{4} $$ \n",
    "\n",
    "$$E[X] = \\frac{r}{p} = \\frac{4}{0.2} $$"
   ]
  },
  {
   "cell_type": "code",
   "execution_count": 18,
   "metadata": {},
   "outputs": [],
   "source": [
    "def nbinom_fx(x,p, r):\n",
    "    return comb(x-1, r-1)*((1-p)**(x-r))*p**r"
   ]
  },
  {
   "cell_type": "code",
   "execution_count": 19,
   "metadata": {},
   "outputs": [
    {
     "name": "stdout",
     "output_type": "stream",
     "text": [
      "(a) 20\n",
      "(b) 0.044\n",
      "(c) 0.046\n",
      "(d) 0.041\n",
      "(e) 16  (Mean also would be considered Ok)\n"
     ]
    }
   ],
   "source": [
    "p, r = 0.2, 4\n",
    "a = r/p\n",
    "print(\"(a) %.f\"%a)\n",
    "b = nbinom_fx(20, p, r)\n",
    "print(\"(b) %.3f\"%b)\n",
    "c = nbinom_fx(19, p, r)\n",
    "print(\"(c) %.3f\"%c)\n",
    "d = nbinom_fx(21, p, r)\n",
    "print(\"(d) %.3f\"%d)\n",
    "e = r*(1-p)/p\n",
    "print(\"(e) %.f\"%e, \" (Mean also would be considered Ok)\")\n"
   ]
  },
  {
   "cell_type": "code",
   "execution_count": 21,
   "metadata": {},
   "outputs": [
    {
     "data": {
      "image/png": "[encoded data removed]",
      "text/plain": [
       "<Figure size 648x432 with 1 Axes>"
      ]
     },
     "metadata": {
      "needs_background": "light"
     },
     "output_type": "display_data"
    }
   ],
   "source": [
    "from scipy.stats import nbinom\n",
    "rv = nbinom(r, p)\n",
    "x = np.arange(0, 60)\n",
    "fx = rv.pmf(x)\n",
    "plot_pmf(x, fx)"
   ]
  },
  {
   "cell_type": "markdown",
   "metadata": {},
   "source": [
    "## Exercise 3-127 \n",
    "\n",
    "Heart failure is due to either natural occurrences\n",
    "(87%) or outside factors (13%). Outside factors are related to\n",
    "induced substances or foreign objects. Natural occurrences are\n",
    "caused by arterial blockage, disease, and infection. Assume\n",
    "that causes of heart failure for the individuals are independent.\n",
    "\n",
    "(a) What is the probability that the first patient with heart failure who enters the emergency room has the condition due\n",
    "to outside factors?\n",
    "\n",
    "(b) What is the probability that the third patient with heart failure who enters the emergency room is the first one due to\n",
    "outside factors?\n",
    "\n",
    "(c) What is the mean number of heart failure patients with the condition due to natural causes who enter the emergency room\n",
    "before the first patient with heart failure from outside factors?"
   ]
  },
  {
   "cell_type": "markdown",
   "metadata": {},
   "source": [
    "**Solution**\n",
    "\n",
    "$X$ is number of patients to get first patient wiht HF due to outside factors. (Geometric Distribution)\n",
    "\n",
    "**Note:**\n",
    "\n",
    "In geometric $X$ is number of trials for 1st success\n",
    "\n",
    "\n",
    "\n",
    "$p = 0.13$ \n",
    "\n",
    "$$f(x) = 0.87^{x-1} \\times 0.13$$"
   ]
  },
  {
   "cell_type": "code",
   "execution_count": 22,
   "metadata": {},
   "outputs": [],
   "source": [
    "def geom_fx(x, p):\n",
    "    return ((1-p)**(x-1))*p"
   ]
  },
  {
   "cell_type": "code",
   "execution_count": 23,
   "metadata": {},
   "outputs": [
    {
     "name": "stdout",
     "output_type": "stream",
     "text": [
      "(a) 0.13\n",
      "(b) 0.098\n",
      "(c) 7.69  = 8 Patients\n"
     ]
    }
   ],
   "source": [
    "p = 0.13\n",
    "a = geom_fx(1, p)\n",
    "print(\"(a) %.2f\"%a)\n",
    "b = geom_fx(3, p)\n",
    "print(\"(b) %.3f\"%b)\n",
    "c = 1/p\n",
    "print(\"(c) %.2f\"%c, \" = %d\"%round(c), \"Patients\")"
   ]
  },
  {
   "cell_type": "markdown",
   "metadata": {},
   "source": [
    "## Exercise 3-131 \n",
    "\n",
    "A fault-tolerant system that processes transactions for\n",
    "a financial services firm uses three separate computers. If the\n",
    "operating computer fails, one of the two spares can be immediately switched online. After the second computer fails, the last\n",
    "computer can be immediately switched online. Assume that the\n",
    "probability of a failure during any transaction is $10^{-8}$ and that\n",
    "the transactions can be considered to be independent events.\n",
    "\n",
    "(a) What is the mean number of transactions before all computers have failed?\n",
    "\n",
    "(b) What is the variance of the number of transactions before\n",
    "all computers have failed?\n"
   ]
  },
  {
   "cell_type": "markdown",
   "metadata": {},
   "source": [
    "**Solution**\n",
    "\n",
    "$X$ is number of transactions till the three computers fail with failure probability $p = 10^{-8}$\n",
    "\n",
    "$X$ is a negative binomial RV with r = 3 \n",
    "\n",
    "$$E[X] = \\frac{r}{p}$$\n",
    "$$Var(X) = \\frac{r(1-p)}{p^2}$$\n",
    "\n",
    "**Note**\n",
    "\n",
    "In binomial X is **number of success** in n trials \n",
    "\n",
    "In negative binomial X is **number of trials** to get r success  \n",
    "\n",
    "|   |Binomial | Negative Binomial|\n",
    "|---|---|---|\n",
    "| X | # success | # trials | \n",
    "| known | n = # trials | r = # success| \n",
    "\n",
    "In this example we have 3 failures ( # success ) and need to know number of transactions ( # trials) so it is negative binomial not binomial. "
   ]
  },
  {
   "cell_type": "code",
   "execution_count": 24,
   "metadata": {},
   "outputs": [
    {
     "name": "stdout",
     "output_type": "stream",
     "text": [
      "(a) 3e+08\n",
      "(b) 3e+16\n"
     ]
    }
   ],
   "source": [
    "r, p = 3, (1e-8)\n",
    "a = r/p\n",
    "print(\"(a) %.e\"%a)\n",
    "b = r*(1-p)/(p**2)\n",
    "print(\"(b) %.e\"%b)"
   ]
  },
  {
   "cell_type": "markdown",
   "metadata": {},
   "source": [
    "## Exercise 3-145 \n",
    "A research study uses 800 men under the age of 55.\n",
    "Suppose that 30% carry a marker on the male chromosome that\n",
    "indicates an increased risk for high blood pressure.\n",
    "\n",
    "(a) If 10 men are selected randomly and tested for the marker,\n",
    "what is the probability that exactly 1 man has the marker?\n",
    "\n",
    "(b) If 10 men are selected randomly and tested for the marker,\n",
    "what is the probability that more than 1 has the marker?"
   ]
  },
  {
   "cell_type": "markdown",
   "metadata": {},
   "source": [
    "**Solution**\n",
    "\n",
    "$X$ is number of men in the sample has the marker\n",
    "\n",
    "$X$ is hypergeometric RV with N = 800, p = 0.3, n = 10, $K = p\\times N = 240$ \n",
    "\n",
    "$$f(x) =  \\frac{\\begin{pmatrix}K \\\\ x\\end{pmatrix} \\begin{pmatrix}N-K \\\\ n-x\\end{pmatrix} }{\\begin{pmatrix}N \\\\ n\\end{pmatrix} } = \\frac{^{240}C_x \\times ^{560}C_{10-x}}{ ^{800}C_{10}}$$"
   ]
  },
  {
   "cell_type": "code",
   "execution_count": 25,
   "metadata": {},
   "outputs": [],
   "source": [
    "def hypergeom_fx(x, N, K, n):\n",
    "    num = comb(K, x)*comb(N-K, n-x)\n",
    "    den = comb(N, n)\n",
    "    return num/den"
   ]
  },
  {
   "cell_type": "code",
   "execution_count": 26,
   "metadata": {},
   "outputs": [
    {
     "name": "stdout",
     "output_type": "stream",
     "text": [
      "(a) 0.12\n",
      "(b) 0.852\n"
     ]
    }
   ],
   "source": [
    "N, K, n = 800, 240, 10\n",
    "a = hypergeom_fx(1, N, K, n)\n",
    "print(\"(a) %.2f\"%a)\n",
    " \n",
    "# P(X > 1) = 1 - P(X <= 1) \n",
    "b = 1-(hypergeom_fx(1, N, K, n)+hypergeom_fx(0, N, K, n))\n",
    "print(\"(b) %.3f\"%b)"
   ]
  },
  {
   "cell_type": "markdown",
   "metadata": {},
   "source": [
    "## Exercise 3-155\n",
    "Suppose that lesions are present at 5 sites among 50 in a\n",
    "patient. A biopsy selects 8 sites randomly (without replacement).\n",
    "\n",
    "(a) What is the probability that lesions are present in at least\n",
    "one selected site?\n",
    "\n",
    "(b) What is the probability that lesions are present in two or\n",
    "more selected sites?\n",
    "\n",
    "(c) Instead of eight sites, what is the minimum number of sites\n",
    "that need to be selected to meet the following objective?\n",
    "\n",
    "The probability that at least one site has lesions present is\n",
    "greater than or equal to 0.9."
   ]
  },
  {
   "cell_type": "markdown",
   "metadata": {},
   "source": [
    "**Solution**\n",
    "\n",
    "$X$ is number of sites with lesions in the sample \n",
    "\n",
    "Hyper Geometric RV\n",
    "\n",
    "$$ \\frac{\\begin{pmatrix}K \\\\ x\\end{pmatrix} \\begin{pmatrix}N-K \\\\ n-x\\end{pmatrix} }{\\begin{pmatrix}N \\\\ n\\end{pmatrix} }$$\n",
    "\n"
   ]
  },
  {
   "cell_type": "code",
   "execution_count": 27,
   "metadata": {},
   "outputs": [
    {
     "name": "stdout",
     "output_type": "stream",
     "text": [
      "(a) 0.599\n",
      "(b) 0.176\n"
     ]
    }
   ],
   "source": [
    "N = 50\n",
    "K = 5\n",
    "n = 8\n",
    "# At least one (one or more [f(1), f(2), ... f(5)]) = 1 - f(0)\n",
    "a = 1-hypergeom_fx(0, N, K, n)\n",
    "print(\"(a) %.3f\"%a)\n",
    "# Two or more [f(2), ...] = 1 - [f(1)+f(0)]\n",
    "b = 1-(hypergeom_fx(1, N, K, n)+hypergeom_fx(0, N, K, n))\n",
    "print(\"(b) %.3f\"%b)"
   ]
  },
  {
   "cell_type": "markdown",
   "metadata": {},
   "source": [
    "(c) $f(x \\geq 1 ) = 1 - f(x < 1) = 1 - f(0) \\geq 0.9$\n",
    "\n",
    "$f(0) \\leq 0.1 \\rightarrow \\frac{^{45}C_n}{^{50}C_n} \\leq 0.1$ "
   ]
  },
  {
   "cell_type": "code",
   "execution_count": 28,
   "metadata": {},
   "outputs": [
    {
     "name": "stdout",
     "output_type": "stream",
     "text": [
      "n =  15 : 0.153\n",
      "n =  16 : 0.131\n",
      "n =  17 : 0.112\n",
      "n =  18 : 0.095\n",
      "n =  19 : 0.080\n",
      "n =  20 : 0.067\n",
      "n =  21 : 0.056\n",
      "n =  22 : 0.046\n",
      "n =  23 : 0.038\n",
      "n =  24 : 0.031\n"
     ]
    }
   ],
   "source": [
    "# Lets try some values for n \n",
    "for i in range(15, 25):\n",
    "    print(\"n = \", i, \": %.3f\" %(comb(45, i)/comb(50, i)))"
   ]
  },
  {
   "cell_type": "markdown",
   "metadata": {},
   "source": [
    "So Minmum number sites need to be selected is 18"
   ]
  }
 ],
 "metadata": {
  "kernelspec": {
   "display_name": "Python 3",
   "language": "python",
   "name": "python3"
  },
  "language_info": {
   "codemirror_mode": {
    "name": "ipython",
    "version": 3
   },
   "file_extension": ".py",
   "mimetype": "text/x-python",
   "name": "python",
   "nbconvert_exporter": "python",
   "pygments_lexer": "ipython3",
   "version": "3.7.4"
  }
 },
 "nbformat": 4,
 "nbformat_minor": 2
}
