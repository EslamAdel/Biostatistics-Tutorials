{
 "cells": [
  {
   "cell_type": "markdown",
   "metadata": {},
   "source": [
    "# Sample space and counting methods \n",
    "## Exercises "
   ]
  },
  {
   "cell_type": "markdown",
   "metadata": {},
   "source": [
    "### Exercise #1\n",
    " Provide a reasonable description of the sample space\n",
    "\n",
    "* Each of four transmitted bits is classified as either in error\n",
    "or not in error\n",
    "* An ammeter that displays three digits is used to measure\n",
    "current in milliamperes.\n",
    "\n",
    "* An order for a computer system can specify memory of 4,\n",
    "8, or 12 gigabytes and disk storage of 200, 300, or 400 gigabytes.\n",
    "Describe the set of possible orders\n",
    "  "
   ]
  },
  {
   "cell_type": "markdown",
   "metadata": {},
   "source": [
    "### Exercise #2\n",
    "\n",
    "Four bits are transmitted over a digital communications channel. Each bit is either distorted or\n",
    "received without distortion. Let $A_i$ denote the event that the\n",
    "$i^{th}$ bit is distorted, i  = 1,2,3 and 4.\n",
    "\n",
    "(a) Describe the sample space for this experiment.\n",
    "\n",
    "(b) Are the $A_i$’s mutually exclusive?\n",
    "\n",
    "Describe the outcomes in each of the following events:\n",
    "\n",
    "(c) $A_1$ \n",
    "\n",
    "(d) $A_1'$\n",
    "\n",
    "(e) $A_1 \\cap A_2 \\cap A_3 \\cap A_4$ \n",
    " \n",
    "(f) ($A_1 \\cap A_2) \\cup (A_3 \\cap A_4)$ "
   ]
  },
  {
   "cell_type": "markdown",
   "metadata": {},
   "source": [
    "### Exercise #3\n",
    "\n",
    "A sample of two items is selected without replacement\n",
    "from a batch. Describe the (ordered) sample space for each of the\n",
    "following batches:\n",
    "\n",
    "(a) The batch contains the items {a, b, c, d  }.\n",
    "\n",
    "(b) The batch contains the items {a, b, c, d, e, f, g }.\n",
    "\n",
    "(c) The batch contains 4 defective items and 20 good items.\n",
    "\n",
    "(d) The batch contains 1 defective item and 20 good items."
   ]
  },
  {
   "cell_type": "markdown",
   "metadata": {},
   "source": [
    "### Exercise #4\n",
    "A computer system uses passwords that contain exactly\n",
    "eight characters, and each character is 1 of the 26 lowercase\n",
    "letters (a–z) or 26 uppercase letters (A–Z) or 10 integers (0–9).\n",
    "Let $Ω$ denote the set of all possible passwords, and let A and\n",
    "B denote the events that consist of passwords with only letters\n",
    "or only integers, respectively. Determine the number of passwords in each of the following events.\n",
    "\n",
    "(a) $Ω$ \n",
    "\n",
    "(b) $A$ \n",
    "\n",
    "(c) $A' \\cap  B'$\n",
    "\n",
    "(d) Passwords that contain at least 1 integer\n",
    "\n",
    "(e) Passwords that contain exactly 1 integer"
   ]
  },
  {
   "cell_type": "code",
   "execution_count": null,
   "metadata": {},
   "outputs": [],
   "source": []
  }
 ],
 "metadata": {
  "kernelspec": {
   "display_name": "Python 3",
   "language": "python",
   "name": "python3"
  },
  "language_info": {
   "codemirror_mode": {
    "name": "ipython",
    "version": 3
   },
   "file_extension": ".py",
   "mimetype": "text/x-python",
   "name": "python",
   "nbconvert_exporter": "python",
   "pygments_lexer": "ipython3",
   "version": "3.7.4"
  }
 },
 "nbformat": 4,
 "nbformat_minor": 2
}
