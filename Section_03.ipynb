{
 "cells": [
  {
   "cell_type": "markdown",
   "metadata": {},
   "source": [
    "# Introduction to Probability Theory Cont,"
   ]
  },
  {
   "cell_type": "markdown",
   "metadata": {},
   "source": [
    "## Counting Methods"
   ]
  },
  {
   "cell_type": "markdown",
   "metadata": {},
   "source": [
    "Tree method\n",
    "![](images/tree.png)"
   ]
  },
  {
   "cell_type": "markdown",
   "metadata": {},
   "source": [
    "### With Replacement\n",
    "The experement is restarts from initial state\n",
    "\n",
    "number of combinations is  $n^k$"
   ]
  },
  {
   "cell_type": "code",
   "execution_count": 4,
   "metadata": {},
   "outputs": [
    {
     "name": "stdout",
     "output_type": "stream",
     "text": [
      "Number of ways :  9\n"
     ]
    },
    {
     "data": {
      "text/plain": [
       "[('Green', 'Green'),\n",
       " ('Green', 'Blue'),\n",
       " ('Green', 'Red'),\n",
       " ('Blue', 'Green'),\n",
       " ('Blue', 'Blue'),\n",
       " ('Blue', 'Red'),\n",
       " ('Red', 'Green'),\n",
       " ('Red', 'Blue'),\n",
       " ('Red', 'Red')]"
      ]
     },
     "execution_count": 4,
     "metadata": {},
     "output_type": "execute_result"
    }
   ],
   "source": [
    "from itertools import product as prod\n",
    "S = {'Red', 'Green', 'Blue'}\n",
    "n = 2 # Grouping in pairs Order matters\n",
    "possible_outcomes = list(prod(S, repeat=n))\n",
    "print(\"Number of ways : \", len(possible_outcomes))\n",
    "possible_outcomes"
   ]
  },
  {
   "cell_type": "markdown",
   "metadata": {},
   "source": [
    "### Without Replacement\n",
    "* Permutaions\n",
    "* Combinations"
   ]
  },
  {
   "cell_type": "markdown",
   "metadata": {},
   "source": [
    "#### Permutations\n",
    "Finding possible  ways of ordering set members in a sequence and order matters\n",
    "\n",
    " $$^{n}P_{k} =\\frac{n!}{(n-k)!}$$."
   ]
  },
  {
   "cell_type": "code",
   "execution_count": 5,
   "metadata": {},
   "outputs": [
    {
     "name": "stdout",
     "output_type": "stream",
     "text": [
      "Number of ways : 3!/(3-2)! =   6\n"
     ]
    },
    {
     "data": {
      "text/plain": [
       "[('Green', 'Blue'),\n",
       " ('Green', 'Red'),\n",
       " ('Blue', 'Green'),\n",
       " ('Blue', 'Red'),\n",
       " ('Red', 'Green'),\n",
       " ('Red', 'Blue')]"
      ]
     },
     "execution_count": 5,
     "metadata": {},
     "output_type": "execute_result"
    }
   ],
   "source": [
    "from itertools import permutations\n",
    "S = {'Red', 'Green', 'Blue'}\n",
    "n = 2 # Grouping in pairs Order matters\n",
    "possible_outcomes = list(permutations(S, 2))\n",
    "print(\"Number of ways : 3!/(3-2)! =  \", len(possible_outcomes))\n",
    "possible_outcomes"
   ]
  },
  {
   "cell_type": "markdown",
   "metadata": {},
   "source": [
    "#### Combinations\n",
    "Finding possible  ways of ordering set members in a sequence and order doesn't matter\n",
    "\n",
    " $$^{n}C_{k} =\\frac{n!}{k!(n-k)!}$$."
   ]
  },
  {
   "cell_type": "code",
   "execution_count": 6,
   "metadata": {},
   "outputs": [
    {
     "name": "stdout",
     "output_type": "stream",
     "text": [
      "Number of ways : 3!/(2!*(3-2)!)  3\n"
     ]
    },
    {
     "data": {
      "text/plain": [
       "[('Green', 'Blue'), ('Green', 'Red'), ('Blue', 'Red')]"
      ]
     },
     "execution_count": 6,
     "metadata": {},
     "output_type": "execute_result"
    }
   ],
   "source": [
    "from itertools import combinations\n",
    "S = {'Red', 'Green', 'Blue'}\n",
    "n = 2 # Grouping in pairs order doesn't matter\n",
    "possible_outcomes = list(combinations(S, 2))\n",
    "print(\"Number of ways : 3!/(2!*(3-2)!) \", len(possible_outcomes))\n",
    "possible_outcomes"
   ]
  },
  {
   "cell_type": "markdown",
   "metadata": {},
   "source": [
    "## Example (With replacement)\n",
    "An Urn contains 2 red balls, and 3 black balls. Balls are chosen in succession. The first ball is\n",
    "returned to the urn before the second ball is chosen. Each ball is chosen randomly. \n",
    "\n",
    "* What is the probabilty of selecting two successive black balls ? \n",
    "* What is the probabilty of selecting three successive red balls ?\n",
    "* What is the probabilty of selecting one black and two red balls ?\n"
   ]
  },
  {
   "cell_type": "code",
   "execution_count": 7,
   "metadata": {},
   "outputs": [
    {
     "name": "stdout",
     "output_type": "stream",
     "text": [
      "Num outcomes :  4\n"
     ]
    },
    {
     "data": {
      "text/plain": [
       "[('RED', 'RED'), ('RED', 'BLACK'), ('BLACK', 'RED'), ('BLACK', 'BLACK')]"
      ]
     },
     "execution_count": 7,
     "metadata": {},
     "output_type": "execute_result"
    }
   ],
   "source": [
    "S = {'RED', 'BLACK'}\n",
    "probs = {'RED':2/5, 'BLACK':3/5 }\n",
    "n = 2\n",
    "possible_outcomes = list(prod(S, repeat=n))\n",
    "print(\"Num outcomes : \", len(possible_outcomes))\n",
    "possible_outcomes"
   ]
  },
  {
   "cell_type": "code",
   "execution_count": 8,
   "metadata": {},
   "outputs": [
    {
     "name": "stdout",
     "output_type": "stream",
     "text": [
      "Event : Probability\n",
      "------------------------------\n",
      "('RED', 'RED') : 0.16\n",
      "('RED', 'BLACK') : 0.24\n",
      "('BLACK', 'RED') : 0.24\n",
      "('BLACK', 'BLACK') : 0.36\n"
     ]
    }
   ],
   "source": [
    "probs_of_possible_outcomes = []\n",
    "import numpy as np \n",
    "print(\"Event : Probability\")\n",
    "print('-'*30)\n",
    "for event in possible_outcomes:\n",
    "    event_probs = [probs[e] for e in event]\n",
    "    prob = np.prod(event_probs)\n",
    "    print(\"%s : %0.2f\"%(event, prob))\n",
    "    probs_of_possible_outcomes.append(prob)"
   ]
  },
  {
   "cell_type": "code",
   "execution_count": 9,
   "metadata": {},
   "outputs": [
    {
     "data": {
      "text/plain": [
       "1.0"
      ]
     },
     "execution_count": 9,
     "metadata": {},
     "output_type": "execute_result"
    }
   ],
   "source": [
    "sum(probs_of_possible_outcomes)"
   ]
  },
  {
   "cell_type": "code",
   "execution_count": 10,
   "metadata": {},
   "outputs": [
    {
     "name": "stdout",
     "output_type": "stream",
     "text": [
      "0.28800000000000003\n"
     ]
    }
   ],
   "source": [
    "two_successive_black = 0.6*0.6\n",
    "three_successive_red = 0.4*0.4*0.4\n",
    "one_black_two_red = 0.6*0.4*0.4*3\n",
    "print(one_black_two_red)"
   ]
  },
  {
   "cell_type": "markdown",
   "metadata": {},
   "source": [
    "## Example (Without Replacement and ordered)\n",
    "Five balls numbered 1, 2, 3, 4, 5 are drawn from an urn without replacement. What is the probability\n",
    "that they are drawn in the same order as their number?"
   ]
  },
  {
   "cell_type": "code",
   "execution_count": 11,
   "metadata": {},
   "outputs": [
    {
     "data": {
      "text/plain": [
       "{1, 2, 3, 4, 5}"
      ]
     },
     "execution_count": 11,
     "metadata": {},
     "output_type": "execute_result"
    }
   ],
   "source": [
    "S = {a for a in range(1,6)}\n",
    "S"
   ]
  },
  {
   "cell_type": "code",
   "execution_count": 12,
   "metadata": {},
   "outputs": [
    {
     "data": {
      "text/plain": [
       "120"
      ]
     },
     "execution_count": 12,
     "metadata": {},
     "output_type": "execute_result"
    }
   ],
   "source": [
    "import math\n",
    "math.factorial(5)"
   ]
  },
  {
   "cell_type": "code",
   "execution_count": 13,
   "metadata": {},
   "outputs": [
    {
     "name": "stdout",
     "output_type": "stream",
     "text": [
      "Num of possible Outcomes 5P5 = 5!/(5-5)! :  120\n"
     ]
    },
    {
     "data": {
      "text/plain": [
       "0.008333333333333333"
      ]
     },
     "execution_count": 13,
     "metadata": {},
     "output_type": "execute_result"
    }
   ],
   "source": [
    "all_possible_outcomes = list(permutations(S, 5))\n",
    "print(\"Num of possible Outcomes 5P5 = 5!/(5-5)! : \", len(all_possible_outcomes))\n",
    "prob = 1/len(all_possible_outcomes)\n",
    "prob"
   ]
  },
  {
   "cell_type": "code",
   "execution_count": 14,
   "metadata": {},
   "outputs": [
    {
     "data": {
      "text/plain": [
       "[(1, 2, 3, 4, 5),\n",
       " (1, 2, 3, 5, 4),\n",
       " (1, 2, 4, 3, 5),\n",
       " (1, 2, 4, 5, 3),\n",
       " (1, 2, 5, 3, 4),\n",
       " (1, 2, 5, 4, 3),\n",
       " (1, 3, 2, 4, 5),\n",
       " (1, 3, 2, 5, 4),\n",
       " (1, 3, 4, 2, 5),\n",
       " (1, 3, 4, 5, 2),\n",
       " (1, 3, 5, 2, 4),\n",
       " (1, 3, 5, 4, 2),\n",
       " (1, 4, 2, 3, 5),\n",
       " (1, 4, 2, 5, 3),\n",
       " (1, 4, 3, 2, 5),\n",
       " (1, 4, 3, 5, 2),\n",
       " (1, 4, 5, 2, 3),\n",
       " (1, 4, 5, 3, 2),\n",
       " (1, 5, 2, 3, 4),\n",
       " (1, 5, 2, 4, 3),\n",
       " (1, 5, 3, 2, 4),\n",
       " (1, 5, 3, 4, 2),\n",
       " (1, 5, 4, 2, 3),\n",
       " (1, 5, 4, 3, 2),\n",
       " (2, 1, 3, 4, 5),\n",
       " (2, 1, 3, 5, 4),\n",
       " (2, 1, 4, 3, 5),\n",
       " (2, 1, 4, 5, 3),\n",
       " (2, 1, 5, 3, 4),\n",
       " (2, 1, 5, 4, 3),\n",
       " (2, 3, 1, 4, 5),\n",
       " (2, 3, 1, 5, 4),\n",
       " (2, 3, 4, 1, 5),\n",
       " (2, 3, 4, 5, 1),\n",
       " (2, 3, 5, 1, 4),\n",
       " (2, 3, 5, 4, 1),\n",
       " (2, 4, 1, 3, 5),\n",
       " (2, 4, 1, 5, 3),\n",
       " (2, 4, 3, 1, 5),\n",
       " (2, 4, 3, 5, 1),\n",
       " (2, 4, 5, 1, 3),\n",
       " (2, 4, 5, 3, 1),\n",
       " (2, 5, 1, 3, 4),\n",
       " (2, 5, 1, 4, 3),\n",
       " (2, 5, 3, 1, 4),\n",
       " (2, 5, 3, 4, 1),\n",
       " (2, 5, 4, 1, 3),\n",
       " (2, 5, 4, 3, 1),\n",
       " (3, 1, 2, 4, 5),\n",
       " (3, 1, 2, 5, 4),\n",
       " (3, 1, 4, 2, 5),\n",
       " (3, 1, 4, 5, 2),\n",
       " (3, 1, 5, 2, 4),\n",
       " (3, 1, 5, 4, 2),\n",
       " (3, 2, 1, 4, 5),\n",
       " (3, 2, 1, 5, 4),\n",
       " (3, 2, 4, 1, 5),\n",
       " (3, 2, 4, 5, 1),\n",
       " (3, 2, 5, 1, 4),\n",
       " (3, 2, 5, 4, 1),\n",
       " (3, 4, 1, 2, 5),\n",
       " (3, 4, 1, 5, 2),\n",
       " (3, 4, 2, 1, 5),\n",
       " (3, 4, 2, 5, 1),\n",
       " (3, 4, 5, 1, 2),\n",
       " (3, 4, 5, 2, 1),\n",
       " (3, 5, 1, 2, 4),\n",
       " (3, 5, 1, 4, 2),\n",
       " (3, 5, 2, 1, 4),\n",
       " (3, 5, 2, 4, 1),\n",
       " (3, 5, 4, 1, 2),\n",
       " (3, 5, 4, 2, 1),\n",
       " (4, 1, 2, 3, 5),\n",
       " (4, 1, 2, 5, 3),\n",
       " (4, 1, 3, 2, 5),\n",
       " (4, 1, 3, 5, 2),\n",
       " (4, 1, 5, 2, 3),\n",
       " (4, 1, 5, 3, 2),\n",
       " (4, 2, 1, 3, 5),\n",
       " (4, 2, 1, 5, 3),\n",
       " (4, 2, 3, 1, 5),\n",
       " (4, 2, 3, 5, 1),\n",
       " (4, 2, 5, 1, 3),\n",
       " (4, 2, 5, 3, 1),\n",
       " (4, 3, 1, 2, 5),\n",
       " (4, 3, 1, 5, 2),\n",
       " (4, 3, 2, 1, 5),\n",
       " (4, 3, 2, 5, 1),\n",
       " (4, 3, 5, 1, 2),\n",
       " (4, 3, 5, 2, 1),\n",
       " (4, 5, 1, 2, 3),\n",
       " (4, 5, 1, 3, 2),\n",
       " (4, 5, 2, 1, 3),\n",
       " (4, 5, 2, 3, 1),\n",
       " (4, 5, 3, 1, 2),\n",
       " (4, 5, 3, 2, 1),\n",
       " (5, 1, 2, 3, 4),\n",
       " (5, 1, 2, 4, 3),\n",
       " (5, 1, 3, 2, 4),\n",
       " (5, 1, 3, 4, 2),\n",
       " (5, 1, 4, 2, 3),\n",
       " (5, 1, 4, 3, 2),\n",
       " (5, 2, 1, 3, 4),\n",
       " (5, 2, 1, 4, 3),\n",
       " (5, 2, 3, 1, 4),\n",
       " (5, 2, 3, 4, 1),\n",
       " (5, 2, 4, 1, 3),\n",
       " (5, 2, 4, 3, 1),\n",
       " (5, 3, 1, 2, 4),\n",
       " (5, 3, 1, 4, 2),\n",
       " (5, 3, 2, 1, 4),\n",
       " (5, 3, 2, 4, 1),\n",
       " (5, 3, 4, 1, 2),\n",
       " (5, 3, 4, 2, 1),\n",
       " (5, 4, 1, 2, 3),\n",
       " (5, 4, 1, 3, 2),\n",
       " (5, 4, 2, 1, 3),\n",
       " (5, 4, 2, 3, 1),\n",
       " (5, 4, 3, 1, 2),\n",
       " (5, 4, 3, 2, 1)]"
      ]
     },
     "execution_count": 14,
     "metadata": {},
     "output_type": "execute_result"
    }
   ],
   "source": [
    "all_possible_outcomes"
   ]
  },
  {
   "cell_type": "markdown",
   "metadata": {},
   "source": [
    "## EXample (Without replacement and  not ordered)\n",
    "How many subsets of size 3 can be made from {A, B, C, D}?\n",
    "\n",
    "**Correction:**\n",
    "{A, B, C, D, E} => {A, B, C, D}\n"
   ]
  },
  {
   "cell_type": "code",
   "execution_count": 15,
   "metadata": {},
   "outputs": [
    {
     "name": "stdout",
     "output_type": "stream",
     "text": [
      "Number of sets 4C3 = 4!/(3!*(4-3)!):  4\n"
     ]
    },
    {
     "data": {
      "text/plain": [
       "[('C', 'A', 'D'), ('C', 'A', 'B'), ('C', 'D', 'B'), ('A', 'D', 'B')]"
      ]
     },
     "execution_count": 15,
     "metadata": {},
     "output_type": "execute_result"
    }
   ],
   "source": [
    "S = {'A', 'B', 'C', 'D'}\n",
    "all_outcomes = list(combinations(S, 3))\n",
    "print(\"Number of sets 4C3 = 4!/(3!*(4-3)!): \", len(all_outcomes))\n",
    "all_outcomes"
   ]
  },
  {
   "cell_type": "markdown",
   "metadata": {},
   "source": [
    "## Conditional Probability \n",
    "\n",
    "* Additional Information (Prior knowledge)\n",
    "* Relative probabilities\n",
    "\n",
    "$$P(A|B) = \\frac{P(A\\cap B)}{P(B)}$$\n",
    "\n",
    "\n"
   ]
  },
  {
   "cell_type": "markdown",
   "metadata": {},
   "source": [
    "![](images/statistics-Conditional-Probability.png)"
   ]
  },
  {
   "cell_type": "markdown",
   "metadata": {},
   "source": [
    "## Exercise 2-99"
   ]
  },
  {
   "cell_type": "markdown",
   "metadata": {},
   "source": [
    "Disks of polycarbonate plastic from a supplier are\n",
    "analyzed for scratch and shock resistance. The results from 100\n",
    "disks are summarized as follows:\n",
    "\n",
    "![](images/2-99.png)\n",
    "\n",
    "Let A denote the event that a disk has high shock resistance,\n",
    "and let B denote the event that a disk has high scratch resistance. Determine the following probabilities:\n",
    "\n",
    "\n",
    "(a) P(A)  \n",
    "\n",
    "(b) P(B)\n",
    "\n",
    "(c) P(A| B) \n",
    "\n",
    "(d) P (B|A)"
   ]
  },
  {
   "cell_type": "markdown",
   "metadata": {},
   "source": [
    "**Solution**"
   ]
  },
  {
   "cell_type": "code",
   "execution_count": 16,
   "metadata": {},
   "outputs": [],
   "source": [
    "space = {70, 9, 16, 5}\n",
    "A = {70, 16}\n",
    "B = {70, 9}"
   ]
  },
  {
   "cell_type": "code",
   "execution_count": 17,
   "metadata": {},
   "outputs": [],
   "source": [
    "def prob(X):\n",
    "    return sum(X)/sum(space)\n",
    "\n",
    "def cond_prob(X, Y):\n",
    "    return prob(X & Y) / prob(Y)"
   ]
  },
  {
   "cell_type": "code",
   "execution_count": 18,
   "metadata": {},
   "outputs": [
    {
     "name": "stdout",
     "output_type": "stream",
     "text": [
      "(a) \n",
      "===\n",
      "P(A) =  0.86\n"
     ]
    }
   ],
   "source": [
    "print(\"(a) \\n===\")\n",
    "print(\"P(A) = \", prob(A))"
   ]
  },
  {
   "cell_type": "code",
   "execution_count": 19,
   "metadata": {},
   "outputs": [
    {
     "name": "stdout",
     "output_type": "stream",
     "text": [
      "\n",
      "(b) \n",
      "===\n",
      "P(B) =  0.79\n"
     ]
    }
   ],
   "source": [
    "# b\n",
    "print(\"\\n(b) \\n===\")\n",
    "print(\"P(B) = \", prob(B))"
   ]
  },
  {
   "cell_type": "code",
   "execution_count": 20,
   "metadata": {},
   "outputs": [
    {
     "name": "stdout",
     "output_type": "stream",
     "text": [
      "(c) \n",
      "===\n",
      "P(A| B) = 0.886\n"
     ]
    }
   ],
   "source": [
    "# c \n",
    "print(\"(c) \\n===\")\n",
    "print(\"P(A| B) = %0.3f\"%cond_prob(A, B))"
   ]
  },
  {
   "cell_type": "code",
   "execution_count": 21,
   "metadata": {},
   "outputs": [
    {
     "name": "stdout",
     "output_type": "stream",
     "text": [
      "(D) \n",
      "===\n",
      "P(B| A) = 0.814\n"
     ]
    }
   ],
   "source": [
    "# D \n",
    "print(\"(D) \\n===\")\n",
    "print(\"P(B| A) = %0.3f\"%cond_prob(B, A))"
   ]
  },
  {
   "cell_type": "markdown",
   "metadata": {},
   "source": [
    "## Exercise 2-103\n",
    "The following table summarizes the analysis of samples of galvanized steel for coating weight and surface roughness\n",
    "\n",
    "![](images/2-103.png)\n",
    "\n",
    "(a) If the coating weight of a sample is high, what is the\n",
    "probability that the surface roughness is high?\n",
    "\n",
    "(b) If the surface roughness of a sample is high, what is the\n",
    "probability that the coating weight is high?\n",
    "\n",
    "(c) If the surface roughness of a sample is low, what is the\n",
    "probability that the coating weight is low?\n"
   ]
  },
  {
   "cell_type": "markdown",
   "metadata": {},
   "source": [
    "**Solution**\n",
    "\n",
    "Let\n",
    "\n",
    "**A:** coating weight is high\n",
    "\n",
    "**B:** surface roughness is high\n"
   ]
  },
  {
   "cell_type": "code",
   "execution_count": 22,
   "metadata": {},
   "outputs": [],
   "source": [
    "space = {12, 16, 88, 34}\n",
    "A = {12, 88}\n",
    "B = {12, 16}"
   ]
  },
  {
   "cell_type": "markdown",
   "metadata": {},
   "source": [
    "(a)\n",
    "\n",
    "If the (coating weight of a sample is high) **A**, what is the probability that (the surface roughness is high) **B**?\n",
    "\n",
    "We need to find P(B|A)\n",
    "\n",
    "$$P(B|A) = \\frac{P(B\\cap A)}{P(A)}$$"
   ]
  },
  {
   "cell_type": "code",
   "execution_count": 23,
   "metadata": {},
   "outputs": [
    {
     "name": "stdout",
     "output_type": "stream",
     "text": [
      "P(B|A) = 0.120\n"
     ]
    }
   ],
   "source": [
    "print(\"P(B|A) = %0.3f\"%cond_prob(B, A))"
   ]
  },
  {
   "cell_type": "markdown",
   "metadata": {},
   "source": [
    "(b)\n",
    "\n",
    "If the (surface roughness of a sample is high) **B** , what is the probability that (the coating weight is high) **A**?\n",
    "\n",
    "We need to find P(A|B)\n",
    "\n"
   ]
  },
  {
   "cell_type": "code",
   "execution_count": 24,
   "metadata": {},
   "outputs": [
    {
     "name": "stdout",
     "output_type": "stream",
     "text": [
      "P(A|B) = 0.429\n"
     ]
    }
   ],
   "source": [
    "print(\"P(A|B) = %0.3f\"%cond_prob(A, B))"
   ]
  },
  {
   "cell_type": "markdown",
   "metadata": {},
   "source": [
    "(c) \n",
    "\n",
    "If (the surface roughness of a sample is low) **B'**, what is the\n",
    "probability that (the coating weight is low) **A'**?\n",
    "\n",
    "We need to find P(A'|B')"
   ]
  },
  {
   "cell_type": "code",
   "execution_count": 25,
   "metadata": {},
   "outputs": [],
   "source": [
    "Ac = space - A\n",
    "Bc = space - B"
   ]
  },
  {
   "cell_type": "code",
   "execution_count": 26,
   "metadata": {},
   "outputs": [
    {
     "name": "stdout",
     "output_type": "stream",
     "text": [
      "P(A'|B') = 0.279\n"
     ]
    }
   ],
   "source": [
    "print(\"P(A'|B') = %0.3f\"%cond_prob(Ac, Bc))"
   ]
  },
  {
   "cell_type": "markdown",
   "metadata": {},
   "source": [
    "## Exercise 2-107\n",
    "A lot of 100 semiconductor chips contains 20 that\n",
    "are defective. Two are selected randomly, without replacement,\n",
    "from the lot.\n",
    "\n",
    "(a) What is the probability that the first one selected is\n",
    "defective?\n",
    "\n",
    "(b) What is the probability that the second one selected is\n",
    "defective given that the first one was defective?\n",
    "\n",
    "(c) What is the probability that both are defective?\n",
    "\n",
    "(d) How does the answer to part (b) change if chips selected\n",
    "were replaced prior to the next selection?"
   ]
  },
  {
   "cell_type": "markdown",
   "metadata": {},
   "source": [
    "**Solution**\n",
    "\n",
    "let Di denotes the selected chip is defective for selection #i where i = 1, 2, 3\n",
    "\n",
    "(a)"
   ]
  },
  {
   "cell_type": "code",
   "execution_count": 27,
   "metadata": {},
   "outputs": [],
   "source": [
    "space = {20, 80}\n",
    "D1 = {20}"
   ]
  },
  {
   "cell_type": "code",
   "execution_count": 28,
   "metadata": {},
   "outputs": [
    {
     "name": "stdout",
     "output_type": "stream",
     "text": [
      "P(D1) =  0.2\n"
     ]
    }
   ],
   "source": [
    "# First Trial \n",
    "PD1 = prob(D1)\n",
    "print(\"P(D1) = \", PD1)"
   ]
  },
  {
   "cell_type": "markdown",
   "metadata": {},
   "source": [
    "(b)\n",
    "\n",
    "Given that first selected chip was defective (No replacement) the space will change {19, 80}\n",
    "\n",
    "as defective parts will decrease by one"
   ]
  },
  {
   "cell_type": "code",
   "execution_count": 29,
   "metadata": {},
   "outputs": [
    {
     "name": "stdout",
     "output_type": "stream",
     "text": [
      "P(D2|D1) =  0.1919191919191919\n"
     ]
    }
   ],
   "source": [
    "space = {19, 80}\n",
    "D2 = {19}\n",
    "PD2_giv_D1 = prob(D2)\n",
    "print(\"P(D2|D1) = \", PD2_giv_D1)"
   ]
  },
  {
   "cell_type": "markdown",
   "metadata": {},
   "source": [
    "(c)\n",
    "\n",
    "$ P(D_1, D_2) \\rightarrow P(D_1 \\cap D_2) = P(D_1 | D_2) \\times P(D2) =  P(D_2 | D_1) \\times P(D_1)$\n",
    "\n",
    "So \n",
    "\n",
    "$ P(D_1, D_2) =  P(D_2 | D_1) \\times P(D_1)$\n"
   ]
  },
  {
   "cell_type": "code",
   "execution_count": 30,
   "metadata": {},
   "outputs": [
    {
     "name": "stdout",
     "output_type": "stream",
     "text": [
      "P(D1 , D2) =  0.03838383838383838\n"
     ]
    }
   ],
   "source": [
    "P_D1_and_D2 = PD2_giv_D1 * PD1\n",
    "print(\"P(D1 , D2) = \", P_D1_and_D2)"
   ]
  },
  {
   "cell_type": "markdown",
   "metadata": {},
   "source": [
    "(d)\n",
    "\n",
    "If replacement exists so space will not change "
   ]
  },
  {
   "cell_type": "code",
   "execution_count": 31,
   "metadata": {},
   "outputs": [
    {
     "name": "stdout",
     "output_type": "stream",
     "text": [
      "P(D2|D1) =  0.2\n"
     ]
    }
   ],
   "source": [
    "space = {20, 80}\n",
    "D2 = {20}\n",
    "print(\"P(D2|D1) = \", prob(D2))"
   ]
  }
 ],
 "metadata": {
  "kernelspec": {
   "display_name": "Python 3",
   "language": "python",
   "name": "python3"
  },
  "language_info": {
   "codemirror_mode": {
    "name": "ipython",
    "version": 3
   },
   "file_extension": ".py",
   "mimetype": "text/x-python",
   "name": "python",
   "nbconvert_exporter": "python",
   "pygments_lexer": "ipython3",
   "version": "3.7.4"
  }
 },
 "nbformat": 4,
 "nbformat_minor": 2
}
