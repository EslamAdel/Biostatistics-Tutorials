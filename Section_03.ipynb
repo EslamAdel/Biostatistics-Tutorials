{
 "cells": [
  {
   "cell_type": "markdown",
   "metadata": {},
   "source": [
    "# Sample space and counting methods \n",
    "## Exercises "
   ]
  },
  {
   "cell_type": "markdown",
   "metadata": {},
   "source": [
    "### Exercise #1\n",
    " Provide a reasonable description of the sample space\n",
    "\n",
    "* Each of four transmitted bits is classified as either in error\n",
    "or not in error"
   ]
  },
  {
   "cell_type": "code",
   "execution_count": 1,
   "metadata": {},
   "outputs": [],
   "source": [
    "from itertools import product as prod\n",
    "s = {'e', 'n'}\n",
    "space = list(prod(s, repeat=4))\n",
    "space = [''.join(s) for s in space]\n",
    "print(\"Total number of samples 2^4 = \", len(space))\n",
    "for i in range(0,16,4):\n",
    "    print(space[i:i+4])"
   ]
  },
  {
   "cell_type": "markdown",
   "metadata": {},
   "source": [
    "* An ammeter that displays three digits is used to measure\n",
    "current in milliamperes.\n"
   ]
  },
  {
   "cell_type": "code",
   "execution_count": 2,
   "metadata": {},
   "outputs": [],
   "source": [
    "s = {a for a in range(0,10)}\n",
    "space = list(prod(s, repeat=3))\n",
    "print(\"Total number of samples 10^3 = \", len(space))\n",
    "\n",
    "print(\"The sample Space : \\n\", \"=\"*15)\n",
    "\n",
    "for i in range(5):\n",
    "    print(space[i])\n",
    "\n",
    "for i in range(5):\n",
    "    print(\".\"*8)\n",
    "    \n",
    "for i in range(-5,0):\n",
    "    print(space[i])\n"
   ]
  },
  {
   "cell_type": "markdown",
   "metadata": {},
   "source": [
    "\n",
    "* An order for a computer system can specify memory of 4,\n",
    "8, or 12 gigabytes and disk storage of 200, 300, or 400 gigabytes.\n",
    "Describe the set of possible orders\n",
    "  "
   ]
  },
  {
   "cell_type": "code",
   "execution_count": 3,
   "metadata": {},
   "outputs": [],
   "source": [
    "s1 = {4, 8, 12}\n",
    "s2 = {200, 300, 400}\n",
    "\n",
    "space = list(prod(s1, s2))\n",
    "print(\"Total number of samples 3^3 = \", len(space))\n",
    "\n",
    "print(\"The sample Space : \\n\", \"=\"*15)\n",
    "for i in range(0, 9, 3):\n",
    "    print(space[i:i+3])\n"
   ]
  },
  {
   "cell_type": "markdown",
   "metadata": {},
   "source": [
    "### Exercise #2\n",
    "\n",
    "Four bits are transmitted over a digital communications channel. Each bit is either distorted or\n",
    "received without distortion. Let $A_i$ denote the event that the\n",
    "$i^{th}$ bit is distorted, i  = 1,2,3 and 4.\n",
    "\n",
    "(a) Describe the sample space for this experiment.\n",
    "\n",
    "(b) Are the $A_i$’s mutually exclusive?\n",
    "\n",
    "Describe the outcomes in each of the following events:\n",
    "\n",
    "(c) $A_1$ \n",
    "\n",
    "(d) $A_1'$\n",
    "\n",
    "(e) $A_1 \\cap A_2 \\cap A_3 \\cap A_4$ \n",
    " \n",
    "(f) ($A_1 \\cap A_2) \\cup (A_3 \\cap A_4)$ "
   ]
  },
  {
   "cell_type": "markdown",
   "metadata": {},
   "source": [
    "**Solution**"
   ]
  },
  {
   "cell_type": "markdown",
   "metadata": {},
   "source": [
    "(a) Describe the sample space for this experiment."
   ]
  },
  {
   "cell_type": "code",
   "execution_count": 4,
   "metadata": {},
   "outputs": [],
   "source": [
    "from itertools import product as prod\n",
    "s = {'d', 'r'}\n",
    "space = list(prod(s, repeat=4))\n",
    "print(\"Total number of samples 2^4 = \", len(space))\n",
    "space = [''.join(s) for s in space]\n",
    "for i in range(0,16,4):\n",
    "    print(space[i:i+4])"
   ]
  },
  {
   "cell_type": "markdown",
   "metadata": {},
   "source": [
    "(b) Are the  𝐴𝑖 ’s mutually exclusive?"
   ]
  },
  {
   "cell_type": "code",
   "execution_count": 5,
   "metadata": {},
   "outputs": [],
   "source": [
    "def get_Ai(space, i):\n",
    "    Ai = set()\n",
    "    for e in space:\n",
    "        if e[i-1] == 'd':\n",
    "            Ai.add(e)\n",
    "    return Ai"
   ]
  },
  {
   "cell_type": "code",
   "execution_count": 6,
   "metadata": {},
   "outputs": [
    {
     "data": {
      "text/plain": [
       "{'dddd', 'dddr', 'ddrd', 'ddrr', 'drdd', 'drdr', 'drrd', 'drrr'}"
      ]
     },
     "execution_count": 6,
     "metadata": {},
     "output_type": "execute_result"
    }
   ],
   "source": [
    "A1 = get_Ai(space, 1)\n",
    "A1"
   ]
  },
  {
   "cell_type": "code",
   "execution_count": 7,
   "metadata": {},
   "outputs": [
    {
     "data": {
      "text/plain": [
       "{'dddd', 'dddr', 'ddrd', 'ddrr', 'rddd', 'rddr', 'rdrd', 'rdrr'}"
      ]
     },
     "execution_count": 7,
     "metadata": {},
     "output_type": "execute_result"
    }
   ],
   "source": [
    "A2 = get_Ai(space, 2)\n",
    "A2"
   ]
  },
  {
   "cell_type": "code",
   "execution_count": 8,
   "metadata": {},
   "outputs": [
    {
     "data": {
      "text/plain": [
       "{'dddd', 'dddr', 'ddrd', 'ddrr'}"
      ]
     },
     "execution_count": 8,
     "metadata": {},
     "output_type": "execute_result"
    }
   ],
   "source": [
    "A1.intersection(A2)"
   ]
  },
  {
   "cell_type": "markdown",
   "metadata": {},
   "source": [
    "A1 and A2 are not matually execlusive"
   ]
  },
  {
   "cell_type": "markdown",
   "metadata": {},
   "source": [
    "(c) $A_1$ \n"
   ]
  },
  {
   "cell_type": "code",
   "execution_count": 9,
   "metadata": {},
   "outputs": [
    {
     "data": {
      "text/plain": [
       "{'dddd', 'dddr', 'ddrd', 'ddrr', 'drdd', 'drdr', 'drrd', 'drrr'}"
      ]
     },
     "execution_count": 9,
     "metadata": {},
     "output_type": "execute_result"
    }
   ],
   "source": [
    "A1"
   ]
  },
  {
   "cell_type": "markdown",
   "metadata": {},
   "source": [
    "(d) $A_1'$"
   ]
  },
  {
   "cell_type": "code",
   "execution_count": 10,
   "metadata": {},
   "outputs": [
    {
     "data": {
      "text/plain": [
       "{'rddd', 'rddr', 'rdrd', 'rdrr', 'rrdd', 'rrdr', 'rrrd', 'rrrr'}"
      ]
     },
     "execution_count": 10,
     "metadata": {},
     "output_type": "execute_result"
    }
   ],
   "source": [
    "A1_c = set(space) - A1\n",
    "A1_c"
   ]
  },
  {
   "cell_type": "markdown",
   "metadata": {},
   "source": [
    "(e) $A_1 \\cap A_2 \\cap A_3 \\cap A_4$ \n",
    " \n"
   ]
  },
  {
   "cell_type": "code",
   "execution_count": 11,
   "metadata": {},
   "outputs": [
    {
     "data": {
      "text/plain": [
       "{'dddd'}"
      ]
     },
     "execution_count": 11,
     "metadata": {},
     "output_type": "execute_result"
    }
   ],
   "source": [
    "A3 = get_Ai(space, 3)\n",
    "A4 = get_Ai(space, 4)\n",
    "result = A1.intersection(A2).intersection(A3).intersection(A4)\n",
    "result"
   ]
  },
  {
   "cell_type": "markdown",
   "metadata": {},
   "source": [
    "(f) ($A_1 \\cap A_2) \\cup (A_3 \\cap A_4)$ "
   ]
  },
  {
   "cell_type": "code",
   "execution_count": 12,
   "metadata": {},
   "outputs": [
    {
     "data": {
      "text/plain": [
       "{'dddd', 'dddr', 'ddrd', 'ddrr', 'drdd', 'rddd', 'rrdd'}"
      ]
     },
     "execution_count": 12,
     "metadata": {},
     "output_type": "execute_result"
    }
   ],
   "source": [
    "(A1.intersection(A2)).union(A3.intersection(A4))"
   ]
  },
  {
   "cell_type": "markdown",
   "metadata": {},
   "source": [
    "### Exercise #3\n",
    "\n",
    "A sample of two items is selected without replacement\n",
    "from a batch. Describe the (ordered) sample space for each of the\n",
    "following batches:\n",
    "\n",
    "(a) The batch contains the items {a, b, c, d  }.\n",
    "\n",
    "(b) The batch contains the items {a, b, c, d, e, f, g }.\n",
    "\n",
    "(c) The batch contains 4 defective items and 20 good items.\n",
    "\n",
    "(d) The batch contains 1 defective item and 20 good items."
   ]
  },
  {
   "cell_type": "markdown",
   "metadata": {},
   "source": [
    "**Solution**"
   ]
  },
  {
   "cell_type": "markdown",
   "metadata": {},
   "source": [
    "(a) The batch contains the items {a, b, c, d  }."
   ]
  },
  {
   "cell_type": "code",
   "execution_count": 13,
   "metadata": {},
   "outputs": [
    {
     "name": "stdout",
     "output_type": "stream",
     "text": [
      "Total number of samples in the space 4P2 : 12\n",
      "Sample Space : \n",
      " ===============\n"
     ]
    },
    {
     "data": {
      "text/plain": [
       "['bd', 'ba', 'bc', 'db', 'da', 'dc', 'ab', 'ad', 'ac', 'cb', 'cd', 'ca']"
      ]
     },
     "execution_count": 13,
     "metadata": {},
     "output_type": "execute_result"
    }
   ],
   "source": [
    "from itertools import permutations\n",
    "s = {'a' , 'b', 'c' ,'d'}\n",
    "space = list(permutations(s, 2))\n",
    "space = [''.join(s) for s in space]\n",
    "print(\"Total number of samples in the space 4P2 :\", len(space))\n",
    "print(\"Sample Space : \\n\", \"=\"*15)\n",
    "space"
   ]
  },
  {
   "cell_type": "markdown",
   "metadata": {},
   "source": [
    "(b) The batch contains the items {a, b, c, d, e, f, g }."
   ]
  },
  {
   "cell_type": "code",
   "execution_count": 14,
   "metadata": {},
   "outputs": [
    {
     "name": "stdout",
     "output_type": "stream",
     "text": [
      "Total number of samples in the space 4P2 : 42\n",
      "Sample Space : \n",
      " ===============\n"
     ]
    },
    {
     "data": {
      "text/plain": [
       "['ed',\n",
       " 'ef',\n",
       " 'eg',\n",
       " 'eb',\n",
       " 'ec',\n",
       " 'ea',\n",
       " 'de',\n",
       " 'df',\n",
       " 'dg',\n",
       " 'db',\n",
       " 'dc',\n",
       " 'da',\n",
       " 'fe',\n",
       " 'fd',\n",
       " 'fg',\n",
       " 'fb',\n",
       " 'fc',\n",
       " 'fa',\n",
       " 'ge',\n",
       " 'gd',\n",
       " 'gf',\n",
       " 'gb',\n",
       " 'gc',\n",
       " 'ga',\n",
       " 'be',\n",
       " 'bd',\n",
       " 'bf',\n",
       " 'bg',\n",
       " 'bc',\n",
       " 'ba',\n",
       " 'ce',\n",
       " 'cd',\n",
       " 'cf',\n",
       " 'cg',\n",
       " 'cb',\n",
       " 'ca',\n",
       " 'ae',\n",
       " 'ad',\n",
       " 'af',\n",
       " 'ag',\n",
       " 'ab',\n",
       " 'ac']"
      ]
     },
     "execution_count": 14,
     "metadata": {},
     "output_type": "execute_result"
    }
   ],
   "source": [
    "s = {'a' , 'b', 'c' ,'d', 'e', 'f', 'g'}\n",
    "space = list(permutations(s, 2))\n",
    "space = [''.join(s) for s in space]\n",
    "print(\"Total number of samples in the space 4P2 :\", len(space))\n",
    "print(\"Sample Space : \\n\", \"=\"*15)\n",
    "space"
   ]
  },
  {
   "cell_type": "markdown",
   "metadata": {},
   "source": [
    "(c) The batch contains 4 defective items and 20 good items."
   ]
  },
  {
   "cell_type": "code",
   "execution_count": 15,
   "metadata": {},
   "outputs": [
    {
     "name": "stdout",
     "output_type": "stream",
     "text": [
      "Total number of samples in the space 4P2 : 4\n",
      "Sample Space : \n",
      " ===============\n"
     ]
    },
    {
     "data": {
      "text/plain": [
       "['dd', 'dg', 'gd', 'gg']"
      ]
     },
     "execution_count": 15,
     "metadata": {},
     "output_type": "execute_result"
    }
   ],
   "source": [
    "s = {'d','g'}\n",
    "space = list(prod(s, repeat = 2))\n",
    "space = [''.join(s) for s in space]\n",
    "print(\"Total number of samples in the space 4P2 :\", len(space))\n",
    "print(\"Sample Space : \\n\", \"=\"*15)\n",
    "space"
   ]
  },
  {
   "cell_type": "markdown",
   "metadata": {},
   "source": [
    "(d) The batch contains 1 defective item and 20 good items."
   ]
  },
  {
   "cell_type": "code",
   "execution_count": 16,
   "metadata": {},
   "outputs": [
    {
     "name": "stdout",
     "output_type": "stream",
     "text": [
      "Total number of samples in the space 4P2 : 3\n",
      "Sample Space : \n",
      " ===============\n"
     ]
    },
    {
     "data": {
      "text/plain": [
       "{'dg', 'gd', 'gg'}"
      ]
     },
     "execution_count": 16,
     "metadata": {},
     "output_type": "execute_result"
    }
   ],
   "source": [
    "new_space = set()\n",
    "for s in space:\n",
    "    if s != 'dd':\n",
    "        new_space.add(s)\n",
    "print(\"Total number of samples in the space 4P2 :\", len(new_space))\n",
    "print(\"Sample Space : \\n\", \"=\"*15)\n",
    "new_space"
   ]
  },
  {
   "cell_type": "markdown",
   "metadata": {},
   "source": [
    "### Exercise #4\n",
    "A computer system uses passwords that contain exactly\n",
    "eight characters, and each character is 1 of the 26 lowercase\n",
    "letters (a–z) or 26 uppercase letters (A–Z) or 10 integers (0–9).\n",
    "Let $Ω$ denote the set of all possible passwords, and let A and\n",
    "B denote the events that consist of passwords with only letters\n",
    "or only integers, respectively. Determine the number of passwords in each of the following events.\n",
    "\n",
    "(a) $Ω$ \n",
    "\n",
    "(b) $A$ \n",
    "\n",
    "(c) $A' \\cap  B'$\n",
    "\n",
    "(d) Passwords that contain at least 1 integer\n",
    "\n",
    "(e) Passwords that contain exactly 1 integer"
   ]
  },
  {
   "cell_type": "markdown",
   "metadata": {},
   "source": [
    "**Solution**\n",
    "\n",
    "(a) $Ω$ "
   ]
  },
  {
   "cell_type": "code",
   "execution_count": 17,
   "metadata": {},
   "outputs": [
    {
     "name": "stdout",
     "output_type": "stream",
     "text": [
      "2.183e+14\n"
     ]
    }
   ],
   "source": [
    "password_length = 8\n",
    "char_nums = 2*26\n",
    "integers_nums = 10 \n",
    "omega = (char_nums+integers_nums)**password_length\n",
    "print(\"%.3e\"%omega)"
   ]
  },
  {
   "cell_type": "markdown",
   "metadata": {},
   "source": [
    "(b) $A$ "
   ]
  },
  {
   "cell_type": "code",
   "execution_count": 18,
   "metadata": {},
   "outputs": [
    {
     "name": "stdout",
     "output_type": "stream",
     "text": [
      "5.346e+13\n"
     ]
    }
   ],
   "source": [
    "A = (char_nums)**password_length\n",
    "print(\"%.3e\"%A)"
   ]
  },
  {
   "cell_type": "markdown",
   "metadata": {},
   "source": [
    "(c) $A' \\cap  B'$\n",
    "\n",
    "$$A' \\cap  B' = (A \\cup  B)' = \\Omega - (A \\cup  B)$$\n",
    "$$A \\cup  B = A + B - A \\cap B$$\n",
    "$$A \\cap B = 0$$\n"
   ]
  },
  {
   "cell_type": "code",
   "execution_count": 19,
   "metadata": {},
   "outputs": [
    {
     "name": "stdout",
     "output_type": "stream",
     "text": [
      "1.648803e+14\n"
     ]
    }
   ],
   "source": [
    "B = (integers_nums)**password_length\n",
    "Ac_intersect_Bc = omega - (A + B)\n",
    "print(\"%.6e\"%Ac_intersect_Bc)"
   ]
  },
  {
   "cell_type": "markdown",
   "metadata": {},
   "source": [
    "\n",
    "(d) Passwords that contain at least 1 integer\n",
    "\n"
   ]
  },
  {
   "cell_type": "markdown",
   "metadata": {},
   "source": [
    "It means alls except that without any integers => A'"
   ]
  },
  {
   "cell_type": "code",
   "execution_count": 20,
   "metadata": {},
   "outputs": [
    {
     "name": "stdout",
     "output_type": "stream",
     "text": [
      "1.648804e+14\n"
     ]
    }
   ],
   "source": [
    "Ac = omega - A\n",
    "print(\"%.6e\"%Ac)"
   ]
  },
  {
   "cell_type": "markdown",
   "metadata": {},
   "source": [
    "(e) Passwords that contain exactly 1 integer"
   ]
  },
  {
   "cell_type": "code",
   "execution_count": 21,
   "metadata": {},
   "outputs": [
    {
     "name": "stdout",
     "output_type": "stream",
     "text": [
      "1.028e+13\n"
     ]
    }
   ],
   "source": [
    "result = ((char_nums)**7) * (integers_nums)**1\n",
    "print(\"%.3e\"%result)"
   ]
  },
  {
   "cell_type": "markdown",
   "metadata": {},
   "source": [
    "### Exercise #5\n",
    "  \n",
    "A sample of two printed circuit boards is selected\n",
    "without replacement from a batch. Describe the (ordered)\n",
    "sample space for each of the following batches:\n",
    "\n",
    "(a) The batch contains 90 boards that are not defective, 8\n",
    "boards with minor defects, and 2 boards with major defects.\n",
    "\n",
    "(b) The batch contains 90 boards that are not defective, 8\n",
    "boards with minor defects, and 1 board with major defects."
   ]
  },
  {
   "cell_type": "markdown",
   "metadata": {},
   "source": [
    "**Solution**"
   ]
  },
  {
   "cell_type": "markdown",
   "metadata": {},
   "source": [
    "(a)"
   ]
  },
  {
   "cell_type": "code",
   "execution_count": 22,
   "metadata": {},
   "outputs": [
    {
     "name": "stdout",
     "output_type": "stream",
     "text": [
      "Total number of samples in the space 3^2: 9\n",
      "Sample Space : \n",
      " ===============\n"
     ]
    },
    {
     "data": {
      "text/plain": [
       "['nn', 'nd', 'nm', 'dn', 'dd', 'dm', 'mn', 'md', 'mm']"
      ]
     },
     "execution_count": 22,
     "metadata": {},
     "output_type": "execute_result"
    }
   ],
   "source": [
    "s = {'n', 'm', 'd'}\n",
    "a_space = list(prod(s, repeat = 2))\n",
    "a_space = [''.join(s) for s in a_space]\n",
    "print(\"Total number of samples in the space 3^2:\", len(a_space))\n",
    "print(\"Sample Space : \\n\", \"=\"*15)\n",
    "a_space"
   ]
  },
  {
   "cell_type": "markdown",
   "metadata": {},
   "source": [
    "(b)"
   ]
  },
  {
   "cell_type": "code",
   "execution_count": 23,
   "metadata": {},
   "outputs": [
    {
     "name": "stdout",
     "output_type": "stream",
     "text": [
      "Total number of samples in the space  : 8\n",
      "Sample Space : \n",
      " ===============\n"
     ]
    },
    {
     "data": {
      "text/plain": [
       "{'dm', 'dn', 'md', 'mm', 'mn', 'nd', 'nm', 'nn'}"
      ]
     },
     "execution_count": 23,
     "metadata": {},
     "output_type": "execute_result"
    }
   ],
   "source": [
    "new_space = set()\n",
    "for s in a_space:\n",
    "    if s != 'dd':\n",
    "        new_space.add(s)\n",
    "print(\"Total number of samples in the space  :\", len(new_space))\n",
    "print(\"Sample Space : \\n\", \"=\"*15)\n",
    "new_space"
   ]
  },
  {
   "cell_type": "markdown",
   "metadata": {},
   "source": [
    "### EXercise #6\n",
    "\n",
    "A batch of 140 semiconductor chips is inspected by\n",
    "choosing a sample of 5 chips. Assume 10 of the chips do not\n",
    "conform to customer requirements.\n",
    "\n",
    "(a) How many different samples are possible?\n",
    "\n",
    "(b) How many samples of five contain exactly one nonconforming chip?\n",
    "\n",
    "(c) How many samples of five contain at least one nonconforming chip?"
   ]
  },
  {
   "cell_type": "markdown",
   "metadata": {},
   "source": [
    "**Solution**"
   ]
  },
  {
   "cell_type": "markdown",
   "metadata": {},
   "source": [
    "$$a = ^{140}C_5$$\n"
   ]
  },
  {
   "cell_type": "code",
   "execution_count": 24,
   "metadata": {},
   "outputs": [
    {
     "name": "stdout",
     "output_type": "stream",
     "text": [
      "4.17e+08\n"
     ]
    }
   ],
   "source": [
    "from scipy.special import comb\n",
    "a = comb(140, 5)\n",
    "print(\"%.2e\"%a)"
   ]
  },
  {
   "cell_type": "markdown",
   "metadata": {},
   "source": [
    "$$b = ^{130}C_4 \\times ^{10}C_1  $$\n"
   ]
  },
  {
   "cell_type": "code",
   "execution_count": 25,
   "metadata": {},
   "outputs": [
    {
     "name": "stdout",
     "output_type": "stream",
     "text": [
      "1.14e+08\n"
     ]
    }
   ],
   "source": [
    "b = comb(130, 4) * comb(10, 1)  \n",
    "print(\"%.2e\"%b)"
   ]
  },
  {
   "cell_type": "markdown",
   "metadata": {},
   "source": [
    "$$c = ^{140}C_5 - ^{130}C_5 $$"
   ]
  },
  {
   "cell_type": "code",
   "execution_count": 26,
   "metadata": {},
   "outputs": [
    {
     "name": "stdout",
     "output_type": "stream",
     "text": [
      "1.31e+08\n"
     ]
    }
   ],
   "source": [
    "c = a - comb(130, 5)  \n",
    "print(\"%.2e\"%c)"
   ]
  }
 ],
 "metadata": {
  "kernelspec": {
   "display_name": "Python 3",
   "language": "python",
   "name": "python3"
  },
  "language_info": {
   "codemirror_mode": {
    "name": "ipython",
    "version": 3
   },
   "file_extension": ".py",
   "mimetype": "text/x-python",
   "name": "python",
   "nbconvert_exporter": "python",
   "pygments_lexer": "ipython3",
   "version": "3.7.4"
  }
 },
 "nbformat": 4,
 "nbformat_minor": 2
}
