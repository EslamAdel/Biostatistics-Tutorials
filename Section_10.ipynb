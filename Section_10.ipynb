{
 "cells": [
  {
   "cell_type": "markdown",
   "metadata": {},
   "source": [
    "# Statistical Interval "
   ]
  },
  {
   "cell_type": "markdown",
   "metadata": {},
   "source": [
    "## Ex-1 \n",
    "\n",
    "A confidence interval estimate is desired for the gain in a circuit on a semiconductor device. Assume\n",
    "that gain is normally distributed with standard deviation $σ = 20$, $ \\bar{x} =1000$.\n",
    "\n",
    "a. Find a 95% CI for µ when n = 10, 25.\n",
    "\n",
    "b. Find a 99% CI for µ when n = 10, 25.\n",
    "\n",
    "c. How large must n be if the length of the 95% CI is to be 40?"
   ]
  },
  {
   "cell_type": "markdown",
   "metadata": {},
   "source": [
    "## Ex-2 \n",
    "\n",
    "Find a 99% confidence interval for the true population average from which the sample S={229, 255,\n",
    "280, 203, 229} is randomly selected."
   ]
  },
  {
   "cell_type": "markdown",
   "metadata": {},
   "source": [
    "## Ex-3 \n",
    "\n",
    "A study of 45 golfers showed that their average score on a particular course was 92. The standard\n",
    "deviation of the sample is 5. Find the 95% confidence interval of the mean score for all golfers."
   ]
  },
  {
   "cell_type": "markdown",
   "metadata": {},
   "source": [
    "## Ex-4\n",
    "\n",
    "A restaurant owner wishes to find the 99% confidence interval of the true mean cost of French fries.\n",
    "How large should the sample be if he wishes to be accurate within 0.1 L.E? A previous study showed\n",
    "that the standard deviation of the price was 0.12 L.E"
   ]
  },
  {
   "cell_type": "markdown",
   "metadata": {},
   "source": [
    "## Ex-5\n",
    "\n",
    "n = 100 random samples of water from a fresh water lake were taken and the calcium concentration\n",
    "(mg/lit) measured. A 95% CI on the mean calcium concentrations is $0.49 \\leq \\mu \\leq 0.82$.\n",
    "\n",
    "a. Would a 99% CI calculated from the same sample data been longer or shorter?\n",
    "\n",
    "b. Consider the following statement: There is a 95% chance that µ is between 0.49 and 0.82. Is\n",
    "this statement correct? Explain your answer.\n",
    "\n",
    "c. Consider the following statement: If n = 100 random samples of water from the lake were\n",
    "taken and the 95% CI on µ computed, and this process was repeated 1000 times, 950 of the\n",
    "CIs will contain the true value of µ. Is this statement correct? Explain your answer."
   ]
  },
  {
   "cell_type": "markdown",
   "metadata": {},
   "source": [
    "## Ex-6\n",
    "\n",
    "The brightness of a television picture tube can be evaluated by measuring the amount of current\n",
    "required to achieve a particular brightness level. A sample of 10 tubes results is $\\bar{x} = 317.2$ and $s = 15.7$. Find a 99% confidence interval on mean current required."
   ]
  },
  {
   "cell_type": "markdown",
   "metadata": {},
   "source": [
    "## Ex-7 \n",
    "\n",
    "A recent study on 100 people in Cairo found 27 was obese. Find the 90% confidence interval of the\n",
    "population proportion of individuals living in Cairo who are obese."
   ]
  },
  {
   "cell_type": "markdown",
   "metadata": {},
   "source": [
    "## Ex-8\n",
    "\n",
    "A random sample of 50 suspension helmets used by motorcycle riders and automobile race-car\n",
    "drivers was subjected to an impact test, and on 18 of these helmets some damage was observed.\n",
    "\n",
    "a. Find a 95% two-sided confidence interval on the true proportion of helmets of this type that\n",
    "would show damage from this test.\n",
    "\n",
    "b. Using the point estimate of p obtained from the preliminary sample of 50 helmets, how many\n",
    "helmets must be tested to be 95% confident that the error in estimating the true value of p is\n",
    "less than 0.02?\n",
    "\n",
    "c. How large must the sample be if we wish to be at least 95% confident that the error in\n",
    "estimating p is less than 0.02, regardless of the true value of p (i.e. assume 50% proportion)?"
   ]
  }
 ],
 "metadata": {
  "kernelspec": {
   "display_name": "Python 3",
   "language": "python",
   "name": "python3"
  },
  "language_info": {
   "codemirror_mode": {
    "name": "ipython",
    "version": 3
   },
   "file_extension": ".py",
   "mimetype": "text/x-python",
   "name": "python",
   "nbconvert_exporter": "python",
   "pygments_lexer": "ipython3",
   "version": "3.7.4"
  }
 },
 "nbformat": 4,
 "nbformat_minor": 2
}
