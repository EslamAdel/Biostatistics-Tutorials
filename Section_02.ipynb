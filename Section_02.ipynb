{
 "metadata": {
  "language_info": {
   "codemirror_mode": {
    "name": "ipython",
    "version": 3
   },
   "file_extension": ".py",
   "mimetype": "text/x-python",
   "name": "python",
   "nbconvert_exporter": "python",
   "pygments_lexer": "ipython3",
   "version": "3.6.10-final"
  },
  "orig_nbformat": 2,
  "kernelspec": {
   "name": "Python 3.6.10 64-bit ('ekyc': conda)",
   "display_name": "Python 3.6.10 64-bit ('ekyc': conda)",
   "metadata": {
    "interpreter": {
     "hash": "c22cbb3ba7f87bad933ff23d62442331bdabb81566011aca0417a23290b22766"
    }
   }
  }
 },
 "nbformat": 4,
 "nbformat_minor": 2,
 "cells": [
  {
   "cell_type": "markdown",
   "metadata": {},
   "source": [
    "# Probability Theroy "
   ]
  },
  {
   "cell_type": "markdown",
   "metadata": {},
   "source": [
    "* Random Experiment \n",
    "* Sample Space \n",
    "* Event \n",
    "* Probability of event"
   ]
  },
  {
   "cell_type": "markdown",
   "metadata": {},
   "source": [
    "## Example"
   ]
  },
  {
   "cell_type": "markdown",
   "metadata": {},
   "source": [
    "|Random Experiment | Cois Tossing  \n",
    "|------------------|------------|\n",
    "|Sample Space       | {Head, Tail}|\n",
    "|Event            | Head|\n",
    "|Probabilty of Event | $\\frac{1}{2}$|"
   ]
  },
  {
   "cell_type": "markdown",
   "metadata": {},
   "source": []
  },
  {
   "cell_type": "markdown",
   "metadata": {},
   "source": [
    "## Axioms of probability"
   ]
  },
  {
   "cell_type": "markdown",
   "metadata": {},
   "source": [
    "$$P(S) = 1$$\n",
    "$$0 \\leq P(E) \\leq 1$$\n",
    "$$P(E1 \\cup E2) = P(E1) + P(E2) - P(E1 \\cap E2) $$\n",
    "\n",
    "If $E1 \\cap E2 = \\phi$  so $P(E1 \\cap E2) = 0$ and they called matually execlusive, Where $\\phi$ is the Null set."
   ]
  },
  {
   "cell_type": "markdown",
   "metadata": {},
   "source": [
    "## Set theory basics\n",
    "\n",
    "Possible outcomes of an experiment (Sample space)\n",
    "\n",
    "### Set relationships\n",
    "* Subset\n",
    "* Superset\n",
    "* Disjoint\n",
    "* Universal set\n",
    "* Null set"
   ]
  },
  {
   "cell_type": "markdown",
   "metadata": {},
   "source": [
    "### Example"
   ]
  },
  {
   "cell_type": "code",
   "execution_count": 5,
   "metadata": {},
   "outputs": [],
   "source": [
    "Univ = set([x for x in range(11)])\n",
    "even = set([x for x in range(11) if x%2==0])\n",
    "odd = set([x for x in range(11) if x%2==1])\n",
    "two_elements = set([4,6])\n",
    "Null = set()"
   ]
  },
  {
   "cell_type": "code",
   "execution_count": 6,
   "metadata": {},
   "outputs": [
    {
     "output_type": "stream",
     "name": "stdout",
     "text": [
      "Universal set : {0, 1, 2, 3, 4, 5, 6, 7, 8, 9, 10}\n------------------------------\nEven set: {0, 2, 4, 6, 8, 10}\n------------------------------\nOdd set: {1, 3, 5, 7, 9}\n------------------------------\nSet of 2 elements: {4, 6}\n------------------------------\nA null set: set()\n"
     ]
    }
   ],
   "source": [
    "print(\"Universal set :\",Univ)\n",
    "print(\"-\"*30)\n",
    "print(\"Even set:\",even)\n",
    "print(\"-\"*30)\n",
    "print(\"Odd set:\",odd)\n",
    "print(\"-\"*30)\n",
    "print(\"Set of 2 elements:\",two_elements)\n",
    "print(\"-\"*30)\n",
    "print(\"A null set:\", Null)"
   ]
  },
  {
   "cell_type": "code",
   "execution_count": 13,
   "metadata": {},
   "outputs": [
    {
     "output_type": "stream",
     "name": "stdout",
     "text": [
      "Is \"even\" a subset of \"Univ\" ? True\n------------------------------\nIs \"Univ\" a superset of \"even\" ? True\n------------------------------\nIs \"even\" disjoint with \"odd\"? True\n"
     ]
    }
   ],
   "source": [
    "print('Is \"even\" a subset of \"Univ\" ?',even.issubset(Univ))\n",
    "print(\"-\"*30)\n",
    "print('Is \"Univ\" a superset of \"even\" ?',Univ.issuperset(even))\n",
    "print(\"-\"*30)\n",
    "print('Is \"even\" disjoint with \"odd\"?',even.isdisjoint(odd))"
   ]
  },
  {
   "cell_type": "code",
   "execution_count": 14,
   "metadata": {},
   "outputs": [
    {
     "output_type": "execute_result",
     "data": {
      "text/plain": [
       "True"
      ]
     },
     "metadata": {},
     "execution_count": 14
    }
   ],
   "source": [
    "even.issuperset(two_elements)"
   ]
  },
  {
   "cell_type": "code",
   "execution_count": 15,
   "metadata": {},
   "outputs": [
    {
     "output_type": "execute_result",
     "data": {
      "text/plain": [
       "True"
      ]
     },
     "metadata": {},
     "execution_count": 15
    }
   ],
   "source": [
    "two_elements.issubset(even)"
   ]
  },
  {
   "cell_type": "code",
   "execution_count": 16,
   "metadata": {},
   "outputs": [
    {
     "output_type": "execute_result",
     "data": {
      "text/plain": [
       "True"
      ]
     },
     "metadata": {},
     "execution_count": 16
    }
   ],
   "source": [
    "odd.isdisjoint(two_elements)"
   ]
  },
  {
   "cell_type": "code",
   "execution_count": 17,
   "metadata": {},
   "outputs": [
    {
     "output_type": "execute_result",
     "data": {
      "text/plain": [
       "False"
      ]
     },
     "metadata": {},
     "execution_count": 17
    }
   ],
   "source": [
    "even.isdisjoint(two_elements)"
   ]
  },
  {
   "cell_type": "markdown",
   "metadata": {},
   "source": [
    "### Set algebra/Operations\n"
   ]
  },
  {
   "cell_type": "markdown",
   "metadata": {},
   "source": [
    "**Equality**\n",
    "\n",
    "$$S1 = S2$$"
   ]
  },
  {
   "cell_type": "code",
   "execution_count": 22,
   "metadata": {},
   "outputs": [
    {
     "output_type": "stream",
     "name": "stdout",
     "text": [
      "{1, 2}\n{1, 2}\nTrue\n"
     ]
    }
   ],
   "source": [
    "S1 = {1,2}\n",
    "S2 = {2,1}\n",
    "print(S1)\n",
    "print(S2)\n",
    "print (S1==S2)"
   ]
  },
  {
   "cell_type": "code",
   "execution_count": 23,
   "metadata": {},
   "outputs": [
    {
     "output_type": "stream",
     "name": "stdout",
     "text": [
      "{1, 2, 3}\n{1, 2, 4}\nFalse\n"
     ]
    }
   ],
   "source": [
    "S1 = {1,2,3}\n",
    "S2 = {1,2,4}\n",
    "print(S1)\n",
    "print(S2)\n",
    "print (S1==S2)"
   ]
  },
  {
   "cell_type": "markdown",
   "metadata": {},
   "source": [
    "**Intersection**\n",
    "$$S1\\cap S2$$"
   ]
  },
  {
   "cell_type": "code",
   "execution_count": 25,
   "metadata": {},
   "outputs": [],
   "source": [
    "S1 = {9, 3, 6}\n",
    "S2 = {1, 2, 3, 4, 5, 6}"
   ]
  },
  {
   "cell_type": "code",
   "execution_count": 26,
   "metadata": {},
   "outputs": [
    {
     "output_type": "execute_result",
     "data": {
      "text/plain": [
       "{3, 6}"
      ]
     },
     "metadata": {},
     "execution_count": 26
    }
   ],
   "source": [
    "S1.intersection(S2)"
   ]
  },
  {
   "cell_type": "markdown",
   "metadata": {},
   "source": [
    "**Union**\n",
    "$$S1 \\cup S2$$"
   ]
  },
  {
   "cell_type": "code",
   "execution_count": 27,
   "metadata": {},
   "outputs": [
    {
     "output_type": "execute_result",
     "data": {
      "text/plain": [
       "{1, 2, 3, 4, 5, 6, 9}"
      ]
     },
     "metadata": {},
     "execution_count": 27
    }
   ],
   "source": [
    "S1.union(S2)"
   ]
  },
  {
   "cell_type": "markdown",
   "metadata": {},
   "source": [
    "**Difference**\n",
    "$$S1-S2$$\n",
    "$$S2-S1$$"
   ]
  },
  {
   "cell_type": "code",
   "execution_count": 34,
   "metadata": {},
   "outputs": [
    {
     "output_type": "execute_result",
     "data": {
      "text/plain": [
       "{1, 2, 4, 5}"
      ]
     },
     "metadata": {},
     "execution_count": 34
    }
   ],
   "source": [
    "S2.difference(S1)"
   ]
  },
  {
   "cell_type": "code",
   "execution_count": 35,
   "metadata": {},
   "outputs": [
    {
     "output_type": "execute_result",
     "data": {
      "text/plain": [
       "{9}"
      ]
     },
     "metadata": {},
     "execution_count": 35
    }
   ],
   "source": [
    "S1.difference(S2)"
   ]
  },
  {
   "cell_type": "markdown",
   "metadata": {},
   "source": [
    "**Complement**\n",
    "$$S'  = \\{x\\in U, x \\notin S\\} $$"
   ]
  },
  {
   "cell_type": "code",
   "execution_count": 60,
   "metadata": {},
   "outputs": [],
   "source": [
    "U = {1 ,2 , 3 ,4}\n",
    "S = {1, 2}\n"
   ]
  },
  {
   "cell_type": "code",
   "execution_count": 61,
   "metadata": {},
   "outputs": [
    {
     "output_type": "execute_result",
     "data": {
      "text/plain": [
       "{3, 4}"
      ]
     },
     "metadata": {},
     "execution_count": 61
    }
   ],
   "source": [
    "S_complement = {e for e in U if e not in S}\n",
    "S_complement"
   ]
  },
  {
   "cell_type": "code",
   "execution_count": null,
   "metadata": {},
   "outputs": [],
   "source": []
  },
  {
   "cell_type": "markdown",
   "metadata": {},
   "source": [
    "**Cartesian product**\n",
    "\n",
    "$$S1 \\times S1$$"
   ]
  },
  {
   "cell_type": "code",
   "execution_count": 10,
   "metadata": {},
   "outputs": [
    {
     "output_type": "stream",
     "name": "stdout",
     "text": [
      "Number of outcomes = 2x3 :   6\nAll possible outcomes : [(1, 4), (1, 5), (2, 4), (2, 5), (3, 4), (3, 5)]\n"
     ]
    }
   ],
   "source": [
    "from itertools import product as prod\n",
    "S1 = {1, 2 , 3}\n",
    "S2 = {4, 5}\n",
    "all_combinations = list(prod(S1, S2))\n",
    "print(\"Number of outcomes = 2x3 :  \" , len(all_combinations))\n",
    "print(\"All possible outcomes :\" , all_combinations)"
   ]
  },
  {
   "cell_type": "markdown",
   "metadata": {},
   "source": [
    "**Cartesian Power**\n",
    "$$S^n = S \\times S \\times S ... $$"
   ]
  },
  {
   "cell_type": "code",
   "execution_count": 49,
   "metadata": {},
   "outputs": [
    {
     "output_type": "execute_result",
     "data": {
      "text/plain": [
       "[('H', 'H'), ('H', 'T'), ('T', 'H'), ('T', 'T')]"
      ]
     },
     "metadata": {},
     "execution_count": 49
    }
   ],
   "source": [
    "# Tossing Coin\n",
    "S = {\"H\", \"T\"} # Head or tale\n",
    "n = 2   # Two times\n",
    "possible_outcomes = list(prod(S, repeat=n))\n",
    "possible_outcomes"
   ]
  },
  {
   "cell_type": "code",
   "execution_count": 48,
   "metadata": {},
   "outputs": [
    {
     "output_type": "execute_result",
     "data": {
      "text/plain": [
       "[('H', 'H', 'H'),\n",
       " ('H', 'H', 'T'),\n",
       " ('H', 'T', 'H'),\n",
       " ('H', 'T', 'T'),\n",
       " ('T', 'H', 'H'),\n",
       " ('T', 'H', 'T'),\n",
       " ('T', 'T', 'H'),\n",
       " ('T', 'T', 'T')]"
      ]
     },
     "metadata": {},
     "execution_count": 48
    }
   ],
   "source": [
    "n = 3   # Three times\n",
    "possible_outcomes = list(prod(S, repeat=n))\n",
    "possible_outcomes"
   ]
  },
  {
   "cell_type": "markdown",
   "metadata": {},
   "source": [
    "## Counting Methods"
   ]
  },
  {
   "cell_type": "markdown",
   "metadata": {},
   "source": [
    "### With Replacement\n",
    "The experement is restarts from initial state\n",
    "\n",
    "number of combinations is  $n^k$"
   ]
  },
  {
   "cell_type": "code",
   "execution_count": 84,
   "metadata": {},
   "outputs": [
    {
     "output_type": "stream",
     "name": "stdout",
     "text": [
      "Number of ways :  9\n"
     ]
    },
    {
     "output_type": "execute_result",
     "data": {
      "text/plain": [
       "[('Green', 'Green'),\n",
       " ('Green', 'Red'),\n",
       " ('Green', 'Blue'),\n",
       " ('Red', 'Green'),\n",
       " ('Red', 'Red'),\n",
       " ('Red', 'Blue'),\n",
       " ('Blue', 'Green'),\n",
       " ('Blue', 'Red'),\n",
       " ('Blue', 'Blue')]"
      ]
     },
     "metadata": {},
     "execution_count": 84
    }
   ],
   "source": [
    "from itertools import product as prod\n",
    "S = {'Red', 'Green', 'Blue'}\n",
    "n = 2 # Grouping in pairs Order matters\n",
    "possible_outcomes = list(prod(S, repeat=n))\n",
    "print(\"Number of ways : \", len(possible_outcomes))\n",
    "possible_outcomes"
   ]
  },
  {
   "cell_type": "markdown",
   "metadata": {},
   "source": [
    "### Without Replacement\n",
    "* Permutaions\n",
    "* Combinations"
   ]
  },
  {
   "cell_type": "markdown",
   "metadata": {},
   "source": [
    "#### Permutations\n",
    "Finding possible  ways of ordering set members in a sequence and order matters\n",
    "\n",
    " $$^{n}P_{k} =\\frac{n!}{(n-k)!}$$."
   ]
  },
  {
   "cell_type": "code",
   "execution_count": 77,
   "metadata": {},
   "outputs": [
    {
     "output_type": "stream",
     "name": "stdout",
     "text": [
      "Number of ways :  6\n"
     ]
    },
    {
     "output_type": "execute_result",
     "data": {
      "text/plain": [
       "[('Green', 'Red'),\n",
       " ('Green', 'Blue'),\n",
       " ('Red', 'Green'),\n",
       " ('Red', 'Blue'),\n",
       " ('Blue', 'Green'),\n",
       " ('Blue', 'Red')]"
      ]
     },
     "metadata": {},
     "execution_count": 77
    }
   ],
   "source": [
    "from itertools import permutations\n",
    "S = {'Red', 'Green', 'Blue'}\n",
    "n = 2 # Grouping in pairs Order matters\n",
    "possible_outcomes = list(permutations(S, 2))\n",
    "print(\"Number of ways : \", len(possible_outcomes))\n",
    "possible_outcomes"
   ]
  },
  {
   "cell_type": "markdown",
   "metadata": {},
   "source": [
    "#### Combinations\n",
    "Finding possible  ways of ordering set members in a sequence and order doesn't matter\n",
    "\n",
    " $$^{n}C_{k} =\\frac{n!}{k!(n-k)!}$$."
   ]
  },
  {
   "cell_type": "code",
   "execution_count": 128,
   "metadata": {},
   "outputs": [
    {
     "output_type": "stream",
     "name": "stdout",
     "text": [
      "Number of ways :  3\n"
     ]
    },
    {
     "output_type": "execute_result",
     "data": {
      "text/plain": [
       "[('Green', 'Red'), ('Green', 'Blue'), ('Red', 'Blue')]"
      ]
     },
     "metadata": {},
     "execution_count": 128
    }
   ],
   "source": [
    "from itertools import combinations\n",
    "S = {'Red', 'Green', 'Blue'}\n",
    "n = 2 # Grouping in pairs order doesn't matter\n",
    "possible_outcomes = list(combinations(S, 2))\n",
    "print(\"Number of ways : \", len(possible_outcomes))\n",
    "possible_outcomes"
   ]
  },
  {
   "cell_type": "markdown",
   "metadata": {},
   "source": [
    "## Example (With replacement)\n",
    "An Urn contains 2 red balls, and 3 black balls. Balls are chosen in succession. The first ball is\n",
    "returned to the urn before the second ball is chosen. Each ball is chosen randomly. \n",
    "\n",
    "* What is the probabilty of selecting two successive black balls ? \n",
    "* What is the probabilty of selecting three successive red balls ?\n",
    "* What is the probabilty of selecting one black and two red balls ?\n"
   ]
  },
  {
   "cell_type": "code",
   "execution_count": 15,
   "metadata": {},
   "outputs": [
    {
     "output_type": "stream",
     "name": "stdout",
     "text": [
      "Num outcomes :  8\n"
     ]
    },
    {
     "output_type": "execute_result",
     "data": {
      "text/plain": [
       "[('BLACK', 'BLACK', 'BLACK'),\n",
       " ('BLACK', 'BLACK', 'RED'),\n",
       " ('BLACK', 'RED', 'BLACK'),\n",
       " ('BLACK', 'RED', 'RED'),\n",
       " ('RED', 'BLACK', 'BLACK'),\n",
       " ('RED', 'BLACK', 'RED'),\n",
       " ('RED', 'RED', 'BLACK'),\n",
       " ('RED', 'RED', 'RED')]"
      ]
     },
     "metadata": {},
     "execution_count": 15
    }
   ],
   "source": [
    "S = {'RED', 'BLACK'}\n",
    "probs = {'RED':2/5, 'BLACK':3/5 }\n",
    "n = 3\n",
    "possible_outcomes = list(prod(S, repeat=n))\n",
    "print(\"Num outcomes : \", len(possible_outcomes))\n",
    "possible_outcomes"
   ]
  },
  {
   "cell_type": "code",
   "execution_count": 16,
   "metadata": {},
   "outputs": [
    {
     "output_type": "stream",
     "name": "stdout",
     "text": [
      "Event : Probability\n------------------------------\n('BLACK', 'BLACK', 'BLACK') : 0.216\n('BLACK', 'BLACK', 'RED') : 0.144\n('BLACK', 'RED', 'BLACK') : 0.144\n('BLACK', 'RED', 'RED') : 0.096\n('RED', 'BLACK', 'BLACK') : 0.144\n('RED', 'BLACK', 'RED') : 0.096\n('RED', 'RED', 'BLACK') : 0.096\n('RED', 'RED', 'RED') : 0.064\n"
     ]
    }
   ],
   "source": [
    "probs_of_possible_outcomes = []\n",
    "import numpy as np \n",
    "print(\"Event : Probability\")\n",
    "print('-'*30)\n",
    "for event in possible_outcomes:\n",
    "    event_probs = [probs[e] for e in event]\n",
    "    prob = np.prod(event_probs)\n",
    "    print(\"%s : %0.3f\"%(event, prob))\n",
    "    probs_of_possible_outcomes.append(prob)"
   ]
  },
  {
   "cell_type": "code",
   "execution_count": 187,
   "metadata": {},
   "outputs": [
    {
     "output_type": "execute_result",
     "data": {
      "text/plain": [
       "1.0"
      ]
     },
     "metadata": {},
     "execution_count": 187
    }
   ],
   "source": [
    "sum(probs_of_possible_outcomes)"
   ]
  },
  {
   "cell_type": "code",
   "execution_count": 197,
   "metadata": {},
   "outputs": [],
   "source": [
    "two_successive_black = 0.6*0.6\n",
    "three_successive_red = 0.4*0.4*0.4\n",
    "one_black_two_red = 0.6*0.4*0.4*3"
   ]
  },
  {
   "cell_type": "markdown",
   "metadata": {},
   "source": [
    "## Example (Without Replacement and ordered)\n",
    "Five balls numbered 1, 2, 3, 4, 5 are drawn from an urn without replacement. What is the probability\n",
    "that they are drawn in the same order as their number?"
   ]
  },
  {
   "cell_type": "code",
   "execution_count": 170,
   "metadata": {},
   "outputs": [
    {
     "output_type": "execute_result",
     "data": {
      "text/plain": [
       "{1, 2, 3, 4, 5}"
      ]
     },
     "metadata": {},
     "execution_count": 170
    }
   ],
   "source": [
    "S = {a for a in range(1,6)}\n",
    "S"
   ]
  },
  {
   "cell_type": "code",
   "execution_count": 171,
   "metadata": {},
   "outputs": [
    {
     "output_type": "stream",
     "name": "stdout",
     "text": [
      "Num of possible Outcomes 5P5 = 5!/(5-5)! :  120\n"
     ]
    },
    {
     "output_type": "execute_result",
     "data": {
      "text/plain": [
       "0.008333333333333333"
      ]
     },
     "metadata": {},
     "execution_count": 171
    }
   ],
   "source": [
    "all_possible_outcomes = list(permutations(S, 5))\n",
    "print(\"Num of possible Outcomes 5P5 = 5!/(5-5)! : \", len(all_possible_outcomes))\n",
    "prob = 1/len(all_possible_outcomes)\n",
    "prob"
   ]
  },
  {
   "cell_type": "code",
   "execution_count": 173,
   "metadata": {},
   "outputs": [],
   "source": [
    "all_possible_outcomes"
   ]
  },
  {
   "cell_type": "markdown",
   "metadata": {},
   "source": [
    "## EXample (Without replacement and  not ordered)\n",
    "How many subsets of size 3 can be made from {A, B, C, D, E}?"
   ]
  },
  {
   "cell_type": "code",
   "execution_count": 174,
   "metadata": {},
   "outputs": [
    {
     "output_type": "stream",
     "name": "stdout",
     "text": [
      "Number of sets 4C3 = 4!/(3!*(4-3)!):  4\n"
     ]
    },
    {
     "output_type": "execute_result",
     "data": {
      "text/plain": [
       "[('A', 'C', 'D'), ('A', 'C', 'B'), ('A', 'D', 'B'), ('C', 'D', 'B')]"
      ]
     },
     "metadata": {},
     "execution_count": 174
    }
   ],
   "source": [
    "S = {'A', 'B', 'C', 'D'}\n",
    "all_outcomes = list(combinations(S, 3))\n",
    "print(\"Number of sets 4C3 = 4!/(3!*(4-3)!): \", len(all_outcomes))\n",
    "all_outcomes"
   ]
  },
  {
   "cell_type": "markdown",
   "metadata": {},
   "source": [
    "# References \n",
    "* https://github.com/tirthajyoti/Stats-Maths-with-Python/blob/master/Probability_concepts.ipynb"
   ]
  }
 ]
}