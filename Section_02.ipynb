{
 "cells": [
  {
   "cell_type": "markdown",
   "metadata": {},
   "source": [
    "# Probability Theroy "
   ]
  },
  {
   "cell_type": "markdown",
   "metadata": {},
   "source": [
    "* Random Experiment \n",
    "* Sample Space \n",
    "* Event \n",
    "* Probability of event"
   ]
  },
  {
   "cell_type": "markdown",
   "metadata": {},
   "source": [
    "## Example"
   ]
  },
  {
   "cell_type": "markdown",
   "metadata": {},
   "source": [
    "|Random Experiment | Coin Tossing  \n",
    "|------------------|------------|\n",
    "|Sample Space       | {Head, Tail}|\n",
    "|Event            | Head|\n",
    "|Probabilty of Event | $\\frac{1}{2}$|"
   ]
  },
  {
   "cell_type": "markdown",
   "metadata": {},
   "source": [
    "## Axioms of probability"
   ]
  },
  {
   "cell_type": "markdown",
   "metadata": {},
   "source": [
    "![](images/venn_intersect.png)![](images/MutExc.png)\n"
   ]
  },
  {
   "cell_type": "markdown",
   "metadata": {},
   "source": [
    "$$P(S) = 1$$\n",
    "$$0 \\leq P(A) \\leq 1$$\n",
    "$$P(A \\cup B) = P(A) + P(B) - P(A \\cap B) $$\n",
    "\n",
    "If $A \\cap B = \\phi$  so $P(A \\cap B) = 0$ and they called matually execlusive, Where $\\phi$ is the Null set."
   ]
  },
  {
   "cell_type": "markdown",
   "metadata": {},
   "source": [
    "## Set theory basics\n",
    "\n",
    "Possible outcomes of an experiment (Sample space)\n",
    "\n",
    "### Set relationships\n",
    "* Subset\n",
    "* Superset\n",
    "* Disjoint\n",
    "* Universal set\n",
    "* Null set"
   ]
  },
  {
   "cell_type": "markdown",
   "metadata": {},
   "source": [
    "### Example"
   ]
  },
  {
   "cell_type": "code",
   "execution_count": 1,
   "metadata": {},
   "outputs": [],
   "source": [
    "Univ = set([x for x in range(11)])\n",
    "even = set([x for x in range(11) if x%2==0])\n",
    "odd = set([x for x in range(11) if x%2==1])\n",
    "two_elements = set([4,6])\n",
    "Null = set()"
   ]
  },
  {
   "cell_type": "code",
   "execution_count": 2,
   "metadata": {},
   "outputs": [
    {
     "name": "stdout",
     "output_type": "stream",
     "text": [
      "Universal set : {0, 1, 2, 3, 4, 5, 6, 7, 8, 9, 10}\n",
      "------------------------------\n",
      "Even set: {0, 2, 4, 6, 8, 10}\n",
      "------------------------------\n",
      "Odd set: {1, 3, 5, 7, 9}\n",
      "------------------------------\n",
      "Set of 2 elements: {4, 6}\n",
      "------------------------------\n",
      "A null set: set()\n"
     ]
    }
   ],
   "source": [
    "print(\"Universal set :\",Univ)\n",
    "print(\"-\"*30)\n",
    "print(\"Even set:\",even)\n",
    "print(\"-\"*30)\n",
    "print(\"Odd set:\",odd)\n",
    "print(\"-\"*30)\n",
    "print(\"Set of 2 elements:\",two_elements)\n",
    "print(\"-\"*30)\n",
    "print(\"A null set:\", Null)"
   ]
  },
  {
   "cell_type": "code",
   "execution_count": 3,
   "metadata": {},
   "outputs": [
    {
     "name": "stdout",
     "output_type": "stream",
     "text": [
      "Is \"even\" a subset of \"Univ\" ? True\n",
      "------------------------------\n",
      "Is \"Univ\" a superset of \"even\" ? True\n",
      "------------------------------\n",
      "Is \"even\" disjoint with \"odd\"? True\n"
     ]
    }
   ],
   "source": [
    "print('Is \"even\" a subset of \"Univ\" ?',even.issubset(Univ))\n",
    "print(\"-\"*30)\n",
    "print('Is \"Univ\" a superset of \"even\" ?',Univ.issuperset(even))\n",
    "print(\"-\"*30)\n",
    "print('Is \"even\" disjoint with \"odd\"?',even.isdisjoint(odd))"
   ]
  },
  {
   "cell_type": "code",
   "execution_count": 4,
   "metadata": {},
   "outputs": [
    {
     "data": {
      "text/plain": [
       "True"
      ]
     },
     "execution_count": 4,
     "metadata": {},
     "output_type": "execute_result"
    }
   ],
   "source": [
    "even.issuperset(two_elements)"
   ]
  },
  {
   "cell_type": "code",
   "execution_count": 5,
   "metadata": {},
   "outputs": [
    {
     "data": {
      "text/plain": [
       "True"
      ]
     },
     "execution_count": 5,
     "metadata": {},
     "output_type": "execute_result"
    }
   ],
   "source": [
    "two_elements.issubset(even)"
   ]
  },
  {
   "cell_type": "code",
   "execution_count": 6,
   "metadata": {},
   "outputs": [
    {
     "data": {
      "text/plain": [
       "True"
      ]
     },
     "execution_count": 6,
     "metadata": {},
     "output_type": "execute_result"
    }
   ],
   "source": [
    "odd.isdisjoint(two_elements)"
   ]
  },
  {
   "cell_type": "code",
   "execution_count": 7,
   "metadata": {},
   "outputs": [
    {
     "data": {
      "text/plain": [
       "False"
      ]
     },
     "execution_count": 7,
     "metadata": {},
     "output_type": "execute_result"
    }
   ],
   "source": [
    "even.isdisjoint(two_elements)"
   ]
  },
  {
   "cell_type": "markdown",
   "metadata": {},
   "source": [
    "### Set algebra/Operations\n"
   ]
  },
  {
   "cell_type": "markdown",
   "metadata": {},
   "source": [
    "**Equality**\n",
    "\n",
    "$$S1 = S2$$"
   ]
  },
  {
   "cell_type": "code",
   "execution_count": 8,
   "metadata": {},
   "outputs": [
    {
     "name": "stdout",
     "output_type": "stream",
     "text": [
      "{1, 2}\n",
      "{1, 2}\n",
      "True\n"
     ]
    }
   ],
   "source": [
    "S1 = {1,2}\n",
    "S2 = {2,1}\n",
    "print(S1)\n",
    "print(S2)\n",
    "print (S1==S2)"
   ]
  },
  {
   "cell_type": "code",
   "execution_count": 9,
   "metadata": {},
   "outputs": [
    {
     "name": "stdout",
     "output_type": "stream",
     "text": [
      "{1, 2, 3}\n",
      "{1, 2, 4}\n",
      "False\n"
     ]
    }
   ],
   "source": [
    "S1 = {1,2,3}\n",
    "S2 = {1,2,4}\n",
    "print(S1)\n",
    "print(S2)\n",
    "print (S1==S2)"
   ]
  },
  {
   "cell_type": "markdown",
   "metadata": {},
   "source": [
    "**Intersection**\n",
    "$$S1\\cap S2$$"
   ]
  },
  {
   "cell_type": "code",
   "execution_count": 10,
   "metadata": {},
   "outputs": [],
   "source": [
    "S1 = {9, 3, 6}\n",
    "S2 = {1, 2, 3, 4, 5, 6}"
   ]
  },
  {
   "cell_type": "code",
   "execution_count": 11,
   "metadata": {},
   "outputs": [
    {
     "data": {
      "text/plain": [
       "{3, 6}"
      ]
     },
     "execution_count": 11,
     "metadata": {},
     "output_type": "execute_result"
    }
   ],
   "source": [
    "S1.intersection(S2)"
   ]
  },
  {
   "cell_type": "markdown",
   "metadata": {},
   "source": [
    "**Union**\n",
    "$$S1 \\cup S2$$"
   ]
  },
  {
   "cell_type": "code",
   "execution_count": 12,
   "metadata": {},
   "outputs": [
    {
     "data": {
      "text/plain": [
       "{1, 2, 3, 4, 5, 6, 9}"
      ]
     },
     "execution_count": 12,
     "metadata": {},
     "output_type": "execute_result"
    }
   ],
   "source": [
    "S1.union(S2)"
   ]
  },
  {
   "cell_type": "markdown",
   "metadata": {},
   "source": [
    "**Difference**\n",
    "$$S1-S2$$\n",
    "$$S2-S1$$"
   ]
  },
  {
   "cell_type": "code",
   "execution_count": 13,
   "metadata": {},
   "outputs": [
    {
     "data": {
      "text/plain": [
       "{1, 2, 4, 5}"
      ]
     },
     "execution_count": 13,
     "metadata": {},
     "output_type": "execute_result"
    }
   ],
   "source": [
    "S2.difference(S1)"
   ]
  },
  {
   "cell_type": "code",
   "execution_count": 14,
   "metadata": {},
   "outputs": [
    {
     "data": {
      "text/plain": [
       "{9}"
      ]
     },
     "execution_count": 14,
     "metadata": {},
     "output_type": "execute_result"
    }
   ],
   "source": [
    "S1.difference(S2)"
   ]
  },
  {
   "cell_type": "markdown",
   "metadata": {},
   "source": [
    "**Complement**\n",
    "$$S'  = \\{x\\in U, x \\notin S\\} $$"
   ]
  },
  {
   "cell_type": "code",
   "execution_count": 17,
   "metadata": {},
   "outputs": [],
   "source": [
    "U = {1 ,2 , 3 ,4}\n",
    "S = {1, 2}\n"
   ]
  },
  {
   "cell_type": "code",
   "execution_count": 19,
   "metadata": {},
   "outputs": [
    {
     "data": {
      "text/plain": [
       "{3, 4}"
      ]
     },
     "execution_count": 19,
     "metadata": {},
     "output_type": "execute_result"
    }
   ],
   "source": [
    "S_complement = {e for e in U if e not in S}\n",
    "S_complement"
   ]
  },
  {
   "cell_type": "markdown",
   "metadata": {},
   "source": [
    "**Cartesian product**\n",
    "\n",
    "$$S1 \\times S2$$"
   ]
  },
  {
   "cell_type": "code",
   "execution_count": 20,
   "metadata": {},
   "outputs": [
    {
     "name": "stdout",
     "output_type": "stream",
     "text": [
      "Number of outcomes = 2x3 :   6\n",
      "All possible outcomes : [(1, 4), (1, 5), (2, 4), (2, 5), (3, 4), (3, 5)]\n"
     ]
    }
   ],
   "source": [
    "from itertools import product as prod\n",
    "S1 = {1, 2 , 3}\n",
    "S2 = {4, 5}\n",
    "all_combinations = list(prod(S1, S2))\n",
    "print(\"Number of outcomes = 2x3 :  \" , len(all_combinations))\n",
    "print(\"All possible outcomes :\" , all_combinations)"
   ]
  },
  {
   "cell_type": "markdown",
   "metadata": {},
   "source": [
    "**Cartesian Power**\n",
    "$$S^n = S \\times S \\times S ... $$"
   ]
  },
  {
   "cell_type": "code",
   "execution_count": 21,
   "metadata": {},
   "outputs": [
    {
     "data": {
      "text/plain": [
       "[('H', 'H'), ('H', 'T'), ('T', 'H'), ('T', 'T')]"
      ]
     },
     "execution_count": 21,
     "metadata": {},
     "output_type": "execute_result"
    }
   ],
   "source": [
    "# Tossing Coin\n",
    "S = {\"H\", \"T\"} # Head or tale\n",
    "n = 2   # Two times\n",
    "possible_outcomes = list(prod(S, repeat=n))\n",
    "possible_outcomes"
   ]
  },
  {
   "cell_type": "code",
   "execution_count": 22,
   "metadata": {},
   "outputs": [
    {
     "data": {
      "text/plain": [
       "[('H', 'H', 'H'),\n",
       " ('H', 'H', 'T'),\n",
       " ('H', 'T', 'H'),\n",
       " ('H', 'T', 'T'),\n",
       " ('T', 'H', 'H'),\n",
       " ('T', 'H', 'T'),\n",
       " ('T', 'T', 'H'),\n",
       " ('T', 'T', 'T')]"
      ]
     },
     "execution_count": 22,
     "metadata": {},
     "output_type": "execute_result"
    }
   ],
   "source": [
    "n = 3   # Three times\n",
    "possible_outcomes = list(prod(S, repeat=n))\n",
    "possible_outcomes"
   ]
  },
  {
   "cell_type": "markdown",
   "metadata": {},
   "source": [
    "## Counting Methods"
   ]
  },
  {
   "cell_type": "markdown",
   "metadata": {},
   "source": [
    "Tree method\n",
    "![](images/tree.png)"
   ]
  },
  {
   "cell_type": "markdown",
   "metadata": {},
   "source": [
    "### With Replacement\n",
    "The experement is restarts from initial state\n",
    "\n",
    "number of combinations is  $n^k$"
   ]
  },
  {
   "cell_type": "code",
   "execution_count": 23,
   "metadata": {},
   "outputs": [
    {
     "name": "stdout",
     "output_type": "stream",
     "text": [
      "Number of ways :  9\n"
     ]
    },
    {
     "data": {
      "text/plain": [
       "[('Green', 'Green'),\n",
       " ('Green', 'Red'),\n",
       " ('Green', 'Blue'),\n",
       " ('Red', 'Green'),\n",
       " ('Red', 'Red'),\n",
       " ('Red', 'Blue'),\n",
       " ('Blue', 'Green'),\n",
       " ('Blue', 'Red'),\n",
       " ('Blue', 'Blue')]"
      ]
     },
     "execution_count": 23,
     "metadata": {},
     "output_type": "execute_result"
    }
   ],
   "source": [
    "from itertools import product as prod\n",
    "S = {'Red', 'Green', 'Blue'}\n",
    "n = 2 # Grouping in pairs Order matters\n",
    "possible_outcomes = list(prod(S, repeat=n))\n",
    "print(\"Number of ways : \", len(possible_outcomes))\n",
    "possible_outcomes"
   ]
  },
  {
   "cell_type": "markdown",
   "metadata": {},
   "source": [
    "### Without Replacement\n",
    "* Permutaions\n",
    "* Combinations"
   ]
  },
  {
   "cell_type": "markdown",
   "metadata": {},
   "source": [
    "#### Permutations\n",
    "Finding possible  ways of ordering set members in a sequence and order matters\n",
    "\n",
    " $$^{n}P_{k} =\\frac{n!}{(n-k)!}$$."
   ]
  },
  {
   "cell_type": "code",
   "execution_count": 25,
   "metadata": {},
   "outputs": [
    {
     "name": "stdout",
     "output_type": "stream",
     "text": [
      "Number of ways : 3!/(3-2)! =   6\n"
     ]
    },
    {
     "data": {
      "text/plain": [
       "[('Green', 'Red'),\n",
       " ('Green', 'Blue'),\n",
       " ('Red', 'Green'),\n",
       " ('Red', 'Blue'),\n",
       " ('Blue', 'Green'),\n",
       " ('Blue', 'Red')]"
      ]
     },
     "execution_count": 25,
     "metadata": {},
     "output_type": "execute_result"
    }
   ],
   "source": [
    "from itertools import permutations\n",
    "S = {'Red', 'Green', 'Blue'}\n",
    "n = 2 # Grouping in pairs Order matters\n",
    "possible_outcomes = list(permutations(S, 2))\n",
    "print(\"Number of ways : 3!/(3-2)! =  \", len(possible_outcomes))\n",
    "possible_outcomes"
   ]
  },
  {
   "cell_type": "markdown",
   "metadata": {},
   "source": [
    "#### Combinations\n",
    "Finding possible  ways of ordering set members in a sequence and order doesn't matter\n",
    "\n",
    " $$^{n}C_{k} =\\frac{n!}{k!(n-k)!}$$."
   ]
  },
  {
   "cell_type": "code",
   "execution_count": 27,
   "metadata": {},
   "outputs": [
    {
     "name": "stdout",
     "output_type": "stream",
     "text": [
      "Number of ways : 3!/(2!*(3-2)!)  3\n"
     ]
    },
    {
     "data": {
      "text/plain": [
       "[('Green', 'Red'), ('Green', 'Blue'), ('Red', 'Blue')]"
      ]
     },
     "execution_count": 27,
     "metadata": {},
     "output_type": "execute_result"
    }
   ],
   "source": [
    "from itertools import combinations\n",
    "S = {'Red', 'Green', 'Blue'}\n",
    "n = 2 # Grouping in pairs order doesn't matter\n",
    "possible_outcomes = list(combinations(S, 2))\n",
    "print(\"Number of ways : 3!/(2!*(3-2)!) \", len(possible_outcomes))\n",
    "possible_outcomes"
   ]
  },
  {
   "cell_type": "markdown",
   "metadata": {},
   "source": [
    "## Example (With replacement)\n",
    "An Urn contains 2 red balls, and 3 black balls. Balls are chosen in succession. The first ball is\n",
    "returned to the urn before the second ball is chosen. Each ball is chosen randomly. \n",
    "\n",
    "* What is the probabilty of selecting two successive black balls ? \n",
    "* What is the probabilty of selecting three successive red balls ?\n",
    "* What is the probabilty of selecting one black and two red balls ?\n"
   ]
  },
  {
   "cell_type": "code",
   "execution_count": 33,
   "metadata": {},
   "outputs": [
    {
     "name": "stdout",
     "output_type": "stream",
     "text": [
      "Num outcomes :  8\n"
     ]
    },
    {
     "data": {
      "text/plain": [
       "[('BLACK', 'BLACK', 'BLACK'),\n",
       " ('BLACK', 'BLACK', 'RED'),\n",
       " ('BLACK', 'RED', 'BLACK'),\n",
       " ('BLACK', 'RED', 'RED'),\n",
       " ('RED', 'BLACK', 'BLACK'),\n",
       " ('RED', 'BLACK', 'RED'),\n",
       " ('RED', 'RED', 'BLACK'),\n",
       " ('RED', 'RED', 'RED')]"
      ]
     },
     "execution_count": 33,
     "metadata": {},
     "output_type": "execute_result"
    }
   ],
   "source": [
    "S = {'RED', 'BLACK'}\n",
    "probs = {'RED':2/5, 'BLACK':3/5 }\n",
    "n = 3\n",
    "possible_outcomes = list(prod(S, repeat=n))\n",
    "print(\"Num outcomes : \", len(possible_outcomes))\n",
    "possible_outcomes"
   ]
  },
  {
   "cell_type": "code",
   "execution_count": 34,
   "metadata": {},
   "outputs": [
    {
     "name": "stdout",
     "output_type": "stream",
     "text": [
      "Event : Probability\n",
      "------------------------------\n",
      "('BLACK', 'BLACK', 'BLACK') : 0.216\n",
      "('BLACK', 'BLACK', 'RED') : 0.144\n",
      "('BLACK', 'RED', 'BLACK') : 0.144\n",
      "('BLACK', 'RED', 'RED') : 0.096\n",
      "('RED', 'BLACK', 'BLACK') : 0.144\n",
      "('RED', 'BLACK', 'RED') : 0.096\n",
      "('RED', 'RED', 'BLACK') : 0.096\n",
      "('RED', 'RED', 'RED') : 0.064\n"
     ]
    }
   ],
   "source": [
    "probs_of_possible_outcomes = []\n",
    "import numpy as np \n",
    "print(\"Event : Probability\")\n",
    "print('-'*30)\n",
    "for event in possible_outcomes:\n",
    "    event_probs = [probs[e] for e in event]\n",
    "    prob = np.prod(event_probs)\n",
    "    print(\"%s : %0.3f\"%(event, prob))\n",
    "    probs_of_possible_outcomes.append(prob)"
   ]
  },
  {
   "cell_type": "code",
   "execution_count": 32,
   "metadata": {},
   "outputs": [
    {
     "data": {
      "text/plain": [
       "1.0"
      ]
     },
     "execution_count": 32,
     "metadata": {},
     "output_type": "execute_result"
    }
   ],
   "source": [
    "sum(probs_of_possible_outcomes)"
   ]
  },
  {
   "cell_type": "code",
   "execution_count": 36,
   "metadata": {},
   "outputs": [
    {
     "name": "stdout",
     "output_type": "stream",
     "text": [
      "0.28800000000000003\n"
     ]
    }
   ],
   "source": [
    "two_successive_black = 0.6*0.6\n",
    "three_successive_red = 0.4*0.4*0.4\n",
    "one_black_two_red = 0.6*0.4*0.4*3\n",
    "print(one_black_two_red)"
   ]
  },
  {
   "cell_type": "markdown",
   "metadata": {},
   "source": [
    "## Example (Without Replacement and ordered)\n",
    "Five balls numbered 1, 2, 3, 4, 5 are drawn from an urn without replacement. What is the probability\n",
    "that they are drawn in the same order as their number?"
   ]
  },
  {
   "cell_type": "code",
   "execution_count": 37,
   "metadata": {},
   "outputs": [
    {
     "data": {
      "text/plain": [
       "{1, 2, 3, 4, 5}"
      ]
     },
     "execution_count": 37,
     "metadata": {},
     "output_type": "execute_result"
    }
   ],
   "source": [
    "S = {a for a in range(1,6)}\n",
    "S"
   ]
  },
  {
   "cell_type": "code",
   "execution_count": 39,
   "metadata": {},
   "outputs": [
    {
     "data": {
      "text/plain": [
       "120"
      ]
     },
     "execution_count": 39,
     "metadata": {},
     "output_type": "execute_result"
    }
   ],
   "source": [
    "import math\n",
    "math.factorial(5)"
   ]
  },
  {
   "cell_type": "code",
   "execution_count": 40,
   "metadata": {},
   "outputs": [
    {
     "name": "stdout",
     "output_type": "stream",
     "text": [
      "Num of possible Outcomes 5P5 = 5!/(5-5)! :  120\n"
     ]
    },
    {
     "data": {
      "text/plain": [
       "0.008333333333333333"
      ]
     },
     "execution_count": 40,
     "metadata": {},
     "output_type": "execute_result"
    }
   ],
   "source": [
    "all_possible_outcomes = list(permutations(S, 5))\n",
    "print(\"Num of possible Outcomes 5P5 = 5!/(5-5)! : \", len(all_possible_outcomes))\n",
    "prob = 1/len(all_possible_outcomes)\n",
    "prob"
   ]
  },
  {
   "cell_type": "code",
   "execution_count": 41,
   "metadata": {},
   "outputs": [
    {
     "data": {
      "text/plain": [
       "[(1, 2, 3, 4, 5),\n",
       " (1, 2, 3, 5, 4),\n",
       " (1, 2, 4, 3, 5),\n",
       " (1, 2, 4, 5, 3),\n",
       " (1, 2, 5, 3, 4),\n",
       " (1, 2, 5, 4, 3),\n",
       " (1, 3, 2, 4, 5),\n",
       " (1, 3, 2, 5, 4),\n",
       " (1, 3, 4, 2, 5),\n",
       " (1, 3, 4, 5, 2),\n",
       " (1, 3, 5, 2, 4),\n",
       " (1, 3, 5, 4, 2),\n",
       " (1, 4, 2, 3, 5),\n",
       " (1, 4, 2, 5, 3),\n",
       " (1, 4, 3, 2, 5),\n",
       " (1, 4, 3, 5, 2),\n",
       " (1, 4, 5, 2, 3),\n",
       " (1, 4, 5, 3, 2),\n",
       " (1, 5, 2, 3, 4),\n",
       " (1, 5, 2, 4, 3),\n",
       " (1, 5, 3, 2, 4),\n",
       " (1, 5, 3, 4, 2),\n",
       " (1, 5, 4, 2, 3),\n",
       " (1, 5, 4, 3, 2),\n",
       " (2, 1, 3, 4, 5),\n",
       " (2, 1, 3, 5, 4),\n",
       " (2, 1, 4, 3, 5),\n",
       " (2, 1, 4, 5, 3),\n",
       " (2, 1, 5, 3, 4),\n",
       " (2, 1, 5, 4, 3),\n",
       " (2, 3, 1, 4, 5),\n",
       " (2, 3, 1, 5, 4),\n",
       " (2, 3, 4, 1, 5),\n",
       " (2, 3, 4, 5, 1),\n",
       " (2, 3, 5, 1, 4),\n",
       " (2, 3, 5, 4, 1),\n",
       " (2, 4, 1, 3, 5),\n",
       " (2, 4, 1, 5, 3),\n",
       " (2, 4, 3, 1, 5),\n",
       " (2, 4, 3, 5, 1),\n",
       " (2, 4, 5, 1, 3),\n",
       " (2, 4, 5, 3, 1),\n",
       " (2, 5, 1, 3, 4),\n",
       " (2, 5, 1, 4, 3),\n",
       " (2, 5, 3, 1, 4),\n",
       " (2, 5, 3, 4, 1),\n",
       " (2, 5, 4, 1, 3),\n",
       " (2, 5, 4, 3, 1),\n",
       " (3, 1, 2, 4, 5),\n",
       " (3, 1, 2, 5, 4),\n",
       " (3, 1, 4, 2, 5),\n",
       " (3, 1, 4, 5, 2),\n",
       " (3, 1, 5, 2, 4),\n",
       " (3, 1, 5, 4, 2),\n",
       " (3, 2, 1, 4, 5),\n",
       " (3, 2, 1, 5, 4),\n",
       " (3, 2, 4, 1, 5),\n",
       " (3, 2, 4, 5, 1),\n",
       " (3, 2, 5, 1, 4),\n",
       " (3, 2, 5, 4, 1),\n",
       " (3, 4, 1, 2, 5),\n",
       " (3, 4, 1, 5, 2),\n",
       " (3, 4, 2, 1, 5),\n",
       " (3, 4, 2, 5, 1),\n",
       " (3, 4, 5, 1, 2),\n",
       " (3, 4, 5, 2, 1),\n",
       " (3, 5, 1, 2, 4),\n",
       " (3, 5, 1, 4, 2),\n",
       " (3, 5, 2, 1, 4),\n",
       " (3, 5, 2, 4, 1),\n",
       " (3, 5, 4, 1, 2),\n",
       " (3, 5, 4, 2, 1),\n",
       " (4, 1, 2, 3, 5),\n",
       " (4, 1, 2, 5, 3),\n",
       " (4, 1, 3, 2, 5),\n",
       " (4, 1, 3, 5, 2),\n",
       " (4, 1, 5, 2, 3),\n",
       " (4, 1, 5, 3, 2),\n",
       " (4, 2, 1, 3, 5),\n",
       " (4, 2, 1, 5, 3),\n",
       " (4, 2, 3, 1, 5),\n",
       " (4, 2, 3, 5, 1),\n",
       " (4, 2, 5, 1, 3),\n",
       " (4, 2, 5, 3, 1),\n",
       " (4, 3, 1, 2, 5),\n",
       " (4, 3, 1, 5, 2),\n",
       " (4, 3, 2, 1, 5),\n",
       " (4, 3, 2, 5, 1),\n",
       " (4, 3, 5, 1, 2),\n",
       " (4, 3, 5, 2, 1),\n",
       " (4, 5, 1, 2, 3),\n",
       " (4, 5, 1, 3, 2),\n",
       " (4, 5, 2, 1, 3),\n",
       " (4, 5, 2, 3, 1),\n",
       " (4, 5, 3, 1, 2),\n",
       " (4, 5, 3, 2, 1),\n",
       " (5, 1, 2, 3, 4),\n",
       " (5, 1, 2, 4, 3),\n",
       " (5, 1, 3, 2, 4),\n",
       " (5, 1, 3, 4, 2),\n",
       " (5, 1, 4, 2, 3),\n",
       " (5, 1, 4, 3, 2),\n",
       " (5, 2, 1, 3, 4),\n",
       " (5, 2, 1, 4, 3),\n",
       " (5, 2, 3, 1, 4),\n",
       " (5, 2, 3, 4, 1),\n",
       " (5, 2, 4, 1, 3),\n",
       " (5, 2, 4, 3, 1),\n",
       " (5, 3, 1, 2, 4),\n",
       " (5, 3, 1, 4, 2),\n",
       " (5, 3, 2, 1, 4),\n",
       " (5, 3, 2, 4, 1),\n",
       " (5, 3, 4, 1, 2),\n",
       " (5, 3, 4, 2, 1),\n",
       " (5, 4, 1, 2, 3),\n",
       " (5, 4, 1, 3, 2),\n",
       " (5, 4, 2, 1, 3),\n",
       " (5, 4, 2, 3, 1),\n",
       " (5, 4, 3, 1, 2),\n",
       " (5, 4, 3, 2, 1)]"
      ]
     },
     "execution_count": 41,
     "metadata": {},
     "output_type": "execute_result"
    }
   ],
   "source": [
    "all_possible_outcomes"
   ]
  },
  {
   "cell_type": "markdown",
   "metadata": {},
   "source": [
    "## EXample (Without replacement and  not ordered)\n",
    "How many subsets of size 3 can be made from {A, B, C, D}?\n",
    "\n",
    "**Correction:**\n",
    "{A, B, C, D, E} => {A, B, C, D}\n"
   ]
  },
  {
   "cell_type": "code",
   "execution_count": 42,
   "metadata": {},
   "outputs": [
    {
     "name": "stdout",
     "output_type": "stream",
     "text": [
      "Number of sets 4C3 = 4!/(3!*(4-3)!):  4\n"
     ]
    },
    {
     "data": {
      "text/plain": [
       "[('C', 'D', 'A'), ('C', 'D', 'B'), ('C', 'A', 'B'), ('D', 'A', 'B')]"
      ]
     },
     "execution_count": 42,
     "metadata": {},
     "output_type": "execute_result"
    }
   ],
   "source": [
    "S = {'A', 'B', 'C', 'D'}\n",
    "all_outcomes = list(combinations(S, 3))\n",
    "print(\"Number of sets 4C3 = 4!/(3!*(4-3)!): \", len(all_outcomes))\n",
    "all_outcomes"
   ]
  },
  {
   "cell_type": "markdown",
   "metadata": {},
   "source": [
    "# References \n",
    "* https://github.com/tirthajyoti/Stats-Maths-with-Python/blob/master/Probability_concepts.ipynb\n",
    "* https://intl.siyavula.com/read/maths/grade-12/probability/10-probability-04\n",
    "* https://studywell.com/maths/statistics/probability/mutually-exclusive-independent/\n",
    "* https://www.researchgate.net/figure/A-Venn-diagram-of-the-intersection-A-B-of-sets-A-and-B_fig2_301255994"
   ]
  }
 ],
 "metadata": {
  "kernelspec": {
   "display_name": "Python 3",
   "language": "python",
   "name": "python3"
  },
  "language_info": {
   "codemirror_mode": {
    "name": "ipython",
    "version": 3
   },
   "file_extension": ".py",
   "mimetype": "text/x-python",
   "name": "python",
   "nbconvert_exporter": "python",
   "pygments_lexer": "ipython3",
   "version": "3.7.4"
  }
 },
 "nbformat": 4,
 "nbformat_minor": 2
}
