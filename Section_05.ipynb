{
 "cells": [
  {
   "cell_type": "markdown",
   "metadata": {},
   "source": [
    "#  Discrete Random Variables"
   ]
  },
  {
   "cell_type": "markdown",
   "metadata": {},
   "source": [
    "## Random Variable (RV) :\n",
    "* Real number for random experiment outcome\n",
    "* Finite number of outcomes : Discrete RV (DRV)\n",
    "* Infinite number of outcomes : Continuous RV (CRV)\n"
   ]
  },
  {
   "cell_type": "markdown",
   "metadata": {},
   "source": [
    "## Probability Mass Function (PMF) \n",
    "\n",
    "* Probability function (distribution) of RV \n",
    "\n",
    "$$\n",
    "pmf = f(x) = P(X = x)\n",
    "$$\n",
    "\n",
    "Where \n",
    "$$\\sum_{\\forall x} f(x) = 1$$"
   ]
  },
  {
   "cell_type": "markdown",
   "metadata": {},
   "source": [
    "## Cumulative Distribution Function (CDF)\n",
    "\n",
    "* Probability sum till specific value of the RV\n",
    "\n",
    "$$F(x) = P(X ≤ x) = \\sum_{x_i < x} f(x_i)$$\n",
    "\n",
    "\n",
    "Where \n",
    "\n",
    "$$0 \\leq F(x) \\leq 1$$\n",
    "\n",
    "Notes \n",
    "\n",
    "For any two number a and b with a ≤ b:\n",
    "\n",
    "$P(a < X ≤ b) = F(b) − F(a)$\n",
    "\n",
    "$P(a ≤ X ≤ b) = F(b) − F(a^{-})$\n",
    "\n",
    "$P(a < X < b) = F(b^{-}) − F(a)$\n",
    "\n",
    "$P(a ≤ X < b) = F(b^{-}) − F(a^{-})$\n",
    "\n",
    "\n",
    "Where\n",
    "\n",
    "$a^{-}$ is value up to $a$ and not including $a$ (left side limit).\n"
   ]
  },
  {
   "cell_type": "markdown",
   "metadata": {},
   "source": [
    "## Exercise 3-16\n",
    "\n",
    "The sample space of a random experiment is {a, b, c, d,\n",
    "e, f}, and each outcome is equally likely. A random variable is\n",
    "defined as follows:\n",
    "\n",
    "\n",
    "|outcome| a| b| c| d| e| f|\n",
    "|---|---|---|---|---|---|---|\n",
    "|x| 0| 0 |1.5| 1.5| 2| 3|\n",
    "\n",
    "Determine the probability mass function of a. Use the\n",
    "probability mass function to determine the following\n",
    "probabilities:\n",
    "\n",
    "(a) $P(X = 1.5)$\n",
    "\n",
    "(b) $P( 0.5 < X < 2.7)$\n",
    "\n",
    "(c) $P(X > 3) $\n",
    "\n",
    "(d) $P(0 \\leq X < 3)$ \n",
    "\n",
    "(e) $P(X = 0$ or $X = 2)$"
   ]
  },
  {
   "cell_type": "markdown",
   "metadata": {},
   "source": [
    "**Solution**\n",
    "\n",
    "PMF \n",
    "\n",
    "$$f(x) = P(X = x)$$\n",
    "\n",
    "So \n",
    "\n",
    "$$\n",
    "f(x) =  \\Bigg\\{ \\begin{matrix}\n",
    "\\frac{1}{3}& x = 0\\\\\n",
    "\\frac{1}{3}& x = 1.5\\\\\n",
    "\\frac{1}{6}& x = 2\\\\\n",
    "\\frac{1}{6}& x = 3\\\\\n",
    "\\end{matrix}\n",
    "$$"
   ]
  },
  {
   "cell_type": "markdown",
   "metadata": {},
   "source": [
    "(a)\n",
    "\n",
    "$P(X = 1.5) = \\frac{1}{3}$\n"
   ]
  },
  {
   "cell_type": "markdown",
   "metadata": {},
   "source": [
    "(b) \n",
    "\n",
    "$P( 0.5 < X < 2.7) = \\frac{3}{6} = \\frac{1}{2}$\n"
   ]
  },
  {
   "cell_type": "markdown",
   "metadata": {},
   "source": [
    "(c) \n",
    "\n",
    "$P(X > 3) = 0 $\n"
   ]
  },
  {
   "cell_type": "markdown",
   "metadata": {},
   "source": [
    "(d) \n",
    "\n",
    "$P(0 \\leq X < 3) = \\frac{5}{6}$ \n"
   ]
  },
  {
   "cell_type": "markdown",
   "metadata": {},
   "source": [
    "(e) \n",
    "\n",
    "$P(X = 0$ or $X = 2)= \\frac{1}{3} +\\frac{1}{6} = \\frac{1}{2}   $"
   ]
  },
  {
   "cell_type": "markdown",
   "metadata": {},
   "source": [
    "## Exercise 3-19 \n",
    "\n",
    "verify that the following function is probability mass functions, and determine the requested\n",
    "probabilities.\n",
    "\n",
    "$$\n",
    "f(x) = \\frac{2x+1}{25}, x = 0, 1, 2, 3, 4\n",
    "$$\n",
    "\n",
    "(a) P (X= 4)  \n",
    "\n",
    "(b) P (X ≤ 1)\n",
    "\n",
    "(c) P( 2 ≤ X < 4)  \n",
    "\n",
    "(d) P(X  > -10 )"
   ]
  },
  {
   "cell_type": "markdown",
   "metadata": {},
   "source": [
    "**Solution**\n",
    "\n",
    "To verify that $f(x)$ is a PMF we need to show that \n",
    "$$\\sum_{\\forall x} f(x) = 1$$"
   ]
  },
  {
   "cell_type": "code",
   "execution_count": 200,
   "metadata": {},
   "outputs": [
    {
     "name": "stdout",
     "output_type": "stream",
     "text": [
      "[0, 1, 2, 3, 4]\n",
      "[0.04, 0.12, 0.2, 0.28, 0.36]\n"
     ]
    }
   ],
   "source": [
    "x = [a for a in range(5)]\n",
    "fx = lambda x : (2*x+1)/25\n",
    "probs = [fx(a) for a in x]\n",
    "print(x)\n",
    "print(probs)"
   ]
  },
  {
   "cell_type": "code",
   "execution_count": 199,
   "metadata": {},
   "outputs": [
    {
     "data": {
      "text/plain": [
       "1.0"
      ]
     },
     "execution_count": 199,
     "metadata": {},
     "output_type": "execute_result"
    }
   ],
   "source": [
    "sum(probs)"
   ]
  },
  {
   "cell_type": "markdown",
   "metadata": {},
   "source": [
    "So \n",
    "\n",
    "$f(x) = \\frac{2x+1}{25}, x = 0, 1, 2, 3, 4$ is a valid PMF function"
   ]
  },
  {
   "cell_type": "markdown",
   "metadata": {},
   "source": [
    "(a)\n",
    " \n",
    " $P (X= 4) = 0.36$\n",
    " \n",
    "(b)\n",
    "\n",
    "$P (X ≤ 1) = 0.16$\n",
    "\n",
    "(c)\n",
    "\n",
    "$ P( 2 ≤ X < 4) = 0.48$\n",
    "\n",
    "(d)\n",
    "\n",
    "$ P(X > -10 ) = 1$\n"
   ]
  },
  {
   "cell_type": "markdown",
   "metadata": {},
   "source": [
    "## Exercise 3-24\n",
    "\n",
    "An optical inspection system is used to distinguish\n",
    "among different part types. The probability of a correct classification of any part is $0.98$. Suppose that **three** parts are inspected\n",
    "and that the classifications are **independent**. Let the random\n",
    "variable $X$ denote the number of parts that are correctly classified. Determine the probability mass function of $X$."
   ]
  },
  {
   "cell_type": "markdown",
   "metadata": {},
   "source": [
    "**Solution**"
   ]
  },
  {
   "cell_type": "code",
   "execution_count": 233,
   "metadata": {},
   "outputs": [
    {
     "data": {
      "text/plain": [
       "[('C', 'C', 'C'),\n",
       " ('C', 'C', 'E'),\n",
       " ('C', 'E', 'C'),\n",
       " ('C', 'E', 'E'),\n",
       " ('E', 'C', 'C'),\n",
       " ('E', 'C', 'E'),\n",
       " ('E', 'E', 'C'),\n",
       " ('E', 'E', 'E')]"
      ]
     },
     "execution_count": 233,
     "metadata": {},
     "output_type": "execute_result"
    }
   ],
   "source": [
    "from itertools import product\n",
    "s = {'C', 'E'}\n",
    "p = {'C':0.98, 'E':0.02}\n",
    "space = list(product(s, repeat = 3))\n",
    "space"
   ]
  },
  {
   "cell_type": "code",
   "execution_count": 303,
   "metadata": {},
   "outputs": [
    {
     "name": "stdout",
     "output_type": "stream",
     "text": [
      "Sum probs = 1.0\n",
      "\n",
      " Outcome\t : P\n",
      "--------------------------------------------------------\n",
      "('C', 'C', 'C')  : 0.941192\n",
      "('C', 'C', 'E')  : 0.019208\n",
      "('C', 'E', 'C')  : 0.019208\n",
      "('C', 'E', 'E')  : 0.000392\n",
      "('E', 'C', 'C')  : 0.019208\n",
      "('E', 'C', 'E')  : 0.000392\n",
      "('E', 'E', 'C')  : 0.000392\n",
      "('E', 'E', 'E')  : 0.000008\n"
     ]
    }
   ],
   "source": [
    "probs = [np.prod([p[i] for i in a]) for a in space]\n",
    "print(\"Sum probs = %.1f\"%sum(probs))\n",
    "print()\n",
    "print(\" Outcome\\t : P\")\n",
    "print(\"-------\"*8)\n",
    "for i in range(8):\n",
    "    print(space[i], \" : %.6f\"%probs[i])"
   ]
  },
  {
   "cell_type": "code",
   "execution_count": 304,
   "metadata": {},
   "outputs": [
    {
     "data": {
      "text/plain": [
       "[3, 2, 2, 1, 2, 1, 1, 0]"
      ]
     },
     "execution_count": 304,
     "metadata": {},
     "output_type": "execute_result"
    }
   ],
   "source": [
    "count_c = lambda x : len([a for a in x if a == 'C'])\n",
    "X = [count_c(a) for a in space]\n",
    "X"
   ]
  },
  {
   "cell_type": "code",
   "execution_count": 305,
   "metadata": {},
   "outputs": [
    {
     "name": "stdout",
     "output_type": "stream",
     "text": [
      " Outcome\t : X\t: P\n",
      "--------------------------------------------------------\n",
      "('C', 'C', 'C')  :  3  : 0.941192\n",
      "('C', 'C', 'E')  :  2  : 0.019208\n",
      "('C', 'E', 'C')  :  2  : 0.019208\n",
      "('C', 'E', 'E')  :  1  : 0.000392\n",
      "('E', 'C', 'C')  :  2  : 0.019208\n",
      "('E', 'C', 'E')  :  1  : 0.000392\n",
      "('E', 'E', 'C')  :  1  : 0.000392\n",
      "('E', 'E', 'E')  :  0  : 0.000008\n"
     ]
    }
   ],
   "source": [
    "print(\" Outcome\\t : X\\t: P\")\n",
    "print(\"-------\"*8)\n",
    "for i in range(8):\n",
    "    print(space[i], \" : \", X[i], \" : %.6f\"%probs[i])"
   ]
  },
  {
   "cell_type": "code",
   "execution_count": 306,
   "metadata": {},
   "outputs": [
    {
     "name": "stdout",
     "output_type": "stream",
     "text": [
      " X : P\n",
      "----------------\n",
      "0  : 0.000008\n",
      "1  : 0.001176\n",
      "2  : 0.057624\n",
      "3  : 0.941192\n"
     ]
    }
   ],
   "source": [
    "prob_x = lambda x : sum([probs[i] for i in range(len(probs)) if X[i] == x])\n",
    "pmf = {x:prob_x(x) for x in range(0, 4)}\n",
    "\n",
    "print(\" X : P\")\n",
    "print(\"----\"*4)\n",
    "for k, v in pmf.items():\n",
    "    print(k, \" : %.6f\"%v)"
   ]
  },
  {
   "cell_type": "markdown",
   "metadata": {},
   "source": [
    "To Make sure PMF is valid"
   ]
  },
  {
   "cell_type": "code",
   "execution_count": 307,
   "metadata": {},
   "outputs": [
    {
     "name": "stdout",
     "output_type": "stream",
     "text": [
      "Sum PMF : 1.0\n"
     ]
    }
   ],
   "source": [
    "print(\"Sum PMF : %.1f\"%sum(pmf.values()))"
   ]
  },
  {
   "cell_type": "markdown",
   "metadata": {},
   "source": [
    "## Exercise 3-31\n",
    "\n",
    "An assembly consists of three mechanical components. Suppose that the probabilities that the first, second,\n",
    "and third components meet specifications are 0.95, 0.98, and\n",
    "0.99, respectively. Assume that the components are **independent**. Determine the probability mass function of the number of\n",
    "components in the assembly that meet specifications"
   ]
  },
  {
   "cell_type": "code",
   "execution_count": 380,
   "metadata": {},
   "outputs": [
    {
     "data": {
      "text/html": [
       "<div>\n",
       "<style scoped>\n",
       "    .dataframe tbody tr th:only-of-type {\n",
       "        vertical-align: middle;\n",
       "    }\n",
       "\n",
       "    .dataframe tbody tr th {\n",
       "        vertical-align: top;\n",
       "    }\n",
       "\n",
       "    .dataframe thead th {\n",
       "        text-align: right;\n",
       "    }\n",
       "</style>\n",
       "<table border=\"1\" class=\"dataframe\">\n",
       "  <thead>\n",
       "    <tr style=\"text-align: right;\">\n",
       "      <th></th>\n",
       "      <th>Outcomes</th>\n",
       "    </tr>\n",
       "  </thead>\n",
       "  <tbody>\n",
       "    <tr>\n",
       "      <td>0</td>\n",
       "      <td>(Y, Y, Y)</td>\n",
       "    </tr>\n",
       "    <tr>\n",
       "      <td>1</td>\n",
       "      <td>(Y, Y, N)</td>\n",
       "    </tr>\n",
       "    <tr>\n",
       "      <td>2</td>\n",
       "      <td>(Y, N, Y)</td>\n",
       "    </tr>\n",
       "    <tr>\n",
       "      <td>3</td>\n",
       "      <td>(Y, N, N)</td>\n",
       "    </tr>\n",
       "    <tr>\n",
       "      <td>4</td>\n",
       "      <td>(N, Y, Y)</td>\n",
       "    </tr>\n",
       "    <tr>\n",
       "      <td>5</td>\n",
       "      <td>(N, Y, N)</td>\n",
       "    </tr>\n",
       "    <tr>\n",
       "      <td>6</td>\n",
       "      <td>(N, N, Y)</td>\n",
       "    </tr>\n",
       "    <tr>\n",
       "      <td>7</td>\n",
       "      <td>(N, N, N)</td>\n",
       "    </tr>\n",
       "  </tbody>\n",
       "</table>\n",
       "</div>"
      ],
      "text/plain": [
       "    Outcomes\n",
       "0  (Y, Y, Y)\n",
       "1  (Y, Y, N)\n",
       "2  (Y, N, Y)\n",
       "3  (Y, N, N)\n",
       "4  (N, Y, Y)\n",
       "5  (N, Y, N)\n",
       "6  (N, N, Y)\n",
       "7  (N, N, N)"
      ]
     },
     "execution_count": 380,
     "metadata": {},
     "output_type": "execute_result"
    }
   ],
   "source": [
    "import pandas as pd\n",
    "s = {'Y', 'N'}\n",
    "p_first = {'Y':0.95, 'N':0.05}\n",
    "p_second = {'Y':0.98, 'N':0.02}\n",
    "p_third = {'Y':0.99, 'N':0.01}\n",
    "space = list(product(s, repeat=3))\n",
    "df = pd.DataFrame({'Outcomes':space})\n",
    "df"
   ]
  },
  {
   "cell_type": "code",
   "execution_count": 381,
   "metadata": {},
   "outputs": [
    {
     "name": "stdout",
     "output_type": "stream",
     "text": [
      "Sum probs = 1.0\n",
      "\n"
     ]
    },
    {
     "data": {
      "text/html": [
       "<div>\n",
       "<style scoped>\n",
       "    .dataframe tbody tr th:only-of-type {\n",
       "        vertical-align: middle;\n",
       "    }\n",
       "\n",
       "    .dataframe tbody tr th {\n",
       "        vertical-align: top;\n",
       "    }\n",
       "\n",
       "    .dataframe thead th {\n",
       "        text-align: right;\n",
       "    }\n",
       "</style>\n",
       "<table border=\"1\" class=\"dataframe\">\n",
       "  <thead>\n",
       "    <tr style=\"text-align: right;\">\n",
       "      <th></th>\n",
       "      <th>Outcomes</th>\n",
       "      <th>Prob</th>\n",
       "    </tr>\n",
       "  </thead>\n",
       "  <tbody>\n",
       "    <tr>\n",
       "      <td>0</td>\n",
       "      <td>(Y, Y, Y)</td>\n",
       "      <td>0.92169</td>\n",
       "    </tr>\n",
       "    <tr>\n",
       "      <td>1</td>\n",
       "      <td>(Y, Y, N)</td>\n",
       "      <td>0.00931</td>\n",
       "    </tr>\n",
       "    <tr>\n",
       "      <td>2</td>\n",
       "      <td>(Y, N, Y)</td>\n",
       "      <td>0.01881</td>\n",
       "    </tr>\n",
       "    <tr>\n",
       "      <td>3</td>\n",
       "      <td>(Y, N, N)</td>\n",
       "      <td>0.00019</td>\n",
       "    </tr>\n",
       "    <tr>\n",
       "      <td>4</td>\n",
       "      <td>(N, Y, Y)</td>\n",
       "      <td>0.04851</td>\n",
       "    </tr>\n",
       "    <tr>\n",
       "      <td>5</td>\n",
       "      <td>(N, Y, N)</td>\n",
       "      <td>0.00049</td>\n",
       "    </tr>\n",
       "    <tr>\n",
       "      <td>6</td>\n",
       "      <td>(N, N, Y)</td>\n",
       "      <td>0.00099</td>\n",
       "    </tr>\n",
       "    <tr>\n",
       "      <td>7</td>\n",
       "      <td>(N, N, N)</td>\n",
       "      <td>0.00001</td>\n",
       "    </tr>\n",
       "  </tbody>\n",
       "</table>\n",
       "</div>"
      ],
      "text/plain": [
       "    Outcomes     Prob\n",
       "0  (Y, Y, Y)  0.92169\n",
       "1  (Y, Y, N)  0.00931\n",
       "2  (Y, N, Y)  0.01881\n",
       "3  (Y, N, N)  0.00019\n",
       "4  (N, Y, Y)  0.04851\n",
       "5  (N, Y, N)  0.00049\n",
       "6  (N, N, Y)  0.00099\n",
       "7  (N, N, N)  0.00001"
      ]
     },
     "execution_count": 381,
     "metadata": {},
     "output_type": "execute_result"
    }
   ],
   "source": [
    "df['Prob'] = df['Outcomes'].apply(lambda a : p_first[a[0]] * p_second[a[1]] * p_third[a[2]])\n",
    "print(\"Sum probs = %.1f\\n\"%df['Prob'].sum())\n",
    "\n",
    "df"
   ]
  },
  {
   "cell_type": "markdown",
   "metadata": {},
   "source": [
    "X is RV $\\rightarrow$ numer of components in the assembly that meet specifications"
   ]
  },
  {
   "cell_type": "code",
   "execution_count": 382,
   "metadata": {},
   "outputs": [
    {
     "data": {
      "text/html": [
       "<div>\n",
       "<style scoped>\n",
       "    .dataframe tbody tr th:only-of-type {\n",
       "        vertical-align: middle;\n",
       "    }\n",
       "\n",
       "    .dataframe tbody tr th {\n",
       "        vertical-align: top;\n",
       "    }\n",
       "\n",
       "    .dataframe thead th {\n",
       "        text-align: right;\n",
       "    }\n",
       "</style>\n",
       "<table border=\"1\" class=\"dataframe\">\n",
       "  <thead>\n",
       "    <tr style=\"text-align: right;\">\n",
       "      <th></th>\n",
       "      <th>Outcomes</th>\n",
       "      <th>Prob</th>\n",
       "      <th>X</th>\n",
       "    </tr>\n",
       "  </thead>\n",
       "  <tbody>\n",
       "    <tr>\n",
       "      <td>0</td>\n",
       "      <td>(Y, Y, Y)</td>\n",
       "      <td>0.92169</td>\n",
       "      <td>3</td>\n",
       "    </tr>\n",
       "    <tr>\n",
       "      <td>1</td>\n",
       "      <td>(Y, Y, N)</td>\n",
       "      <td>0.00931</td>\n",
       "      <td>2</td>\n",
       "    </tr>\n",
       "    <tr>\n",
       "      <td>2</td>\n",
       "      <td>(Y, N, Y)</td>\n",
       "      <td>0.01881</td>\n",
       "      <td>2</td>\n",
       "    </tr>\n",
       "    <tr>\n",
       "      <td>3</td>\n",
       "      <td>(Y, N, N)</td>\n",
       "      <td>0.00019</td>\n",
       "      <td>1</td>\n",
       "    </tr>\n",
       "    <tr>\n",
       "      <td>4</td>\n",
       "      <td>(N, Y, Y)</td>\n",
       "      <td>0.04851</td>\n",
       "      <td>2</td>\n",
       "    </tr>\n",
       "    <tr>\n",
       "      <td>5</td>\n",
       "      <td>(N, Y, N)</td>\n",
       "      <td>0.00049</td>\n",
       "      <td>1</td>\n",
       "    </tr>\n",
       "    <tr>\n",
       "      <td>6</td>\n",
       "      <td>(N, N, Y)</td>\n",
       "      <td>0.00099</td>\n",
       "      <td>1</td>\n",
       "    </tr>\n",
       "    <tr>\n",
       "      <td>7</td>\n",
       "      <td>(N, N, N)</td>\n",
       "      <td>0.00001</td>\n",
       "      <td>0</td>\n",
       "    </tr>\n",
       "  </tbody>\n",
       "</table>\n",
       "</div>"
      ],
      "text/plain": [
       "    Outcomes     Prob  X\n",
       "0  (Y, Y, Y)  0.92169  3\n",
       "1  (Y, Y, N)  0.00931  2\n",
       "2  (Y, N, Y)  0.01881  2\n",
       "3  (Y, N, N)  0.00019  1\n",
       "4  (N, Y, Y)  0.04851  2\n",
       "5  (N, Y, N)  0.00049  1\n",
       "6  (N, N, Y)  0.00099  1\n",
       "7  (N, N, N)  0.00001  0"
      ]
     },
     "execution_count": 382,
     "metadata": {},
     "output_type": "execute_result"
    }
   ],
   "source": [
    "df['X'] = df['Outcomes'].apply(lambda x : len([a for a in x if a == 'Y']))\n",
    "df"
   ]
  },
  {
   "cell_type": "code",
   "execution_count": 387,
   "metadata": {},
   "outputs": [
    {
     "data": {
      "text/html": [
       "<div>\n",
       "<style scoped>\n",
       "    .dataframe tbody tr th:only-of-type {\n",
       "        vertical-align: middle;\n",
       "    }\n",
       "\n",
       "    .dataframe tbody tr th {\n",
       "        vertical-align: top;\n",
       "    }\n",
       "\n",
       "    .dataframe thead th {\n",
       "        text-align: right;\n",
       "    }\n",
       "</style>\n",
       "<table border=\"1\" class=\"dataframe\">\n",
       "  <thead>\n",
       "    <tr style=\"text-align: right;\">\n",
       "      <th></th>\n",
       "      <th>Prob</th>\n",
       "    </tr>\n",
       "    <tr>\n",
       "      <th>X</th>\n",
       "      <th></th>\n",
       "    </tr>\n",
       "  </thead>\n",
       "  <tbody>\n",
       "    <tr>\n",
       "      <td>0</td>\n",
       "      <td>0.00001</td>\n",
       "    </tr>\n",
       "    <tr>\n",
       "      <td>1</td>\n",
       "      <td>0.00167</td>\n",
       "    </tr>\n",
       "    <tr>\n",
       "      <td>2</td>\n",
       "      <td>0.07663</td>\n",
       "    </tr>\n",
       "    <tr>\n",
       "      <td>3</td>\n",
       "      <td>0.92169</td>\n",
       "    </tr>\n",
       "  </tbody>\n",
       "</table>\n",
       "</div>"
      ],
      "text/plain": [
       "      Prob\n",
       "X         \n",
       "0  0.00001\n",
       "1  0.00167\n",
       "2  0.07663\n",
       "3  0.92169"
      ]
     },
     "execution_count": 387,
     "metadata": {},
     "output_type": "execute_result"
    }
   ],
   "source": [
    "pmf = df.groupby('X').sum()\n",
    "pmf "
   ]
  },
  {
   "cell_type": "markdown",
   "metadata": {},
   "source": [
    "To Make sure PMF is valid"
   ]
  },
  {
   "cell_type": "code",
   "execution_count": 388,
   "metadata": {},
   "outputs": [
    {
     "name": "stdout",
     "output_type": "stream",
     "text": [
      "Sum PMF : 1.0\n"
     ]
    }
   ],
   "source": [
    "print(\"Sum PMF : %.1f\"%pmf['Prob'].sum())"
   ]
  },
  {
   "cell_type": "markdown",
   "metadata": {},
   "source": [
    "## Exercise 3-39\n",
    "\n",
    "Determine the cumulative distribution function for\n",
    "the random variable x that has the following pmf\n",
    "\n",
    "|| ||  |  | |\n",
    "|---|---|---|---|---|---|\n",
    "|x | -2 | -1 | 0 | 1 | 2 |\n",
    "|f(x) |0.2 | 0.4 | 0.1 | 0.2 | 0.1|\n",
    "\n",
    "and find \n",
    "\n",
    "(a) P(X ≤ 1.25)\n",
    "\n",
    "(b) P(X ≤ 2.2)\n",
    "\n",
    "(c) P(-1.1 < X ≤ 1.25)\n",
    "\n",
    "(d) P(X > 0)"
   ]
  },
  {
   "cell_type": "markdown",
   "metadata": {},
   "source": [
    "**Solution**\n",
    "\n",
    "$$F(x) = P(X \\leq x)$$\n",
    "\n",
    "So the solution \n",
    "\n",
    "$$\n",
    "F(x) =  \\Bigg\\{ \\begin{matrix}\n",
    "0 & x < -2\\\\\n",
    "0.2 & -2 \\leq x < -1\\\\\n",
    "0.6 & -1 \\leq x < 0\\\\\n",
    "0.7 & 0 \\leq x < 1\\\\\n",
    "0.9 & 1 \\leq x < 2\\\\\n",
    "1 &  2 \\leq x \\\\\n",
    "\\end{matrix}\n",
    "$$"
   ]
  },
  {
   "cell_type": "markdown",
   "metadata": {},
   "source": [
    "(a) \n",
    "\n",
    "$P(X ≤ 1.25) = F(1.25) = 0.9$\n",
    "\n",
    "(b) \n",
    "\n",
    "$ P(X ≤ 2.2) = F(2.2) = 1$\n",
    "\n",
    "(c) \n",
    "\n",
    "$P(-1.1 < X ≤ 1.25) = F(1.25) - F(-1.1) = 0.9 - 0.2 = 0.7 $\n",
    "\n",
    "(d) \n",
    "\n",
    "$P(X > 0) = 1 - P(X \\leq 0) = 1 - F(0) = 1 - 0.7 = 0.3$\n",
    "\n"
   ]
  },
  {
   "cell_type": "markdown",
   "metadata": {},
   "source": [
    "## Exercise \n",
    "\n",
    "Verify that the following functions are cumulative distribution\n",
    "functions, and determine the probability mass function and the\n",
    "requested probabilities\n",
    "\n",
    "\n",
    "$$\n",
    "F(x) =  \\Bigg\\{ \\begin{matrix}\n",
    "0 & x < 1\\\\\n",
    "0.5 &  1 \\leq x < 3\\\\\n",
    "1&  3 \\leq x \\\n",
    "\\end{matrix}\n",
    "$$\n",
    "\n",
    "(a) P (X ≤ 3)\n",
    "\n",
    "(b) P (X ≤ 2)\n",
    "\n",
    "(c) P(1 ≤ X ≤ 2) \n",
    "\n",
    "(d) P (X > 2 )\n"
   ]
  },
  {
   "cell_type": "markdown",
   "metadata": {},
   "source": [
    "**Solution**\n",
    "\n",
    "$ 0 \\leq F(x) \\leq 1$ So it is a valid CDF\n",
    "\n",
    "The PMF \n",
    "\n",
    "Break Points at x = 1, 3\n",
    "\n",
    "$f(1) = 0.5 - 0 = 0.5$\n",
    "\n",
    "$f(3) = 1 - 0.5 = 0.5$\n",
    "\n",
    "$$\n",
    "f(x) =\\Bigg\\{\\begin{matrix}\n",
    "0.5 &  x = 1\\\\\n",
    "0.5 &  x = 3 \n",
    "\\end{matrix}\n",
    "$$\n",
    "\n"
   ]
  },
  {
   "cell_type": "markdown",
   "metadata": {},
   "source": [
    "The rule\n",
    "\n",
    "$$F(x) = P(X \\leq x)$$\n",
    "\n",
    "(a) \n",
    "\n",
    "$P (X ≤ 3) = F(3) = 1$\n",
    "\n",
    "\n",
    "(b)\n",
    "\n",
    "$P(X ≤ 2) = F(2) = 0.5$\n",
    "\n",
    "(c) \n",
    "\n",
    "**Using notes above**\n",
    "\n",
    "$P(1 ≤ X ≤ 2)  = F(2) - F(1^{-}) =  0.5$\n",
    "\n",
    "(d) \n",
    "\n",
    "$P(X > 2) = 1 - P(X \\leq 2)  = 1 - F(2) = 1 - 0.5 = 0.5$\n"
   ]
  },
  {
   "cell_type": "code",
   "execution_count": null,
   "metadata": {},
   "outputs": [],
   "source": []
  },
  {
   "cell_type": "code",
   "execution_count": null,
   "metadata": {},
   "outputs": [],
   "source": []
  },
  {
   "cell_type": "code",
   "execution_count": null,
   "metadata": {},
   "outputs": [],
   "source": []
  },
  {
   "cell_type": "code",
   "execution_count": null,
   "metadata": {},
   "outputs": [],
   "source": []
  },
  {
   "cell_type": "code",
   "execution_count": null,
   "metadata": {},
   "outputs": [],
   "source": []
  },
  {
   "cell_type": "code",
   "execution_count": null,
   "metadata": {},
   "outputs": [],
   "source": []
  },
  {
   "cell_type": "code",
   "execution_count": null,
   "metadata": {},
   "outputs": [],
   "source": []
  },
  {
   "cell_type": "code",
   "execution_count": null,
   "metadata": {},
   "outputs": [],
   "source": []
  },
  {
   "cell_type": "code",
   "execution_count": null,
   "metadata": {},
   "outputs": [],
   "source": []
  }
 ],
 "metadata": {
  "kernelspec": {
   "display_name": "Python 3.7.4 64-bit ('base': conda)",
   "language": "python",
   "name": "python37464bitbaseconda8dbfdcf33cca494fab7248766d4f91e8"
  },
  "language_info": {
   "codemirror_mode": {
    "name": "ipython",
    "version": 3
   },
   "file_extension": ".py",
   "mimetype": "text/x-python",
   "name": "python",
   "nbconvert_exporter": "python",
   "pygments_lexer": "ipython3",
   "version": "3.7.4"
  }
 },
 "nbformat": 4,
 "nbformat_minor": 2
}
