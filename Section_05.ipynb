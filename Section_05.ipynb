{
 "cells": [
  {
   "cell_type": "markdown",
   "metadata": {},
   "source": [
    "#  Discrete Random Variables"
   ]
  },
  {
   "cell_type": "markdown",
   "metadata": {},
   "source": [
    "## Random Variable (RV) :\n",
    "* Real number for random experiment outcome\n",
    "* Finite number of outcomes : Discrete RV (DRV)\n",
    "* Infinite number of outcomes : Continuous RV (CRV)\n"
   ]
  },
  {
   "cell_type": "markdown",
   "metadata": {},
   "source": [
    "## Probability Mass Function (PMF) \n",
    "\n",
    "* Probability function (distribution) of RV \n",
    "\n",
    "$$\n",
    "pmf = f(x) = P(X = x)\n",
    "$$\n",
    "\n",
    "Where \n",
    "$$\\sum_{\\forall x} f(x) = 1$$"
   ]
  },
  {
   "cell_type": "markdown",
   "metadata": {},
   "source": [
    "## Cumulative Distribution Function (CDF)\n",
    "\n",
    "* Probability sum till specific value of the RV\n",
    "\n",
    "$$F(x) = P(X ≤ x) = \\sum_{x_i < x} f(x_i)$$\n",
    "\n",
    "\n",
    "Where \n",
    "\n",
    "$$0 \\leq F(x) \\leq 1$$"
   ]
  },
  {
   "cell_type": "markdown",
   "metadata": {},
   "source": [
    "## Exercise 3-16\n",
    "\n",
    "The sample space of a random experiment is {a, b, c, d,\n",
    "e, f}, and each outcome is equally likely. A random variable is\n",
    "defined as follows:\n",
    "\n",
    "\n",
    "|outcome| a| b| c| d| e| f|\n",
    "|---|---|---|---|---|---|---|\n",
    "|x| 0| 0 |1.5| 1.5| 2| 3|\n",
    "\n",
    "Determine the probability mass function of a. Use the\n",
    "probability mass function to determine the following\n",
    "probabilities:\n",
    "\n",
    "(a) $P(X = 1.5)$\n",
    "\n",
    "(b) $P( 0.5 < X < 2.7)$\n",
    "\n",
    "(c) $P(X > 3) $\n",
    "\n",
    "(d) $P(0 \\leq X < 3)$ \n",
    "\n",
    "(e) $P(X = 0$ or $X = 2)$"
   ]
  },
  {
   "cell_type": "markdown",
   "metadata": {},
   "source": [
    "**Solution**\n",
    "\n",
    "PMF \n",
    "\n",
    "$$f(x) = P(X = x)$$\n",
    "\n",
    "So \n",
    "\n",
    "$$\n",
    "f(x) =  \\Bigg\\{ \\begin{matrix}\n",
    "\\frac{1}{3}& x = 0\\\\\n",
    "\\frac{1}{3}& x = 1.5\\\\\n",
    "\\frac{1}{6}& x = 2\\\\\n",
    "\\frac{1}{6}& x = 3\\\\\n",
    "\\end{matrix}\n",
    "$$"
   ]
  },
  {
   "cell_type": "markdown",
   "metadata": {},
   "source": [
    "(a)\n",
    "\n",
    "$P(X = 1.5) = \\frac{1}{3}$\n"
   ]
  },
  {
   "cell_type": "markdown",
   "metadata": {},
   "source": [
    "(b) \n",
    "\n",
    "$P( 0.5 < X < 2.7) = \\frac{3}{6} = \\frac{1}{2}$\n"
   ]
  },
  {
   "cell_type": "markdown",
   "metadata": {},
   "source": [
    "(c) \n",
    "\n",
    "$P(X > 3) = 0 $\n"
   ]
  },
  {
   "cell_type": "markdown",
   "metadata": {},
   "source": [
    "(d) \n",
    "\n",
    "$P(0 \\leq X < 3) = \\frac{5}{6}$ \n"
   ]
  },
  {
   "cell_type": "markdown",
   "metadata": {},
   "source": [
    "(e) \n",
    "\n",
    "$P(X = 0$ or $X = 2)= \\frac{1}{3} +\\frac{1}{6} = \\frac{1}{2}   $"
   ]
  },
  {
   "cell_type": "markdown",
   "metadata": {},
   "source": [
    "## Exercise 3-19 \n",
    "\n",
    "verify that the following function is probability mass functions, and determine the requested\n",
    "probabilities.\n",
    "\n",
    "$$\n",
    "f(x) = \\frac{2x+1}{25}, x = 0, 1, 2, 3, 4\n",
    "$$\n",
    "\n",
    "(a) P (X= 4)  \n",
    "\n",
    "(b) P (X ≤ 1)\n",
    "\n",
    "(c) P( 2 ≤ X < 4)  \n",
    "\n",
    "(d) P(X  > -10 )"
   ]
  },
  {
   "cell_type": "markdown",
   "metadata": {},
   "source": [
    "**Solution**\n",
    "\n",
    "To verify that $f(x)$ is a PMF we need to show that \n",
    "$$\\sum_{\\forall x} f(x) = 1$$"
   ]
  },
  {
   "cell_type": "code",
   "execution_count": 200,
   "metadata": {},
   "outputs": [
    {
     "name": "stdout",
     "output_type": "stream",
     "text": [
      "[0, 1, 2, 3, 4]\n",
      "[0.04, 0.12, 0.2, 0.28, 0.36]\n"
     ]
    }
   ],
   "source": [
    "x = [a for a in range(5)]\n",
    "fx = lambda x : (2*x+1)/25\n",
    "probs = [fx(a) for a in x]\n",
    "print(x)\n",
    "print(probs)"
   ]
  },
  {
   "cell_type": "code",
   "execution_count": 199,
   "metadata": {},
   "outputs": [
    {
     "data": {
      "text/plain": [
       "1.0"
      ]
     },
     "execution_count": 199,
     "metadata": {},
     "output_type": "execute_result"
    }
   ],
   "source": [
    "sum(probs)"
   ]
  },
  {
   "cell_type": "markdown",
   "metadata": {},
   "source": [
    "So \n",
    "\n",
    "$f(x) = \\frac{2x+1}{25}, x = 0, 1, 2, 3, 4$ is a valid PMF function"
   ]
  },
  {
   "cell_type": "markdown",
   "metadata": {},
   "source": [
    "(a)\n",
    " \n",
    " $P (X= 4) = 0.36$\n",
    " \n",
    "(b)\n",
    "\n",
    "$P (X ≤ 1) = 0.16$\n",
    "\n",
    "(c)\n",
    "\n",
    "$ P( 2 ≤ X < 4) = 0.48$\n",
    "\n",
    "(d)\n",
    "\n",
    "$ P(X > -10 ) = 1$\n"
   ]
  },
  {
   "cell_type": "markdown",
   "metadata": {},
   "source": [
    "## Exercise 3-24\n",
    "\n",
    "An optical inspection system is used to distinguish\n",
    "among different part types. The probability of a correct classification of any part is $0.98$. Suppose that **three** parts are inspected\n",
    "and that the classifications are **independent**. Let the random\n",
    "variable $X$ denote the number of parts that are correctly classified. Determine the probability mass function of $X$."
   ]
  },
  {
   "cell_type": "markdown",
   "metadata": {},
   "source": [
    "**Solution**"
   ]
  },
  {
   "cell_type": "code",
   "execution_count": 233,
   "metadata": {},
   "outputs": [
    {
     "data": {
      "text/plain": [
       "[('C', 'C', 'C'),\n",
       " ('C', 'C', 'E'),\n",
       " ('C', 'E', 'C'),\n",
       " ('C', 'E', 'E'),\n",
       " ('E', 'C', 'C'),\n",
       " ('E', 'C', 'E'),\n",
       " ('E', 'E', 'C'),\n",
       " ('E', 'E', 'E')]"
      ]
     },
     "execution_count": 233,
     "metadata": {},
     "output_type": "execute_result"
    }
   ],
   "source": [
    "from itertools import product\n",
    "s = {'C', 'E'}\n",
    "p = {'C':0.98, 'E':0.02}\n",
    "space = list(product(s, repeat = 3))\n",
    "space"
   ]
  },
  {
   "cell_type": "code",
   "execution_count": 303,
   "metadata": {},
   "outputs": [
    {
     "name": "stdout",
     "output_type": "stream",
     "text": [
      "Sum probs = 1.0\n",
      "\n",
      " Outcome\t : P\n",
      "--------------------------------------------------------\n",
      "('C', 'C', 'C')  : 0.941192\n",
      "('C', 'C', 'E')  : 0.019208\n",
      "('C', 'E', 'C')  : 0.019208\n",
      "('C', 'E', 'E')  : 0.000392\n",
      "('E', 'C', 'C')  : 0.019208\n",
      "('E', 'C', 'E')  : 0.000392\n",
      "('E', 'E', 'C')  : 0.000392\n",
      "('E', 'E', 'E')  : 0.000008\n"
     ]
    }
   ],
   "source": [
    "probs = [np.prod([p[i] for i in a]) for a in space]\n",
    "print(\"Sum probs = %.1f\"%sum(probs))\n",
    "print()\n",
    "print(\" Outcome\\t : P\")\n",
    "print(\"-------\"*8)\n",
    "for i in range(8):\n",
    "    print(space[i], \" : %.6f\"%probs[i])"
   ]
  },
  {
   "cell_type": "code",
   "execution_count": 304,
   "metadata": {},
   "outputs": [
    {
     "data": {
      "text/plain": [
       "[3, 2, 2, 1, 2, 1, 1, 0]"
      ]
     },
     "execution_count": 304,
     "metadata": {},
     "output_type": "execute_result"
    }
   ],
   "source": [
    "count_c = lambda x : len([a for a in x if a == 'C'])\n",
    "X = [count_c(a) for a in space]\n",
    "X"
   ]
  },
  {
   "cell_type": "code",
   "execution_count": 305,
   "metadata": {},
   "outputs": [
    {
     "name": "stdout",
     "output_type": "stream",
     "text": [
      " Outcome\t : X\t: P\n",
      "--------------------------------------------------------\n",
      "('C', 'C', 'C')  :  3  : 0.941192\n",
      "('C', 'C', 'E')  :  2  : 0.019208\n",
      "('C', 'E', 'C')  :  2  : 0.019208\n",
      "('C', 'E', 'E')  :  1  : 0.000392\n",
      "('E', 'C', 'C')  :  2  : 0.019208\n",
      "('E', 'C', 'E')  :  1  : 0.000392\n",
      "('E', 'E', 'C')  :  1  : 0.000392\n",
      "('E', 'E', 'E')  :  0  : 0.000008\n"
     ]
    }
   ],
   "source": [
    "print(\" Outcome\\t : X\\t: P\")\n",
    "print(\"-------\"*8)\n",
    "for i in range(8):\n",
    "    print(space[i], \" : \", X[i], \" : %.6f\"%probs[i])"
   ]
  },
  {
   "cell_type": "code",
   "execution_count": 306,
   "metadata": {},
   "outputs": [
    {
     "name": "stdout",
     "output_type": "stream",
     "text": [
      " X : P\n",
      "----------------\n",
      "0  : 0.000008\n",
      "1  : 0.001176\n",
      "2  : 0.057624\n",
      "3  : 0.941192\n"
     ]
    }
   ],
   "source": [
    "prob_x = lambda x : sum([probs[i] for i in range(len(probs)) if X[i] == x])\n",
    "pmf = {x:prob_x(x) for x in range(0, 4)}\n",
    "\n",
    "print(\" X : P\")\n",
    "print(\"----\"*4)\n",
    "for k, v in pmf.items():\n",
    "    print(k, \" : %.6f\"%v)"
   ]
  },
  {
   "cell_type": "markdown",
   "metadata": {},
   "source": [
    "To Make sure PMF is valid"
   ]
  },
  {
   "cell_type": "code",
   "execution_count": 307,
   "metadata": {},
   "outputs": [
    {
     "name": "stdout",
     "output_type": "stream",
     "text": [
      "Sum PMF : 1.0\n"
     ]
    }
   ],
   "source": [
    "print(\"Sum PMF : %.1f\"%sum(pmf.values()))"
   ]
  },
  {
   "cell_type": "markdown",
   "metadata": {},
   "source": [
    "## Exercise 3-31\n",
    "\n",
    "An assembly consists of three mechanical components. Suppose that the probabilities that the first, second,\n",
    "and third components meet specifications are 0.95, 0.98, and\n",
    "0.99, respectively. Assume that the components are **independent**. Determine the probability mass function of the number of\n",
    "components in the assembly that meet specifications"
   ]
  },
  {
   "cell_type": "code",
   "execution_count": 380,
   "metadata": {},
   "outputs": [
    {
     "data": {
      "text/html": [
       "<div>\n",
       "<style scoped>\n",
       "    .dataframe tbody tr th:only-of-type {\n",
       "        vertical-align: middle;\n",
       "    }\n",
       "\n",
       "    .dataframe tbody tr th {\n",
       "        vertical-align: top;\n",
       "    }\n",
       "\n",
       "    .dataframe thead th {\n",
       "        text-align: right;\n",
       "    }\n",
       "</style>\n",
       "<table border=\"1\" class=\"dataframe\">\n",
       "  <thead>\n",
       "    <tr style=\"text-align: right;\">\n",
       "      <th></th>\n",
       "      <th>Outcomes</th>\n",
       "    </tr>\n",
       "  </thead>\n",
       "  <tbody>\n",
       "    <tr>\n",
       "      <td>0</td>\n",
       "      <td>(Y, Y, Y)</td>\n",
       "    </tr>\n",
       "    <tr>\n",
       "      <td>1</td>\n",
       "      <td>(Y, Y, N)</td>\n",
       "    </tr>\n",
       "    <tr>\n",
       "      <td>2</td>\n",
       "      <td>(Y, N, Y)</td>\n",
       "    </tr>\n",
       "    <tr>\n",
       "      <td>3</td>\n",
       "      <td>(Y, N, N)</td>\n",
       "    </tr>\n",
       "    <tr>\n",
       "      <td>4</td>\n",
       "      <td>(N, Y, Y)</td>\n",
       "    </tr>\n",
       "    <tr>\n",
       "      <td>5</td>\n",
       "      <td>(N, Y, N)</td>\n",
       "    </tr>\n",
       "    <tr>\n",
       "      <td>6</td>\n",
       "      <td>(N, N, Y)</td>\n",
       "    </tr>\n",
       "    <tr>\n",
       "      <td>7</td>\n",
       "      <td>(N, N, N)</td>\n",
       "    </tr>\n",
       "  </tbody>\n",
       "</table>\n",
       "</div>"
      ],
      "text/plain": [
       "    Outcomes\n",
       "0  (Y, Y, Y)\n",
       "1  (Y, Y, N)\n",
       "2  (Y, N, Y)\n",
       "3  (Y, N, N)\n",
       "4  (N, Y, Y)\n",
       "5  (N, Y, N)\n",
       "6  (N, N, Y)\n",
       "7  (N, N, N)"
      ]
     },
     "execution_count": 380,
     "metadata": {},
     "output_type": "execute_result"
    }
   ],
   "source": [
    "import pandas as pd\n",
    "s = {'Y', 'N'}\n",
    "p_first = {'Y':0.95, 'N':0.05}\n",
    "p_second = {'Y':0.98, 'N':0.02}\n",
    "p_third = {'Y':0.99, 'N':0.01}\n",
    "space = list(product(s, repeat=3))\n",
    "df = pd.DataFrame({'Outcomes':space})\n",
    "df"
   ]
  },
  {
   "cell_type": "code",
   "execution_count": 381,
   "metadata": {},
   "outputs": [
    {
     "name": "stdout",
     "output_type": "stream",
     "text": [
      "Sum probs = 1.0\n",
      "\n"
     ]
    },
    {
     "data": {
      "text/html": [
       "<div>\n",
       "<style scoped>\n",
       "    .dataframe tbody tr th:only-of-type {\n",
       "        vertical-align: middle;\n",
       "    }\n",
       "\n",
       "    .dataframe tbody tr th {\n",
       "        vertical-align: top;\n",
       "    }\n",
       "\n",
       "    .dataframe thead th {\n",
       "        text-align: right;\n",
       "    }\n",
       "</style>\n",
       "<table border=\"1\" class=\"dataframe\">\n",
       "  <thead>\n",
       "    <tr style=\"text-align: right;\">\n",
       "      <th></th>\n",
       "      <th>Outcomes</th>\n",
       "      <th>Prob</th>\n",
       "    </tr>\n",
       "  </thead>\n",
       "  <tbody>\n",
       "    <tr>\n",
       "      <td>0</td>\n",
       "      <td>(Y, Y, Y)</td>\n",
       "      <td>0.92169</td>\n",
       "    </tr>\n",
       "    <tr>\n",
       "      <td>1</td>\n",
       "      <td>(Y, Y, N)</td>\n",
       "      <td>0.00931</td>\n",
       "    </tr>\n",
       "    <tr>\n",
       "      <td>2</td>\n",
       "      <td>(Y, N, Y)</td>\n",
       "      <td>0.01881</td>\n",
       "    </tr>\n",
       "    <tr>\n",
       "      <td>3</td>\n",
       "      <td>(Y, N, N)</td>\n",
       "      <td>0.00019</td>\n",
       "    </tr>\n",
       "    <tr>\n",
       "      <td>4</td>\n",
       "      <td>(N, Y, Y)</td>\n",
       "      <td>0.04851</td>\n",
       "    </tr>\n",
       "    <tr>\n",
       "      <td>5</td>\n",
       "      <td>(N, Y, N)</td>\n",
       "      <td>0.00049</td>\n",
       "    </tr>\n",
       "    <tr>\n",
       "      <td>6</td>\n",
       "      <td>(N, N, Y)</td>\n",
       "      <td>0.00099</td>\n",
       "    </tr>\n",
       "    <tr>\n",
       "      <td>7</td>\n",
       "      <td>(N, N, N)</td>\n",
       "      <td>0.00001</td>\n",
       "    </tr>\n",
       "  </tbody>\n",
       "</table>\n",
       "</div>"
      ],
      "text/plain": [
       "    Outcomes     Prob\n",
       "0  (Y, Y, Y)  0.92169\n",
       "1  (Y, Y, N)  0.00931\n",
       "2  (Y, N, Y)  0.01881\n",
       "3  (Y, N, N)  0.00019\n",
       "4  (N, Y, Y)  0.04851\n",
       "5  (N, Y, N)  0.00049\n",
       "6  (N, N, Y)  0.00099\n",
       "7  (N, N, N)  0.00001"
      ]
     },
     "execution_count": 381,
     "metadata": {},
     "output_type": "execute_result"
    }
   ],
   "source": [
    "df['Prob'] = df['Outcomes'].apply(lambda a : p_first[a[0]] * p_second[a[1]] * p_third[a[2]])\n",
    "print(\"Sum probs = %.1f\\n\"%df['Prob'].sum())\n",
    "\n",
    "df"
   ]
  },
  {
   "cell_type": "markdown",
   "metadata": {},
   "source": [
    "X is RV $\\rightarrow$ numer of components in the assembly that meet specifications"
   ]
  },
  {
   "cell_type": "code",
   "execution_count": 382,
   "metadata": {},
   "outputs": [
    {
     "data": {
      "text/html": [
       "<div>\n",
       "<style scoped>\n",
       "    .dataframe tbody tr th:only-of-type {\n",
       "        vertical-align: middle;\n",
       "    }\n",
       "\n",
       "    .dataframe tbody tr th {\n",
       "        vertical-align: top;\n",
       "    }\n",
       "\n",
       "    .dataframe thead th {\n",
       "        text-align: right;\n",
       "    }\n",
       "</style>\n",
       "<table border=\"1\" class=\"dataframe\">\n",
       "  <thead>\n",
       "    <tr style=\"text-align: right;\">\n",
       "      <th></th>\n",
       "      <th>Outcomes</th>\n",
       "      <th>Prob</th>\n",
       "      <th>X</th>\n",
       "    </tr>\n",
       "  </thead>\n",
       "  <tbody>\n",
       "    <tr>\n",
       "      <td>0</td>\n",
       "      <td>(Y, Y, Y)</td>\n",
       "      <td>0.92169</td>\n",
       "      <td>3</td>\n",
       "    </tr>\n",
       "    <tr>\n",
       "      <td>1</td>\n",
       "      <td>(Y, Y, N)</td>\n",
       "      <td>0.00931</td>\n",
       "      <td>2</td>\n",
       "    </tr>\n",
       "    <tr>\n",
       "      <td>2</td>\n",
       "      <td>(Y, N, Y)</td>\n",
       "      <td>0.01881</td>\n",
       "      <td>2</td>\n",
       "    </tr>\n",
       "    <tr>\n",
       "      <td>3</td>\n",
       "      <td>(Y, N, N)</td>\n",
       "      <td>0.00019</td>\n",
       "      <td>1</td>\n",
       "    </tr>\n",
       "    <tr>\n",
       "      <td>4</td>\n",
       "      <td>(N, Y, Y)</td>\n",
       "      <td>0.04851</td>\n",
       "      <td>2</td>\n",
       "    </tr>\n",
       "    <tr>\n",
       "      <td>5</td>\n",
       "      <td>(N, Y, N)</td>\n",
       "      <td>0.00049</td>\n",
       "      <td>1</td>\n",
       "    </tr>\n",
       "    <tr>\n",
       "      <td>6</td>\n",
       "      <td>(N, N, Y)</td>\n",
       "      <td>0.00099</td>\n",
       "      <td>1</td>\n",
       "    </tr>\n",
       "    <tr>\n",
       "      <td>7</td>\n",
       "      <td>(N, N, N)</td>\n",
       "      <td>0.00001</td>\n",
       "      <td>0</td>\n",
       "    </tr>\n",
       "  </tbody>\n",
       "</table>\n",
       "</div>"
      ],
      "text/plain": [
       "    Outcomes     Prob  X\n",
       "0  (Y, Y, Y)  0.92169  3\n",
       "1  (Y, Y, N)  0.00931  2\n",
       "2  (Y, N, Y)  0.01881  2\n",
       "3  (Y, N, N)  0.00019  1\n",
       "4  (N, Y, Y)  0.04851  2\n",
       "5  (N, Y, N)  0.00049  1\n",
       "6  (N, N, Y)  0.00099  1\n",
       "7  (N, N, N)  0.00001  0"
      ]
     },
     "execution_count": 382,
     "metadata": {},
     "output_type": "execute_result"
    }
   ],
   "source": [
    "df['X'] = df['Outcomes'].apply(lambda x : len([a for a in x if a == 'Y']))\n",
    "df"
   ]
  },
  {
   "cell_type": "code",
   "execution_count": 383,
   "metadata": {},
   "outputs": [
    {
     "data": {
      "text/html": [
       "<div>\n",
       "<style scoped>\n",
       "    .dataframe tbody tr th:only-of-type {\n",
       "        vertical-align: middle;\n",
       "    }\n",
       "\n",
       "    .dataframe tbody tr th {\n",
       "        vertical-align: top;\n",
       "    }\n",
       "\n",
       "    .dataframe thead th {\n",
       "        text-align: right;\n",
       "    }\n",
       "</style>\n",
       "<table border=\"1\" class=\"dataframe\">\n",
       "  <thead>\n",
       "    <tr style=\"text-align: right;\">\n",
       "      <th></th>\n",
       "      <th>Prob</th>\n",
       "    </tr>\n",
       "    <tr>\n",
       "      <th>X</th>\n",
       "      <th></th>\n",
       "    </tr>\n",
       "  </thead>\n",
       "  <tbody>\n",
       "    <tr>\n",
       "      <td>0</td>\n",
       "      <td>0.00001</td>\n",
       "    </tr>\n",
       "    <tr>\n",
       "      <td>1</td>\n",
       "      <td>0.00167</td>\n",
       "    </tr>\n",
       "    <tr>\n",
       "      <td>2</td>\n",
       "      <td>0.07663</td>\n",
       "    </tr>\n",
       "    <tr>\n",
       "      <td>3</td>\n",
       "      <td>0.92169</td>\n",
       "    </tr>\n",
       "  </tbody>\n",
       "</table>\n",
       "</div>"
      ],
      "text/plain": [
       "      Prob\n",
       "X         \n",
       "0  0.00001\n",
       "1  0.00167\n",
       "2  0.07663\n",
       "3  0.92169"
      ]
     },
     "execution_count": 383,
     "metadata": {},
     "output_type": "execute_result"
    }
   ],
   "source": [
    "pmf = df.groupby('X').sum()\n",
    "pmf "
   ]
  },
  {
   "cell_type": "markdown",
   "metadata": {},
   "source": [
    "To Make sure PMF is valid"
   ]
  },
  {
   "cell_type": "code",
   "execution_count": 384,
   "metadata": {},
   "outputs": [
    {
     "name": "stdout",
     "output_type": "stream",
     "text": [
      "Sum PMF : 1.0\n"
     ]
    }
   ],
   "source": [
    "print(\"Sum PMF : %.1f\"%pmf['Prob'].sum())"
   ]
  },
  {
   "cell_type": "code",
   "execution_count": null,
   "metadata": {},
   "outputs": [],
   "source": []
  },
  {
   "cell_type": "code",
   "execution_count": null,
   "metadata": {},
   "outputs": [],
   "source": []
  },
  {
   "cell_type": "code",
   "execution_count": null,
   "metadata": {},
   "outputs": [],
   "source": []
  },
  {
   "cell_type": "code",
   "execution_count": null,
   "metadata": {},
   "outputs": [],
   "source": []
  },
  {
   "cell_type": "code",
   "execution_count": null,
   "metadata": {},
   "outputs": [],
   "source": []
  },
  {
   "cell_type": "code",
   "execution_count": null,
   "metadata": {},
   "outputs": [],
   "source": []
  },
  {
   "cell_type": "code",
   "execution_count": null,
   "metadata": {},
   "outputs": [],
   "source": []
  },
  {
   "cell_type": "code",
   "execution_count": null,
   "metadata": {},
   "outputs": [],
   "source": []
  },
  {
   "cell_type": "code",
   "execution_count": null,
   "metadata": {},
   "outputs": [],
   "source": []
  },
  {
   "cell_type": "code",
   "execution_count": null,
   "metadata": {},
   "outputs": [],
   "source": []
  },
  {
   "cell_type": "code",
   "execution_count": null,
   "metadata": {},
   "outputs": [],
   "source": []
  },
  {
   "cell_type": "code",
   "execution_count": null,
   "metadata": {},
   "outputs": [],
   "source": []
  },
  {
   "cell_type": "code",
   "execution_count": null,
   "metadata": {},
   "outputs": [],
   "source": []
  },
  {
   "cell_type": "code",
   "execution_count": 113,
   "metadata": {},
   "outputs": [],
   "source": [
    "x = [a for a in range(-3, 4)]\n",
    "pmf = [1, 2, 2, 4, 4,0, 1]"
   ]
  },
  {
   "cell_type": "code",
   "execution_count": 78,
   "metadata": {},
   "outputs": [
    {
     "data": {
      "text/plain": [
       "-2"
      ]
     },
     "execution_count": 78,
     "metadata": {},
     "output_type": "execute_result"
    }
   ],
   "source": [
    "import numpy as np \n",
    "np.dot(x, pmf)"
   ]
  },
  {
   "cell_type": "code",
   "execution_count": 116,
   "metadata": {},
   "outputs": [],
   "source": [
    "def get_mean(x, pmf):\n",
    "    return np.dot(x, pmf)\n",
    "def get_var(x, pmf):\n",
    "    m = get_mean(x, pmf)\n",
    "    return np.dot(np.power(x, 2), pmf) - m**2"
   ]
  },
  {
   "cell_type": "code",
   "execution_count": 120,
   "metadata": {},
   "outputs": [
    {
     "data": {
      "text/plain": [
       "2.2653061224489797"
      ]
     },
     "execution_count": 120,
     "metadata": {},
     "output_type": "execute_result"
    }
   ],
   "source": [
    "get_var(x, np.array(pmf)/14)"
   ]
  },
  {
   "cell_type": "code",
   "execution_count": 122,
   "metadata": {},
   "outputs": [
    {
     "data": {
      "text/plain": [
       "32"
      ]
     },
     "execution_count": 122,
     "metadata": {},
     "output_type": "execute_result"
    }
   ],
   "source": [
    "x2 = [a**2 for a in x]\n",
    "np.dot(x2, pmf)"
   ]
  },
  {
   "cell_type": "code",
   "execution_count": 130,
   "metadata": {},
   "outputs": [
    {
     "data": {
      "text/plain": [
       "Fraction(13, 49)"
      ]
     },
     "execution_count": 130,
     "metadata": {},
     "output_type": "execute_result"
    }
   ],
   "source": [
    "Fraction(32, 14) - Fraction(1,49) - 2"
   ]
  },
  {
   "cell_type": "code",
   "execution_count": 132,
   "metadata": {},
   "outputs": [
    {
     "data": {
      "text/plain": [
       "2.9166666666666665"
      ]
     },
     "execution_count": 132,
     "metadata": {},
     "output_type": "execute_result"
    }
   ],
   "source": [
    "x = [a for a in range(1,7)]\n",
    "np.var(x)"
   ]
  },
  {
   "cell_type": "code",
   "execution_count": 144,
   "metadata": {},
   "outputs": [
    {
     "data": {
      "text/plain": [
       "91"
      ]
     },
     "execution_count": 144,
     "metadata": {},
     "output_type": "execute_result"
    }
   ],
   "source": [
    "sum(np.power(x, 2))"
   ]
  },
  {
   "cell_type": "code",
   "execution_count": 145,
   "metadata": {},
   "outputs": [
    {
     "data": {
      "text/plain": [
       "Fraction(35, 12)"
      ]
     },
     "execution_count": 145,
     "metadata": {},
     "output_type": "execute_result"
    }
   ],
   "source": [
    "Fraction(91,6)-Fraction(3.5)**2"
   ]
  },
  {
   "cell_type": "code",
   "execution_count": 146,
   "metadata": {},
   "outputs": [
    {
     "data": {
      "text/plain": [
       "2.9166666666666665"
      ]
     },
     "execution_count": 146,
     "metadata": {},
     "output_type": "execute_result"
    }
   ],
   "source": [
    "35/12"
   ]
  },
  {
   "cell_type": "code",
   "execution_count": 80,
   "metadata": {},
   "outputs": [
    {
     "data": {
      "text/plain": [
       "-0.14285714285714285"
      ]
     },
     "execution_count": 80,
     "metadata": {},
     "output_type": "execute_result"
    }
   ],
   "source": [
    "-1/7"
   ]
  },
  {
   "cell_type": "code",
   "execution_count": 6,
   "metadata": {},
   "outputs": [],
   "source": [
    "from fractions import Fraction"
   ]
  },
  {
   "cell_type": "code",
   "execution_count": 20,
   "metadata": {},
   "outputs": [],
   "source": [
    "from itertools import product"
   ]
  },
  {
   "cell_type": "code",
   "execution_count": 21,
   "metadata": {},
   "outputs": [
    {
     "data": {
      "text/plain": [
       "{1, 2, 3, 4, 5, 6}"
      ]
     },
     "execution_count": 21,
     "metadata": {},
     "output_type": "execute_result"
    }
   ],
   "source": [
    "s = {a for a in range(1, 7)}\n",
    "s"
   ]
  },
  {
   "cell_type": "code",
   "execution_count": 27,
   "metadata": {},
   "outputs": [],
   "source": [
    "o = set(product(s, repeat = 2))"
   ]
  },
  {
   "cell_type": "code",
   "execution_count": 28,
   "metadata": {},
   "outputs": [
    {
     "data": {
      "text/plain": [
       "[3,\n",
       " 36,\n",
       " 30,\n",
       " 2,\n",
       " 12,\n",
       " 6,\n",
       " 5,\n",
       " 10,\n",
       " 2,\n",
       " 9,\n",
       " 25,\n",
       " 16,\n",
       " 18,\n",
       " 5,\n",
       " 18,\n",
       " 4,\n",
       " 4,\n",
       " 1,\n",
       " 24,\n",
       " 6,\n",
       " 12,\n",
       " 20,\n",
       " 20,\n",
       " 10,\n",
       " 4,\n",
       " 6,\n",
       " 8,\n",
       " 30,\n",
       " 15,\n",
       " 15,\n",
       " 24,\n",
       " 6,\n",
       " 3,\n",
       " 12,\n",
       " 12,\n",
       " 8]"
      ]
     },
     "execution_count": 28,
     "metadata": {},
     "output_type": "execute_result"
    }
   ],
   "source": [
    "x = [np.prod(a) for a in o]\n",
    "x"
   ]
  },
  {
   "cell_type": "code",
   "execution_count": 29,
   "metadata": {},
   "outputs": [],
   "source": [
    "from collections import Counter\n",
    "prob = Counter(x)"
   ]
  },
  {
   "cell_type": "code",
   "execution_count": 34,
   "metadata": {},
   "outputs": [
    {
     "data": {
      "text/plain": [
       "12.25"
      ]
     },
     "execution_count": 34,
     "metadata": {},
     "output_type": "execute_result"
    }
   ],
   "source": [
    "sum([np.prod(a) for a in prob.most_common()])/36"
   ]
  },
  {
   "cell_type": "code",
   "execution_count": 38,
   "metadata": {},
   "outputs": [
    {
     "data": {
      "text/plain": [
       "[1, 2, 3, 4, 5, 6]"
      ]
     },
     "execution_count": 38,
     "metadata": {},
     "output_type": "execute_result"
    }
   ],
   "source": [
    "x = [a for a in range(1, 7)]\n",
    "x"
   ]
  },
  {
   "cell_type": "code",
   "execution_count": 40,
   "metadata": {},
   "outputs": [
    {
     "data": {
      "text/plain": [
       "[-4, 6, -12, 12, -20, 18]"
      ]
     },
     "execution_count": 40,
     "metadata": {},
     "output_type": "execute_result"
    }
   ],
   "source": [
    "pmf = []\n",
    "for a in x:\n",
    "    if a%2 == 0:\n",
    "        p = 3*a\n",
    "    else:\n",
    "        p = -4*a\n",
    "    pmf.append(p)\n",
    "pmf"
   ]
  },
  {
   "cell_type": "code",
   "execution_count": 42,
   "metadata": {},
   "outputs": [
    {
     "data": {
      "text/plain": [
       "0"
      ]
     },
     "execution_count": 42,
     "metadata": {},
     "output_type": "execute_result"
    }
   ],
   "source": [
    "sum(pmf)"
   ]
  },
  {
   "cell_type": "code",
   "execution_count": 45,
   "metadata": {},
   "outputs": [],
   "source": [
    "import scipy\n"
   ]
  },
  {
   "cell_type": "code",
   "execution_count": 47,
   "metadata": {},
   "outputs": [
    {
     "name": "stderr",
     "output_type": "stream",
     "text": [
      "/home/eslam/anaconda3/lib/python3.7/importlib/_bootstrap.py:219: RuntimeWarning: numpy.ufunc size changed, may indicate binary incompatibility. Expected 192 from C header, got 216 from PyObject\n",
      "  return f(*args, **kwds)\n",
      "/home/eslam/anaconda3/lib/python3.7/importlib/_bootstrap.py:219: RuntimeWarning: numpy.ufunc size changed, may indicate binary incompatibility. Expected 192 from C header, got 216 from PyObject\n",
      "  return f(*args, **kwds)\n"
     ]
    }
   ],
   "source": [
    "from scipy.special import comb\n"
   ]
  },
  {
   "cell_type": "code",
   "execution_count": 52,
   "metadata": {},
   "outputs": [],
   "source": [
    "from scipy.special import factorial\n"
   ]
  },
  {
   "cell_type": "code",
   "execution_count": 54,
   "metadata": {},
   "outputs": [
    {
     "data": {
      "text/plain": [
       "array(720.)"
      ]
     },
     "execution_count": 54,
     "metadata": {},
     "output_type": "execute_result"
    }
   ],
   "source": [
    "factorial(6)"
   ]
  },
  {
   "cell_type": "code",
   "execution_count": 60,
   "metadata": {},
   "outputs": [],
   "source": [
    "x = [-60, 1]\n",
    "pmf = [1/720, 719/720]"
   ]
  },
  {
   "cell_type": "code",
   "execution_count": 61,
   "metadata": {},
   "outputs": [
    {
     "data": {
      "text/plain": [
       "0.9152777777777777"
      ]
     },
     "execution_count": 61,
     "metadata": {},
     "output_type": "execute_result"
    }
   ],
   "source": [
    "np.dot(x, pmf)"
   ]
  },
  {
   "cell_type": "code",
   "execution_count": 62,
   "metadata": {},
   "outputs": [],
   "source": [
    "x = [a for a in range(1, 7)]\n",
    "out = list(product(x, repeat=6))"
   ]
  },
  {
   "cell_type": "code",
   "execution_count": 63,
   "metadata": {},
   "outputs": [],
   "source": [
    "out = [sum(a) for a in out]"
   ]
  },
  {
   "cell_type": "code",
   "execution_count": 65,
   "metadata": {},
   "outputs": [],
   "source": [
    "from collections import Counter"
   ]
  },
  {
   "cell_type": "code",
   "execution_count": 66,
   "metadata": {},
   "outputs": [
    {
     "data": {
      "text/plain": [
       "Counter({6: 1,\n",
       "         7: 6,\n",
       "         8: 21,\n",
       "         9: 56,\n",
       "         10: 126,\n",
       "         11: 252,\n",
       "         12: 456,\n",
       "         13: 756,\n",
       "         14: 1161,\n",
       "         15: 1666,\n",
       "         16: 2247,\n",
       "         17: 2856,\n",
       "         18: 3431,\n",
       "         19: 3906,\n",
       "         20: 4221,\n",
       "         21: 4332,\n",
       "         22: 4221,\n",
       "         23: 3906,\n",
       "         24: 3431,\n",
       "         25: 2856,\n",
       "         26: 2247,\n",
       "         27: 1666,\n",
       "         28: 1161,\n",
       "         29: 756,\n",
       "         30: 456,\n",
       "         31: 252,\n",
       "         32: 126,\n",
       "         33: 56,\n",
       "         34: 21,\n",
       "         35: 6,\n",
       "         36: 1})"
      ]
     },
     "execution_count": 66,
     "metadata": {},
     "output_type": "execute_result"
    }
   ],
   "source": [
    "Counter(out)"
   ]
  },
  {
   "cell_type": "code",
   "execution_count": 67,
   "metadata": {},
   "outputs": [
    {
     "data": {
      "text/plain": [
       "21"
      ]
     },
     "execution_count": 67,
     "metadata": {},
     "output_type": "execute_result"
    }
   ],
   "source": [
    "sum(x)"
   ]
  },
  {
   "cell_type": "code",
   "execution_count": 111,
   "metadata": {},
   "outputs": [],
   "source": [
    "x = [-60, 1]\n",
    "pmf = [4332/len(out) ,1-4332/len(out)]"
   ]
  },
  {
   "cell_type": "code",
   "execution_count": 112,
   "metadata": {},
   "outputs": [
    {
     "data": {
      "text/plain": [
       "-4.66383744855967"
      ]
     },
     "execution_count": 112,
     "metadata": {},
     "output_type": "execute_result"
    }
   ],
   "source": [
    "np.dot(x, pmf)"
   ]
  },
  {
   "cell_type": "code",
   "execution_count": 151,
   "metadata": {},
   "outputs": [
    {
     "ename": "SyntaxError",
     "evalue": "invalid syntax (<ipython-input-151-4521c541d71c>, line 1)",
     "output_type": "error",
     "traceback": [
      "\u001b[0;36m  File \u001b[0;32m\"<ipython-input-151-4521c541d71c>\"\u001b[0;36m, line \u001b[0;32m1\u001b[0m\n\u001b[0;31m    (x+3)**2f(x)-(x+3)**2f(x)**2\u001b[0m\n\u001b[0m            ^\u001b[0m\n\u001b[0;31mSyntaxError\u001b[0m\u001b[0;31m:\u001b[0m invalid syntax\n"
     ]
    }
   ],
   "source": [
    "(x+3)**2f(x)-(x+3)**2f(x)**2"
   ]
  },
  {
   "cell_type": "code",
   "execution_count": 152,
   "metadata": {},
   "outputs": [],
   "source": [
    "x = [0, 2, 5, 5, 7, 10, 11]"
   ]
  },
  {
   "cell_type": "code",
   "execution_count": 153,
   "metadata": {},
   "outputs": [],
   "source": [
    "y = [a+3 for a in x]"
   ]
  },
  {
   "cell_type": "code",
   "execution_count": 154,
   "metadata": {},
   "outputs": [
    {
     "data": {
      "text/plain": [
       "[3, 5, 8, 8, 10, 13, 14]"
      ]
     },
     "execution_count": 154,
     "metadata": {},
     "output_type": "execute_result"
    }
   ],
   "source": [
    "y"
   ]
  },
  {
   "cell_type": "code",
   "execution_count": 155,
   "metadata": {},
   "outputs": [
    {
     "data": {
      "text/plain": [
       "13.632653061224488"
      ]
     },
     "execution_count": 155,
     "metadata": {},
     "output_type": "execute_result"
    }
   ],
   "source": [
    "np.var(x)"
   ]
  },
  {
   "cell_type": "code",
   "execution_count": 156,
   "metadata": {},
   "outputs": [
    {
     "data": {
      "text/plain": [
       "13.632653061224488"
      ]
     },
     "execution_count": 156,
     "metadata": {},
     "output_type": "execute_result"
    }
   ],
   "source": [
    "np.var(y)"
   ]
  },
  {
   "cell_type": "code",
   "execution_count": 157,
   "metadata": {},
   "outputs": [
    {
     "data": {
      "text/plain": [
       "64"
      ]
     },
     "execution_count": 157,
     "metadata": {},
     "output_type": "execute_result"
    }
   ],
   "source": [
    "8*8"
   ]
  },
  {
   "cell_type": "code",
   "execution_count": 158,
   "metadata": {},
   "outputs": [
    {
     "data": {
      "text/plain": [
       "64"
      ]
     },
     "execution_count": 158,
     "metadata": {},
     "output_type": "execute_result"
    }
   ],
   "source": [
    "2*32"
   ]
  },
  {
   "cell_type": "code",
   "execution_count": 159,
   "metadata": {},
   "outputs": [],
   "source": [
    "from numpy.random import binomial"
   ]
  },
  {
   "cell_type": "code",
   "execution_count": 170,
   "metadata": {},
   "outputs": [
    {
     "data": {
      "text/plain": [
       "array([5, 0, 2, 0, 4, 1, 0, 3, 1, 5, 4, 4, 2, 2, 2, 1, 3, 4, 3, 1, 2, 2,\n",
       "       1, 2, 1, 3, 1, 3, 2, 5, 2, 0, 3, 3, 1, 5, 2, 0, 1, 3, 3, 1, 1, 1,\n",
       "       1, 2, 1, 1, 2, 1, 0, 1, 2, 0, 1, 2, 3, 2, 3, 3, 3, 2, 3, 2, 0, 3,\n",
       "       4, 1, 3, 2, 0, 1, 3, 3, 1, 2, 2, 1, 1, 2, 2, 1, 3, 2, 1, 3, 3, 3,\n",
       "       1, 2, 5, 2, 2, 2, 2, 1, 1, 1, 3, 5])"
      ]
     },
     "execution_count": 170,
     "metadata": {},
     "output_type": "execute_result"
    }
   ],
   "source": [
    "\n",
    "binomial(10, 0.2, size = 100)"
   ]
  },
  {
   "cell_type": "code",
   "execution_count": 171,
   "metadata": {},
   "outputs": [],
   "source": [
    "from scipy.stats import binom"
   ]
  },
  {
   "cell_type": "code",
   "execution_count": 175,
   "metadata": {},
   "outputs": [],
   "source": [
    "X = binom(10, 0.3)"
   ]
  },
  {
   "cell_type": "code",
   "execution_count": null,
   "metadata": {},
   "outputs": [],
   "source": []
  }
 ],
 "metadata": {
  "kernelspec": {
   "display_name": "Python 3.7.4 64-bit ('base': conda)",
   "language": "python",
   "name": "python37464bitbaseconda8dbfdcf33cca494fab7248766d4f91e8"
  },
  "language_info": {
   "codemirror_mode": {
    "name": "ipython",
    "version": 3
   },
   "file_extension": ".py",
   "mimetype": "text/x-python",
   "name": "python",
   "nbconvert_exporter": "python",
   "pygments_lexer": "ipython3",
   "version": "3.7.4"
  }
 },
 "nbformat": 4,
 "nbformat_minor": 2
}
