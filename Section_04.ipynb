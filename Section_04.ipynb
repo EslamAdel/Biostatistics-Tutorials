{
 "cells": [
  {
   "cell_type": "markdown",
   "metadata": {},
   "source": [
    "# Introducation to Probability Theory\n",
    "\n",
    "* Conditional Probability\n",
    "* Multiplication Rule\n",
    "* Total Probability Rule\n",
    "* Independence\n",
    "* Bayes Rule"
   ]
  },
  {
   "cell_type": "markdown",
   "metadata": {},
   "source": [
    "## Conditional Probability \n",
    "\n",
    "* Additional Information (Prior knowledge)\n",
    "* Relative probabilities\n",
    "\n",
    "$$P(A|B) = \\frac{P(A\\cap B)}{P(B)}$$\n",
    "\n",
    "\n"
   ]
  },
  {
   "cell_type": "markdown",
   "metadata": {},
   "source": [
    "![](images/statistics-Conditional-Probability.png)"
   ]
  },
  {
   "cell_type": "markdown",
   "metadata": {},
   "source": [
    "## Exercise 2-99"
   ]
  },
  {
   "cell_type": "markdown",
   "metadata": {},
   "source": [
    "Disks of polycarbonate plastic from a supplier are\n",
    "analyzed for scratch and shock resistance. The results from 100\n",
    "disks are summarized as follows:\n",
    "\n",
    "![](images/2-99.png)\n",
    "\n",
    "Let A denote the event that a disk has high shock resistance,\n",
    "and let B denote the event that a disk has high scratch resistance. Determine the following probabilities:\n",
    "\n",
    "\n",
    "(a) P(A)  \n",
    "\n",
    "(b) P(B)\n",
    "\n",
    "(c) P(A| B) \n",
    "\n",
    "(d) P (B|A)"
   ]
  },
  {
   "cell_type": "markdown",
   "metadata": {},
   "source": [
    "**Solution**"
   ]
  },
  {
   "cell_type": "code",
   "execution_count": 2,
   "metadata": {},
   "outputs": [],
   "source": [
    "space = {70, 9, 16, 5}\n",
    "A = {70, 16}\n",
    "B = {70, 9}"
   ]
  },
  {
   "cell_type": "code",
   "execution_count": 1,
   "metadata": {},
   "outputs": [],
   "source": [
    "def prob(X):\n",
    "    return sum(X)/sum(space)\n",
    "\n",
    "def cond_prob(X, Y):\n",
    "    return prob(X & Y) / prob(Y)"
   ]
  },
  {
   "cell_type": "code",
   "execution_count": 3,
   "metadata": {},
   "outputs": [
    {
     "name": "stdout",
     "output_type": "stream",
     "text": [
      "(a) \n",
      "===\n",
      "P(A) =  0.86\n"
     ]
    }
   ],
   "source": [
    "print(\"(a) \\n===\")\n",
    "print(\"P(A) = \", prob(A))"
   ]
  },
  {
   "cell_type": "code",
   "execution_count": 4,
   "metadata": {},
   "outputs": [
    {
     "name": "stdout",
     "output_type": "stream",
     "text": [
      "\n",
      "(b) \n",
      "===\n",
      "P(B) =  0.79\n"
     ]
    }
   ],
   "source": [
    "# b\n",
    "print(\"\\n(b) \\n===\")\n",
    "print(\"P(B) = \", prob(B))"
   ]
  },
  {
   "cell_type": "code",
   "execution_count": 5,
   "metadata": {},
   "outputs": [
    {
     "name": "stdout",
     "output_type": "stream",
     "text": [
      "(c) \n",
      "===\n",
      "P(A| B) = 0.886\n"
     ]
    }
   ],
   "source": [
    "# c \n",
    "print(\"(c) \\n===\")\n",
    "print(\"P(A| B) = %0.3f\"%cond_prob(A, B))"
   ]
  },
  {
   "cell_type": "code",
   "execution_count": 8,
   "metadata": {},
   "outputs": [
    {
     "name": "stdout",
     "output_type": "stream",
     "text": [
      "(D) \n",
      "===\n",
      "P(B| A) = 0.814\n"
     ]
    }
   ],
   "source": [
    "# D \n",
    "print(\"(D) \\n===\")\n",
    "print(\"P(B| A) = %0.3f\"%cond_prob(B, A))"
   ]
  },
  {
   "cell_type": "markdown",
   "metadata": {},
   "source": [
    "## Exercise 2-103\n",
    "The following table summarizes the analysis of samples of galvanized steel for coating weight and surface roughness\n",
    "\n",
    "![](images/2-103.png)\n",
    "\n",
    "(a) If the coating weight of a sample is high, what is the\n",
    "probability that the surface roughness is high?\n",
    "\n",
    "(b) If the surface roughness of a sample is high, what is the\n",
    "probability that the coating weight is high?\n",
    "\n",
    "(c) If the surface roughness of a sample is low, what is the\n",
    "probability that the coating weight is low?\n"
   ]
  },
  {
   "cell_type": "markdown",
   "metadata": {},
   "source": [
    "**Solution**\n",
    "\n",
    "Let\n",
    "\n",
    "**A:** coating weight is high\n",
    "\n",
    "**B:** surface roughness is high\n"
   ]
  },
  {
   "cell_type": "code",
   "execution_count": 10,
   "metadata": {},
   "outputs": [],
   "source": [
    "space = {12, 16, 88, 34}\n",
    "A = {12, 88}\n",
    "B = {12, 16}"
   ]
  },
  {
   "cell_type": "markdown",
   "metadata": {},
   "source": [
    "(a)\n",
    "\n",
    "If the (coating weight of a sample is high) **A**, what is the probability that (the surface roughness is high) **B**?\n",
    "\n",
    "We need to find P(B|A)\n",
    "\n",
    "$$P(B|A) = \\frac{P(B\\cap A)}{P(A)}$$"
   ]
  },
  {
   "cell_type": "code",
   "execution_count": 11,
   "metadata": {},
   "outputs": [
    {
     "name": "stdout",
     "output_type": "stream",
     "text": [
      "P(B|A) = 0.120\n"
     ]
    }
   ],
   "source": [
    "print(\"P(B|A) = %0.3f\"%cond_prob(B, A))"
   ]
  },
  {
   "cell_type": "markdown",
   "metadata": {},
   "source": [
    "(b)\n",
    "\n",
    "If the (surface roughness of a sample is high) **B** , what is the probability that (the coating weight is high) **A**?\n",
    "\n",
    "We need to find P(A|B)\n",
    "\n"
   ]
  },
  {
   "cell_type": "code",
   "execution_count": 12,
   "metadata": {},
   "outputs": [
    {
     "name": "stdout",
     "output_type": "stream",
     "text": [
      "P(A|B) = 0.429\n"
     ]
    }
   ],
   "source": [
    "print(\"P(A|B) = %0.3f\"%cond_prob(A, B))"
   ]
  },
  {
   "cell_type": "markdown",
   "metadata": {},
   "source": [
    "(c) \n",
    "\n",
    "If (the surface roughness of a sample is low) **B'**, what is the\n",
    "probability that (the coating weight is low) **A'**?\n",
    "\n",
    "We need to find P(A'|B')"
   ]
  },
  {
   "cell_type": "code",
   "execution_count": 13,
   "metadata": {},
   "outputs": [],
   "source": [
    "Ac = space - A\n",
    "Bc = space - B"
   ]
  },
  {
   "cell_type": "code",
   "execution_count": 14,
   "metadata": {},
   "outputs": [
    {
     "name": "stdout",
     "output_type": "stream",
     "text": [
      "P(A'|B') = 0.279\n"
     ]
    }
   ],
   "source": [
    "print(\"P(A'|B') = %0.3f\"%cond_prob(Ac, Bc))"
   ]
  },
  {
   "cell_type": "markdown",
   "metadata": {},
   "source": [
    "## Exercise 2-107\n",
    "A lot of 100 semiconductor chips contains 20 that\n",
    "are defective. Two are selected randomly, without replacement,\n",
    "from the lot.\n",
    "\n",
    "(a) What is the probability that the first one selected is\n",
    "defective?\n",
    "\n",
    "(b) What is the probability that the second one selected is\n",
    "defective given that the first one was defective?\n",
    "\n",
    "(c) What is the probability that both are defective?\n",
    "\n",
    "(d) How does the answer to part (b) change if chips selected\n",
    "were replaced prior to the next selection?"
   ]
  },
  {
   "cell_type": "markdown",
   "metadata": {},
   "source": [
    "**Solution**\n",
    "\n",
    "let Di denotes the selected chip is defective for selection #i where i = 1, 2, 3\n",
    "\n",
    "(a)"
   ]
  },
  {
   "cell_type": "code",
   "execution_count": 15,
   "metadata": {},
   "outputs": [],
   "source": [
    "space = {20, 80}\n",
    "D1 = {20}"
   ]
  },
  {
   "cell_type": "code",
   "execution_count": 16,
   "metadata": {},
   "outputs": [
    {
     "name": "stdout",
     "output_type": "stream",
     "text": [
      "P(D1) =  0.2\n"
     ]
    }
   ],
   "source": [
    "# First Trial \n",
    "PD1 = prob(D1)\n",
    "print(\"P(D1) = \", PD1)"
   ]
  },
  {
   "cell_type": "markdown",
   "metadata": {},
   "source": [
    "(b)\n",
    "\n",
    "Given that first selected chip was defective (No replacement) the space will change {19, 80}\n",
    "\n",
    "as defective parts will decrease by one"
   ]
  },
  {
   "cell_type": "code",
   "execution_count": 17,
   "metadata": {},
   "outputs": [
    {
     "name": "stdout",
     "output_type": "stream",
     "text": [
      "P(D2|D1) =  0.1919191919191919\n"
     ]
    }
   ],
   "source": [
    "space = {19, 80}\n",
    "D2 = {19}\n",
    "PD2_giv_D1 = prob(D2)\n",
    "print(\"P(D2|D1) = \", PD2_giv_D1)"
   ]
  },
  {
   "cell_type": "markdown",
   "metadata": {},
   "source": [
    "(c)\n",
    "\n",
    "$ P(D_1, D_2) \\rightarrow P(D_1 \\cap D_2) = P(D_1 | D_2) \\times P(D2) =  P(D_2 | D_1) \\times P(D_1)$\n",
    "\n",
    "So \n",
    "\n",
    "$ P(D_1, D_2) =  P(D_2 | D_1) \\times P(D_1)$\n"
   ]
  },
  {
   "cell_type": "code",
   "execution_count": 18,
   "metadata": {},
   "outputs": [
    {
     "name": "stdout",
     "output_type": "stream",
     "text": [
      "P(D1 , D2) =  0.03838383838383838\n"
     ]
    }
   ],
   "source": [
    "P_D1_and_D2 = PD2_giv_D1 * PD1\n",
    "print(\"P(D1 , D2) = \", P_D1_and_D2)"
   ]
  },
  {
   "cell_type": "markdown",
   "metadata": {},
   "source": [
    "(d)\n",
    "\n",
    "If replacement exists so space will not change "
   ]
  },
  {
   "cell_type": "code",
   "execution_count": 19,
   "metadata": {},
   "outputs": [
    {
     "name": "stdout",
     "output_type": "stream",
     "text": [
      "P(D2|D1) =  0.2\n"
     ]
    }
   ],
   "source": [
    "space = {20, 80}\n",
    "D2 = {20}\n",
    "print(\"P(D2|D1) = \", prob(D2))"
   ]
  },
  {
   "cell_type": "markdown",
   "metadata": {},
   "source": [
    "## Multiplication Rule, Total Probability Rule, Independence and Bayes Rule"
   ]
  },
  {
   "cell_type": "markdown",
   "metadata": {},
   "source": [
    "### Multiplication Rule\n",
    "\n",
    "From conditional probability rule \n",
    "$$P(A|B) = \\frac{P(A\\cap B)}{P(B)}$$\n",
    "$$P(B|A) = \\frac{P(B\\cap A)}{P(A)}$$\n",
    "So\n",
    "$$P(A\\cap B) = P(A|B)P(B)  $$\n",
    "$$P(B\\cap A) = P(B| A)P(A)$$\n",
    "But $P(A\\cap B) = P(B\\cap A)$\n",
    "\n",
    "$$P(A\\cap B) = P(A|B)P(B) = P(B| A)P(A)$$"
   ]
  },
  {
   "cell_type": "markdown",
   "metadata": {},
   "source": [
    "### Total probability Rule\n",
    "\n",
    "\n",
    "For any event $B$ \n",
    "\n",
    "$$ B = (B \\cap A) \\cup (B \\cap A')$$ \n",
    "\n",
    "and $A$ and  $A'$ are matually execlusive \n",
    "\n",
    "So \n",
    "\n",
    "$$P(B) = P(B\\cap A) + P(B\\cap A')$$\n",
    "\n",
    "and from mutiplication rule \n",
    "\n",
    "$$P(B) = P(B| A)P(A) +  P(B| A')P(A') $$\n",
    "\n",
    "In general If we have multiple mutually execlusive events $E_1, E_2, ... , E_k$\n",
    "\n",
    "$$P(B) = P(B \\cap E_1) + P(B \\cap  E_2) +  ... + P(B \\cap E_k)$$\n",
    "$$P(B) = P(B|E_1)P(E_1) + P(B | E_2)P(E_2) +  ... + P(B| E_k)P(E_k) $$\n",
    "\n"
   ]
  },
  {
   "cell_type": "markdown",
   "metadata": {},
   "source": [
    "### Independence\n",
    "\n",
    "For Two events $A$ and $B$ thery are independent If\n",
    "\n",
    "$$P(A|B) = P(A)$$\n",
    "$$P(B|A) = P(B)$$\n",
    "$$P(A\\cap B) = P(A)\\times P(B)$$\n",
    "\n",
    "**Note**\n",
    "\n",
    "Independence does not mean they are matually execlusive as for two matually execlusive events $A$ and $B$, $P(A \\cap B) = 0$"
   ]
  },
  {
   "cell_type": "markdown",
   "metadata": {},
   "source": [
    "### Bayes Rule \n",
    "\n",
    "From conditional probability rule\n",
    "\n",
    "$$P(A|B) = \\frac{P(A\\cap B)}{P(B)}$$\n",
    "\n",
    "Using **multiplication rule**\n",
    "\n",
    "$$P(A\\cap B) = P(B|A)P(A)$$\n",
    "\n",
    "So \n",
    "\n",
    "$$P(A|B) = \\frac{ P(B|A)P(A) }{P(B)}$$\n",
    "\n",
    "**Note**\n",
    "\n",
    "From total probability rule $P(B)$ can be calculated from $P(B) = P(B|A)P(A)+ P(B|A')P(A')$\n"
   ]
  },
  {
   "cell_type": "markdown",
   "metadata": {},
   "source": [
    "## Exercise 2-121\n",
    "\n",
    "Suppose that P(A|B) =  0.4 and P(B)=0.5 Determine the following:\n",
    "\n",
    "(a) $P(A\\cap B)$\n",
    "\n",
    "(b)$P(A' \\cap B)$"
   ]
  },
  {
   "cell_type": "markdown",
   "metadata": {},
   "source": [
    "**Solution**\n",
    "\n",
    "(a) \n",
    "\n",
    "$P(A \\cap B) = P(A|B) P(B)$ "
   ]
  },
  {
   "cell_type": "code",
   "execution_count": 20,
   "metadata": {},
   "outputs": [
    {
     "name": "stdout",
     "output_type": "stream",
     "text": [
      "P(A ∩ B) =  0.2\n"
     ]
    }
   ],
   "source": [
    "P_A_given_B = 0.4 \n",
    "P_B = 0.5\n",
    "P_A_intersect_B = P_A_given_B * P_B\n",
    "print(\"P(A ∩ B) = \", P_A_intersect_B)"
   ]
  },
  {
   "cell_type": "markdown",
   "metadata": {},
   "source": [
    "(b) \n",
    "\n",
    "$P(A' \\cap B) = P(A'|B) P(B) $ \n",
    "\n",
    "and\n",
    "\n",
    "$P(A'|B) = 1 - P(A|B)$\n",
    "\n",
    "So\n",
    "$P(A' \\cap B) = (1-P(A|B))P(B) $ "
   ]
  },
  {
   "cell_type": "code",
   "execution_count": 21,
   "metadata": {},
   "outputs": [
    {
     "name": "stdout",
     "output_type": "stream",
     "text": [
      "P(A' ∩ B) =  0.3\n"
     ]
    }
   ],
   "source": [
    "P_Ac_given_B = (1-P_A_given_B)*P_B\n",
    "print(\"P(A' ∩ B) = \", P_Ac_given_B)"
   ]
  },
  {
   "cell_type": "markdown",
   "metadata": {},
   "source": [
    "**Another method**\n",
    "\n",
    "from total probability rule \n",
    "$$P(B) = P(A \\cap B) + P(A' \\cap B)$$ \n",
    "\n",
    "Where $A$ and $A'$ are matually execlusive\n",
    "\n",
    "So \n",
    "\n",
    "$P(A' \\cap B) = P(B) - P(A \\cap B)$"
   ]
  },
  {
   "cell_type": "code",
   "execution_count": 22,
   "metadata": {},
   "outputs": [
    {
     "name": "stdout",
     "output_type": "stream",
     "text": [
      "P(A' ∩ B) =  0.3\n"
     ]
    }
   ],
   "source": [
    "P_Ac_given_B = P_B - P_A_intersect_B\n",
    "print(\"P(A' ∩ B) = \", P_Ac_given_B)"
   ]
  },
  {
   "cell_type": "markdown",
   "metadata": {},
   "source": [
    "## Exercise 2-123\n",
    "\n",
    "The probability is 1% that an electrical connector\n",
    "that is kept dry fails during the warranty period of a portable\n",
    "computer. If the connector is ever wet, the probability of a failure during the warranty period is 5%. If 90% of the connectors\n",
    "are kept dry and 10% are wet, what proportion of connectors\n",
    "fail during the warranty period?"
   ]
  },
  {
   "cell_type": "markdown",
   "metadata": {},
   "source": [
    "**Solution**\n",
    "\n",
    "Let F denote connector failer\n",
    "\n",
    "Let D denote dry connector\n",
    "\n",
    "Let W denote wet connector\n",
    "\n",
    "![](images/2-123.png)\n",
    "\n",
    "\n",
    "$P(F) = P(F \\cap D) + P(F \\cap W)$\n",
    "\n",
    "Probability of intersection is the area of the rectangle. \n",
    "\n",
    "This satisify the total probability rule \n",
    "\n",
    "$P(F) = P(F|D)P(D) + P(F|W)P(W)$"
   ]
  },
  {
   "cell_type": "code",
   "execution_count": 23,
   "metadata": {},
   "outputs": [
    {
     "name": "stdout",
     "output_type": "stream",
     "text": [
      "P(F) =0.014\n"
     ]
    }
   ],
   "source": [
    "P_F = 0.01*0.9 + 0.05*0.1\n",
    "print(\"P(F) =%0.3f\" %P_F)"
   ]
  },
  {
   "cell_type": "markdown",
   "metadata": {},
   "source": [
    "## Exercise\n",
    "\n",
    "A new method to detect defects in Aluminum sheets is being tested. This new method of ultrasound\n",
    "wave analysis is important because, if adopted, it could be used to detect three different defects\n",
    "holes, air bubbles, and contaminants instead of having to use a single test for each defect. The\n",
    "makers of the test claim that it can detect holes with 99.7% accuracy, air bubbles with 99.95%\n",
    "accuracy, and contaminants with 89.7% accuracy. If a defect is not present, the test does not signal.\n",
    "Samples are prepared for the calibration of the test and 60% of them are defected with holes, 27%\n",
    "with air bubbles, and 13% with different contaminants.\n",
    "A test sample is selected randomly, if the test signals, what is the probability that contaminants are\n",
    "present?"
   ]
  },
  {
   "cell_type": "markdown",
   "metadata": {},
   "source": [
    "**Solution**\n",
    "\n",
    "![](images/2-124.png)\n",
    "\n",
    "$$P(C|S) = \\frac{P(S\\cap C)}{P(S)}$$\n",
    "$$P(C|S) = \\frac{P(S\\cap C)}{P(S \\cap H)+P(S \\cap A)+P(S \\cap C)}$$\n"
   ]
  },
  {
   "cell_type": "code",
   "execution_count": 24,
   "metadata": {},
   "outputs": [
    {
     "name": "stdout",
     "output_type": "stream",
     "text": [
      "𝑃(𝐶|𝑆) = 0.118\n"
     ]
    }
   ],
   "source": [
    "PC_given_S = (0.897*0.13)/((0.897*0.13)+(0.9995*0.27)+(0.997*0.6))\n",
    "print(\"𝑃(𝐶|𝑆) = %0.3f\"%PC_given_S)"
   ]
  },
  {
   "cell_type": "markdown",
   "metadata": {},
   "source": [
    "## Exercise 2-146\n",
    "Disks of polycarbonate plastic from a supplier are\n",
    "analyzed for scratch and shock resistance. The results from 100\n",
    "disks are summarized as follows\n",
    "\n",
    "||||Shock Resistance|\n",
    "|--|----|----|----|\n",
    "|||High|Low|\n",
    "|**Scratch**|High|70|9|\n",
    "|**Resistance**|Low|16|5|\n",
    "\n",
    "\n",
    "Let A denote the event that a disk has high shock resistance,\n",
    "and let B denote the event that a disk has high scratch resistance. Are events A and B independent?\n"
   ]
  },
  {
   "cell_type": "code",
   "execution_count": 26,
   "metadata": {},
   "outputs": [],
   "source": [
    "space = {70, 9, 16, 5}\n",
    "A = {70, 16}\n",
    "B = {70, 9}"
   ]
  },
  {
   "cell_type": "code",
   "execution_count": 28,
   "metadata": {},
   "outputs": [],
   "source": [
    "def are_independant(X, Y):\n",
    "    return prob(X & Y) == prob(X)*prob(Y)"
   ]
  },
  {
   "cell_type": "code",
   "execution_count": 29,
   "metadata": {},
   "outputs": [
    {
     "name": "stdout",
     "output_type": "stream",
     "text": [
      "A and B are independant ?  No\n"
     ]
    }
   ],
   "source": [
    "print(\"A and B are independant ? \", \"Yes\" if are_independant(A, B) else \"No\")"
   ]
  },
  {
   "cell_type": "code",
   "execution_count": 30,
   "metadata": {},
   "outputs": [
    {
     "data": {
      "text/plain": [
       "False"
      ]
     },
     "execution_count": 30,
     "metadata": {},
     "output_type": "execute_result"
    }
   ],
   "source": [
    "0.7 == (0.86*0.79)"
   ]
  },
  {
   "cell_type": "markdown",
   "metadata": {},
   "source": [
    "## Exercise 2-150\n",
    "\n",
    "In a test of a printed circuit board using a random\n",
    "test pattern, an array of 10 bits is equally likely to be 0 or 1.\n",
    "Assume the bits are independent.\n",
    "\n",
    "(a) What is the probability that all bits are 1s?\n",
    "\n",
    "(b) What is the probability that all bits are 0s?\n",
    "\n",
    "(c) What is the probability that exactly 5 bits are 1s and 5 bits\n",
    "are 0s?"
   ]
  },
  {
   "cell_type": "markdown",
   "metadata": {},
   "source": [
    "**Solution**\n",
    "\n",
    "Independet events"
   ]
  },
  {
   "cell_type": "code",
   "execution_count": 31,
   "metadata": {},
   "outputs": [
    {
     "name": "stdout",
     "output_type": "stream",
     "text": [
      "(a) 0.00098\n",
      "(b) 0.00098\n",
      "(c) 0.06250\n"
     ]
    }
   ],
   "source": [
    "a = 0.5**10\n",
    "b = 0.5**10\n",
    "c = 0.5**5+0.5**5\n",
    "print(\"(a) %0.5f\"%a)\n",
    "print(\"(b) %0.5f\"%b)\n",
    "print(\"(c) %0.5f\"%c)"
   ]
  },
  {
   "cell_type": "markdown",
   "metadata": {},
   "source": [
    "## Exercise 2-156\n",
    "\n",
    "The following circuit operates if and only if there is\n",
    "a path of functional devices from left to right. The probability\n",
    "that each device functions is as shown. Assume that the probability that a device is functional does not depend on whether\n",
    "or not other devices are functional. What is the probability that\n",
    "the circuit operates?\n",
    "\n",
    "![](images/2-156.png)"
   ]
  },
  {
   "cell_type": "markdown",
   "metadata": {},
   "source": [
    "**Solution**\n",
    "\n",
    "Lets denote devices Dij where i is the row and j is the column\n",
    "\n",
    "O denote circuit will operate\n",
    "\n",
    "$$O = (D_{11} \\cap D_{12} \\cap D_{13}) \\cup (D_{21} \\cap D_{22} \\cap D_{23} )$$\n",
    "Let \n",
    "\n",
    "$E_1 = D_{11} \\cap D_{12} \\cap D_{13}$ \n",
    "\n",
    "$E_2 = D_{21} \\cap D_{22} \\cap D_{23}$ \n",
    "\n",
    "So\n",
    "\n",
    "$$P(O) = P(E_1) + P(E_2) - P(E_1 \\cap E_2)$$\n",
    "\n",
    "They are **Independant**"
   ]
  },
  {
   "cell_type": "code",
   "execution_count": 32,
   "metadata": {},
   "outputs": [
    {
     "data": {
      "text/plain": [
       "0.9292579999999998"
      ]
     },
     "execution_count": 32,
     "metadata": {},
     "output_type": "execute_result"
    }
   ],
   "source": [
    "PE1 = 0.9*0.8*0.7\n",
    "PE2 = 0.95**3\n",
    "PO = PE1+PE2 - PE1*PE2\n",
    "PO"
   ]
  },
  {
   "cell_type": "markdown",
   "metadata": {},
   "source": [
    "**Another Solution**\n",
    "\n",
    "$$P(O) = P(E_1 \\cup E_2) = 1 -  P(E_1 \\cup E_2)' = 1 -  P(E_1' \\cap E_2') = 1 -  P(E_1')P(E_2')  $$"
   ]
  },
  {
   "cell_type": "code",
   "execution_count": 33,
   "metadata": {},
   "outputs": [
    {
     "data": {
      "text/plain": [
       "0.9292579999999999"
      ]
     },
     "execution_count": 33,
     "metadata": {},
     "output_type": "execute_result"
    }
   ],
   "source": [
    "PE1_c = 1-PE1\n",
    "PE2_c = 1-PE2\n",
    "PO = 1-PE1_c*PE2_c\n",
    "PO"
   ]
  },
  {
   "cell_type": "code",
   "execution_count": 34,
   "metadata": {},
   "outputs": [
    {
     "data": {
      "text/plain": [
       "0.496"
      ]
     },
     "execution_count": 34,
     "metadata": {},
     "output_type": "execute_result"
    }
   ],
   "source": [
    "1-PE1"
   ]
  },
  {
   "cell_type": "code",
   "execution_count": 35,
   "metadata": {},
   "outputs": [
    {
     "data": {
      "text/plain": [
       "0.49600000000000005"
      ]
     },
     "execution_count": 35,
     "metadata": {},
     "output_type": "execute_result"
    }
   ],
   "source": [
    "PE1_c = 0.1+0.2+0.3-0.1*0.2-0.1*0.3-0.2*0.3+0.1*0.2*0.3\n",
    "PE1_c"
   ]
  },
  {
   "cell_type": "code",
   "execution_count": null,
   "metadata": {},
   "outputs": [],
   "source": []
  }
 ],
 "metadata": {
  "kernelspec": {
   "display_name": "Python 3.7.4 64-bit ('base': conda)",
   "language": "python",
   "name": "python37464bitbaseconda8dbfdcf33cca494fab7248766d4f91e8"
  },
  "language_info": {
   "codemirror_mode": {
    "name": "ipython",
    "version": 3
   },
   "file_extension": ".py",
   "mimetype": "text/x-python",
   "name": "python",
   "nbconvert_exporter": "python",
   "pygments_lexer": "ipython3",
   "version": "3.7.4"
  }
 },
 "nbformat": 4,
 "nbformat_minor": 2
}
