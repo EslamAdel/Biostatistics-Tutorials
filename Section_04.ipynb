{
 "cells": [
  {
   "cell_type": "markdown",
   "metadata": {},
   "source": [
    "## Section and Assignment will be submistted next section, Then Quiz next section"
   ]
  },
  {
   "cell_type": "markdown",
   "metadata": {},
   "source": [
    "## Conditional Probability \n",
    "\n",
    "* Additional Information (Prior knowledge)\n",
    "* Relative probabilities\n",
    "\n",
    "$$P(A|B) = \\frac{P(A\\cap B)}{P(B)}$$\n",
    "\n",
    "and \n",
    "\n",
    "$$P(A \\cap B) = P(B \\cap A)$$ \n",
    "\n"
   ]
  },
  {
   "cell_type": "markdown",
   "metadata": {},
   "source": [
    "![](images/statistics-Conditional-Probability.png)"
   ]
  },
  {
   "cell_type": "markdown",
   "metadata": {},
   "source": [
    "### Exercise 2-99"
   ]
  },
  {
   "cell_type": "markdown",
   "metadata": {},
   "source": [
    "Disks of polycarbonate plastic from a supplier are\n",
    "analyzed for scratch and shock resistance. The results from 100\n",
    "disks are summarized as follows:\n",
    "\n",
    "![](images/2-99.png)\n",
    "\n",
    "Let A denote the event that a disk has high shock resistance,\n",
    "and let B denote the event that a disk has high scratch resistance. Determine the following probabilities:\n",
    "\n",
    "\n",
    "(a) P(A)  \n",
    "\n",
    "(b) P(B)\n",
    "\n",
    "(c) P(A| B) \n",
    "\n",
    "(d) P (B|A)"
   ]
  },
  {
   "cell_type": "markdown",
   "metadata": {},
   "source": [
    "**Solution**"
   ]
  },
  {
   "cell_type": "code",
   "execution_count": 6,
   "metadata": {},
   "outputs": [
    {
     "name": "stdout",
     "output_type": "stream",
     "text": [
      "(a) \n",
      "===\n",
      "P(A) =  0.86\n",
      "\n",
      "(b) \n",
      "===\n",
      "P(B) =  0.79\n"
     ]
    }
   ],
   "source": [
    "space = {70, 9, 16, 5}\n",
    "A = {70, 16}\n",
    "B = {70, 9}\n",
    "# a\n",
    "P_A = sum(A)/sum(space)\n",
    "print(\"(a) \\n===\")\n",
    "print(\"P(A) = \", P_A)\n",
    "# b\n",
    "P_B = sum(B)/sum(space)\n",
    "print(\"\\n(b) \\n===\")\n",
    "print(\"P(B) = \", P_B)"
   ]
  },
  {
   "cell_type": "code",
   "execution_count": 18,
   "metadata": {},
   "outputs": [
    {
     "name": "stdout",
     "output_type": "stream",
     "text": [
      "(c) \n",
      "===\n",
      "First Method : P(A| B) = 0.886\n",
      "Second Method : P(A| B) = 0.886\n"
     ]
    }
   ],
   "source": [
    "# c \n",
    "# P_A_given_B = P(A_intersect_B)/P(B)\n",
    "P_A_int_B = sum(A.intersection(B))/sum(space)\n",
    "P_A_given_B = P_A_int_B/P_B\n",
    "# Anoter Solution \n",
    "P_A_given_B_2 = sum(A.intersection(B))/sum(B)\n",
    "\n",
    "print(\"(c) \\n===\")\n",
    "print(\"First Method : P(A| B) = %0.3f\"%P_A_given_B)\n",
    "print(\"Second Method : P(A| B) = %0.3f\"%P_A_given_B_2)"
   ]
  },
  {
   "cell_type": "code",
   "execution_count": 22,
   "metadata": {},
   "outputs": [
    {
     "name": "stdout",
     "output_type": "stream",
     "text": [
      "(d) \n",
      "===\n",
      "Method 1 : P(B| A) = 0.814\n",
      "Method 2 : P(B| A) = 0.814\n"
     ]
    }
   ],
   "source": [
    "# d \n",
    "# P_B_given_A = P(B_intersect_A)/P(A)\n",
    "P_B_given_A = P_A_int_B /P_A\n",
    "print(\"(d) \\n===\")\n",
    "print(\"Method 1 : P(B| A) = %0.3f\"% P_B_given_A)\n",
    "print(\"Method 2 : P(B| A) = %0.3f\"% (sum(A.intersection(B))/sum(A)))"
   ]
  },
  {
   "cell_type": "markdown",
   "metadata": {},
   "source": [
    "## Exercise 2-103\n",
    "The following table summarizes the analysis of samples of galvanized steel for coating weight and surface roughness\n",
    "\n",
    "![](images/2-103.png)\n",
    "\n",
    "(a) If the coating weight of a sample is high, what is the\n",
    "probability that the surface roughness is high?\n",
    "\n",
    "(b) If the surface roughness of a sample is high, what is the\n",
    "probability that the coating weight is high?\n",
    "\n",
    "(c) If the surface roughness of a sample is low, what is the\n",
    "probability that the coating weight is low?\n"
   ]
  },
  {
   "cell_type": "markdown",
   "metadata": {},
   "source": [
    "**Solution**\n",
    "\n",
    "Let A denotes coating weight is high,  B denotes surface roughness is high\n"
   ]
  },
  {
   "cell_type": "markdown",
   "metadata": {},
   "source": [
    "(a)\n",
    "\n",
    "If the (coating weight of a sample is high) **A**, what is the probability that (the surface roughness is high) **B**?\n",
    "\n",
    "We need to find P(B|A)\n",
    "\n",
    "$$P(B|A) = \\frac{P(B\\cap A)}{P(A)}$$"
   ]
  },
  {
   "cell_type": "code",
   "execution_count": 38,
   "metadata": {},
   "outputs": [
    {
     "name": "stdout",
     "output_type": "stream",
     "text": [
      "P(B|A) = 0.12\n"
     ]
    }
   ],
   "source": [
    "space = {12, 16, 88, 34}\n",
    "A = {12, 88}\n",
    "B = {12, 16}\n",
    "P_B_given_A = sum(B.intersection(A))/sum(A)\n",
    "print(\"P(B|A) = %0.2f\"%P_B_given_A)"
   ]
  },
  {
   "cell_type": "markdown",
   "metadata": {},
   "source": [
    "(b)\n",
    "\n",
    "If the (surface roughness of a sample is high) **B** , what is the probability that (the coating weight is high) **A**?\n",
    "\n",
    "We need to find P(A|B)\n",
    "\n"
   ]
  },
  {
   "cell_type": "code",
   "execution_count": 39,
   "metadata": {},
   "outputs": [
    {
     "name": "stdout",
     "output_type": "stream",
     "text": [
      "P(A|B) = 0.429\n"
     ]
    }
   ],
   "source": [
    "P_A_given_B = sum(B.intersection(A))/sum(B)\n",
    "print(\"P(A|B) = %0.3f\"%P_A_given_B)"
   ]
  },
  {
   "cell_type": "markdown",
   "metadata": {},
   "source": [
    "(c) \n",
    "\n",
    "If (the surface roughness of a sample is low) **B'**, what is the\n",
    "probability that the coating weight is low **A'**?\n",
    "\n",
    "We need to find P(A'|B')"
   ]
  },
  {
   "cell_type": "code",
   "execution_count": 40,
   "metadata": {},
   "outputs": [],
   "source": [
    "A_c = space - A\n",
    "B_c = space - B"
   ]
  },
  {
   "cell_type": "code",
   "execution_count": 41,
   "metadata": {},
   "outputs": [
    {
     "name": "stdout",
     "output_type": "stream",
     "text": [
      "P(A'|B') = 0.279\n"
     ]
    }
   ],
   "source": [
    "P_Ac_given_Bc = sum(A_c.intersection(B_c))/sum(B_c)\n",
    "print(\"P(A'|B') = %0.3f\"%P_Ac_given_Bc)"
   ]
  },
  {
   "cell_type": "markdown",
   "metadata": {},
   "source": [
    "## EXercise 2-107\n",
    "A lot of 100 semiconductor chips contains 20 that\n",
    "are defective. Two are selected randomly, without replacement,\n",
    "from the lot.\n",
    "\n",
    "(a) What is the probability that the first one selected is\n",
    "defective?\n",
    "\n",
    "(b) What is the probability that the second one selected is\n",
    "defective given that the first one was defective?\n",
    "\n",
    "(c) What is the probability that both are defective?\n",
    "\n",
    "(d) How does the answer to part (b) change if chips selected\n",
    "were replaced prior to the next selection?"
   ]
  },
  {
   "cell_type": "markdown",
   "metadata": {},
   "source": [
    "**Solution**\n",
    "\n",
    "let Di denotes the selected chip is defective for selection #i where i = 1, 2, 3\n",
    "\n",
    "(a)"
   ]
  },
  {
   "cell_type": "code",
   "execution_count": 53,
   "metadata": {},
   "outputs": [],
   "source": [
    "space = {20, 80}\n",
    "D1 = {20}"
   ]
  },
  {
   "cell_type": "code",
   "execution_count": 54,
   "metadata": {},
   "outputs": [
    {
     "name": "stdout",
     "output_type": "stream",
     "text": [
      "P(D) =  0.2\n"
     ]
    }
   ],
   "source": [
    "# First Trial \n",
    "P_D1 = sum(D1)/sum(space)\n",
    "print(\"P(D1) = \", P_D1)"
   ]
  },
  {
   "cell_type": "markdown",
   "metadata": {},
   "source": [
    "(b)\n",
    "\n",
    "Given that first selected chip was defective (No replacement) the space will change {19, 80}\n",
    "\n",
    "as defective parts will decrease by one"
   ]
  },
  {
   "cell_type": "code",
   "execution_count": 59,
   "metadata": {},
   "outputs": [
    {
     "name": "stdout",
     "output_type": "stream",
     "text": [
      "P(D2|D1) =  0.1919191919191919\n"
     ]
    }
   ],
   "source": [
    "space = {19, 80}\n",
    "D2 = {19}\n",
    "P_D2_given_D1 = sum(D2)/sum(space)\n",
    "print(\"P(D2|D1) = \", P_D2_given_D1)"
   ]
  },
  {
   "cell_type": "markdown",
   "metadata": {},
   "source": [
    "(c)\n",
    "\n",
    "$ P(D_1, D_2) \\rightarrow P(D_1 \\cap D_2) = P(D_1 | D_2) \\times P(D2) =  P(D_2 | D_1) \\times P(D_1)$\n",
    "\n",
    "So \n",
    "\n",
    "$ P(D_1, D_2) =  P(D_2 | D_1) \\times P(D_1)$\n"
   ]
  },
  {
   "cell_type": "code",
   "execution_count": 57,
   "metadata": {},
   "outputs": [
    {
     "name": "stdout",
     "output_type": "stream",
     "text": [
      "P(D1 , D2) =  0.03838383838383838\n"
     ]
    }
   ],
   "source": [
    "P_D1_and_D2 = P_D2_given_D1 * P_D1\n",
    "print(\"P(D1 , D2) = \", P_D1_and_D2)"
   ]
  },
  {
   "cell_type": "markdown",
   "metadata": {},
   "source": [
    "(d)\n",
    "\n",
    "If replacement exists so space will not change "
   ]
  },
  {
   "cell_type": "code",
   "execution_count": 60,
   "metadata": {},
   "outputs": [
    {
     "name": "stdout",
     "output_type": "stream",
     "text": [
      "P(D2|D1) =  0.2\n"
     ]
    }
   ],
   "source": [
    "space = {20, 80}\n",
    "D2 = {20}\n",
    "P_D2_given_D1 = sum(D2)/sum(space)\n",
    "print(\"P(D2|D1) = \", P_D2_given_D1)"
   ]
  },
  {
   "cell_type": "markdown",
   "metadata": {},
   "source": [
    "## Multiplication and Total Probability Rules"
   ]
  },
  {
   "cell_type": "markdown",
   "metadata": {},
   "source": [
    "### Multiplication Rule\n",
    "\n",
    "From conditional probability rule \n",
    "$$P(A|B) = \\frac{P(A\\cap B)}{P(B)}$$\n",
    "$$P(B|A) = \\frac{P(B\\cap A)}{P(A)}$$\n",
    "So\n",
    "$$P(A\\cap B) = P(A|B)P(B)  $$\n",
    "$$P(B\\cap A) = P(B| A)P(A)$$\n",
    "But $P(A\\cap B) = P(B\\cap A)$\n",
    "\n",
    "$$P(A\\cap B) = P(A|B)P(B) = P(B| A)P(A)$$"
   ]
  },
  {
   "cell_type": "markdown",
   "metadata": {},
   "source": [
    "### Total probability Rule\n",
    "\n",
    "![](images/total_prob_rule.png)\n",
    "\n",
    "For any event $B$ \n",
    "\n",
    "$$ B = (B \\cap A) \\cup (B \\cap A')$$ \n",
    "\n",
    "and $A$ and  $A'$ are matually execlusive \n",
    "\n",
    "So \n",
    "\n",
    "$$P(B) = P(B\\cap A) + P(B\\cap A')$$\n",
    "\n",
    "and from mutiplication rule \n",
    "\n",
    "$$P(B) = P(B| A)P(A) +  P(B| A')P(A') $$\n",
    "\n",
    "In general If we have multiple mutually execlusive events $E_1, E_2, ... , E_k$\n",
    "\n",
    "$$P(B) = P(B \\cap E_1) + P(B \\cap  E_2) +  ... + P(B \\cap E_k)$$\n",
    "$$P(B) = P(B|E_1)P(E_1) + P(B | E_2)P(E_2) +  ... + P(B| E_k)P(E_k) $$\n"
   ]
  },
  {
   "cell_type": "markdown",
   "metadata": {},
   "source": [
    "### Exercise 2-121\n",
    "\n",
    "Suppose that P(A|B) =  0.4 and P(B)=0.5 Determine the following:\n",
    "\n",
    "(a) $P(A\\cap B)$\n",
    "\n",
    "(b)$P(A' \\cap B)$"
   ]
  },
  {
   "cell_type": "markdown",
   "metadata": {},
   "source": [
    "**Solution**\n",
    "\n",
    "(a) \n",
    "\n",
    "$P(A \\cap B) = P(A|B) P(B)$ "
   ]
  },
  {
   "cell_type": "code",
   "execution_count": 1,
   "metadata": {},
   "outputs": [
    {
     "name": "stdout",
     "output_type": "stream",
     "text": [
      "P(A ∩ B) =  0.2\n"
     ]
    }
   ],
   "source": [
    "P_A_given_B = 0.4 \n",
    "P_B = 0.5\n",
    "P_A_intersect_B = P_A_given_B * P_B\n",
    "print(\"P(A ∩ B) = \", P_A_intersect_B)"
   ]
  },
  {
   "cell_type": "markdown",
   "metadata": {},
   "source": [
    "(b) \n",
    "\n",
    "$P(A' \\cap B) = P(A'|B) P(B) $ \n",
    "\n",
    "and\n",
    "\n",
    "$P(A'|B) = 1 - P(A|B)$\n",
    "\n",
    "So\n",
    "$P(A' \\cap B) = (1-P(A|B))P(B) $ "
   ]
  },
  {
   "cell_type": "code",
   "execution_count": 4,
   "metadata": {},
   "outputs": [
    {
     "name": "stdout",
     "output_type": "stream",
     "text": [
      "P(A' ∩ B) =  0.3\n"
     ]
    }
   ],
   "source": [
    "P_Ac_given_B = (1-P_A_given_B)*P_B\n",
    "print(\"P(A' ∩ B) = \", P_Ac_given_B)"
   ]
  },
  {
   "cell_type": "markdown",
   "metadata": {},
   "source": [
    "**Another method**\n",
    "\n",
    "from total probability rule \n",
    "$$P(B) = P(A \\cap B) + P(A' \\cap B)$$ \n",
    "\n",
    "Where $A$ and $A'$ are matually execlusive\n",
    "\n",
    "So \n",
    "\n",
    "$P(A' \\cap B) = P(B) - P(A \\cap B)$"
   ]
  },
  {
   "cell_type": "code",
   "execution_count": 5,
   "metadata": {},
   "outputs": [
    {
     "name": "stdout",
     "output_type": "stream",
     "text": [
      "P(A' ∩ B) =  0.3\n"
     ]
    }
   ],
   "source": [
    "P_Ac_given_B = P_B - P_A_intersect_B\n",
    "print(\"P(A' ∩ B) = \", P_Ac_given_B)"
   ]
  },
  {
   "cell_type": "markdown",
   "metadata": {},
   "source": [
    "### Exercise 2-123\n",
    "\n",
    "The probability is 1% that an electrical connector\n",
    "that is kept dry fails during the warranty period of a portable\n",
    "computer. If the connector is ever wet, the probability of a failure during the warranty period is 5%. If 90% of the connectors\n",
    "are kept dry and 10% are wet, what proportion of connectors\n",
    "fail during the warranty period?"
   ]
  },
  {
   "cell_type": "markdown",
   "metadata": {},
   "source": [
    "**Solution**\n",
    "\n",
    "Let F denote connector failer\n",
    "\n",
    "Let D denote dry connector\n",
    "\n",
    "Let W denote wet connector\n",
    "\n",
    "Given:\n",
    "\n",
    "$P(F|D) = 0.01, P(F|W) = 0.05, P(D) = 0.9, P(W) = 0.1$\n",
    "\n",
    "Required :\n",
    "\n",
    "$P(F)$\n",
    "\n",
    "Using total probability rule \n",
    "\n",
    "$P(F) = P(F|D)P(D) + P(F|W)P(W)$"
   ]
  },
  {
   "cell_type": "code",
   "execution_count": 8,
   "metadata": {},
   "outputs": [
    {
     "name": "stdout",
     "output_type": "stream",
     "text": [
      "P(F) =0.014\n"
     ]
    }
   ],
   "source": [
    "P_F = 0.01*0.9 + 0.05*0.1\n",
    "print(\"P(F) =%0.3f\" %P_F)"
   ]
  },
  {
   "cell_type": "markdown",
   "metadata": {},
   "source": [
    "### Exercise 2-128\n",
    "\n",
    "Heart failures are due to either natural occurrences\n",
    "(87%) or outside factors (13%).\n",
    "\n",
    "Outside factors are related to induced substances (73%) or foreign objects (27%).\n",
    "\n",
    "Natural occurrences are caused by arterial blockage (56%), disease\n",
    "(27%), and infection (e.g., staph infection) (17%).\n",
    "\n",
    "(a) Determine the probability that a failure is due to an induced\n",
    "substance.\n",
    "\n",
    "(b) Determine the probability that a failure is due to disease or\n",
    "infection"
   ]
  },
  {
   "cell_type": "markdown",
   "metadata": {},
   "source": [
    "**Solution**\n",
    "\n",
    "Let **F** denote Heart failure\n",
    "\n",
    "Let **N** denote Natural occurrences.\n",
    "\n",
    "Let **O** denote outside occurrences. \n",
    "\n",
    "Let **S** denote substances. \n",
    "\n",
    "Let **R** denote foreign Objects. \n",
    "\n",
    "Let **B** denote arterial Blockage. \n",
    "\n",
    "Let **D** denote Disease. \n",
    "\n",
    "Let **I** denote Infection. \n",
    "\n",
    "\n",
    "Given : \n",
    "\n",
    "$P(F|N) = 0.87, P(F|O) = 0.13, P(S) = 0.73, P(R) = 0.27, P(B) = 0.56, P(D) = 0.27, P(I) = 0.17 $"
   ]
  },
  {
   "cell_type": "code",
   "execution_count": 9,
   "metadata": {},
   "outputs": [],
   "source": [
    "s1 = {'N', 'O'}\n",
    "s2 = {'R', 'S' }\n",
    "s3 = {'B', 'D', 'I' }\n"
   ]
  },
  {
   "cell_type": "code",
   "execution_count": null,
   "metadata": {},
   "outputs": [],
   "source": []
  }
 ],
 "metadata": {
  "kernelspec": {
   "display_name": "Python 3.7.4 64-bit ('base': conda)",
   "language": "python",
   "name": "python37464bitbaseconda8dbfdcf33cca494fab7248766d4f91e8"
  },
  "language_info": {
   "codemirror_mode": {
    "name": "ipython",
    "version": 3
   },
   "file_extension": ".py",
   "mimetype": "text/x-python",
   "name": "python",
   "nbconvert_exporter": "python",
   "pygments_lexer": "ipython3",
   "version": "3.7.4"
  }
 },
 "nbformat": 4,
 "nbformat_minor": 2
}
