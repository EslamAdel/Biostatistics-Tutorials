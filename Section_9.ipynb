{
 "cells": [
  {
   "cell_type": "markdown",
   "metadata": {},
   "source": [
    "# Point Estimation & Random Sampling"
   ]
  },
  {
   "cell_type": "markdown",
   "metadata": {},
   "source": [
    "## Ex-1 \n",
    "\n",
    "The breakdown time of an insulating fluid between electrodes at 34 kV. The times, in minutes, are as\n",
    "follows: \n",
    "\n",
    "$0.19, 0.78, 0.96, 1.31, 2.78, 3.16, 4.15, 4.67, 4.85, 6.50, 7.35, 8.01, 8.27, 12.06, 31.75,\n",
    "32.52, 33.91, 36.71$, and $72.89$.\n",
    "\n",
    "\n",
    "Calculate the sample mean, sample median, sample range, and sample standard deviation."
   ]
  },
  {
   "cell_type": "markdown",
   "metadata": {},
   "source": [
    "## Ex-2 \n",
    "\n",
    "The following data are direct solar intensity measurements (watts/m2) on different days at a location\n",
    "in western desert: \n",
    "\n",
    "$562, 869, 708, 775, 775, 704, 809, 856, 655, 806, 878, 909, 918, 558, 768, 870,\n",
    "918, 940, 946, 661, 820, 898, 935, 952, 957, 693, 835, 905, 939, 955, 960, 498, 653, 730$, and $753$.\n",
    "\n",
    "\n",
    "Calculate the sample mean and sample standard deviation."
   ]
  },
  {
   "cell_type": "markdown",
   "metadata": {},
   "source": [
    "## Ex-3 \n",
    "\n",
    "The following data are the joint temperatures of the O-rings (°F) for each test firing or actual launch\n",
    "of the space shuttle rocket motor: \n",
    "\n",
    "$84, 49, 61, 40, 83, 67, 45, 66, 70, 69, 80, 58, 68, 60, 67, 72, 73, 70,\n",
    "57, 63, 70, 78, 52, 67, 53, 67, 75, 61, 70, 81, 76, 79, 75, 76, 58, 31$.\n",
    "\n",
    "\n",
    "(a) Compute the sample mean and sample standard deviation.\n",
    "\n",
    "(b) Set aside the smallest observation and recomputed the quantities in part (a). Comment on your findings."
   ]
  },
  {
   "cell_type": "markdown",
   "metadata": {},
   "source": [
    "## Ex-4\n",
    "\n",
    "The mean weight of an adult male is 170 pounds and the standard deviation is 15 pounds. Find the\n",
    "probability that the combined weight of 16 randomly chosen adults exceeds 2900 pounds\n",
    " "
   ]
  },
  {
   "cell_type": "markdown",
   "metadata": {},
   "source": [
    "## Ex-5\n",
    "\n",
    "The time it takes students in a cooking school to learn to prepare seafood gumbo is a random variable\n",
    "with a normal distribution where the average is 3.2 hours with a standard deviation of 1.8 hours.\n",
    "\n",
    "\n",
    "(a) Find the probability that the average time it will take a class of 36 students to learn to prepare\n",
    "seafood gumbo is less than 3.4 hours.\n",
    "\n",
    "(b) Find the probability that it takes one student between 3 and 4 hours to learn to prepare\n",
    "seafood gumbo."
   ]
  },
  {
   "cell_type": "markdown",
   "metadata": {},
   "source": [
    "# Simple Linear Regression"
   ]
  },
  {
   "cell_type": "markdown",
   "metadata": {},
   "source": [
    "## Ex 11-4\n",
    "\n",
    "An article in the Journal of the American Ceramic Society considered the\n",
    "microstructure of the ultrafine powder of partially stabilized\n",
    "zirconia as a function of temperature. The data follow:\n",
    "\n",
    "x = Temperature (°C): 1100 1200 1300 1100 1500\n",
    "1200 1300\n",
    "\n",
    "y = Porosity (%): 30.8 19.2 6.0 13.5 11.4\n",
    "7.7 3.6\n",
    "\n",
    "\n",
    "(a) Fit the simple linear regression model using the method of\n",
    "least squares. Find an estimate of $σ^2$.\n",
    "\n",
    "(b) Estimate the mean porosity for a temperature of 1400 °C.\n",
    "\n",
    "(c) Find the fitted value corresponding to y = 11.4 and the associated residual.\n",
    "\n",
    "(d) Draw a scatter diagram of the data. Does a simple linear regression model seem appropriate here? Explain."
   ]
  },
  {
   "cell_type": "code",
   "execution_count": null,
   "metadata": {},
   "outputs": [],
   "source": []
  }
 ],
 "metadata": {
  "kernelspec": {
   "display_name": "Python 3",
   "language": "python",
   "name": "python3"
  },
  "language_info": {
   "codemirror_mode": {
    "name": "ipython",
    "version": 3
   },
   "file_extension": ".py",
   "mimetype": "text/x-python",
   "name": "python",
   "nbconvert_exporter": "python",
   "pygments_lexer": "ipython3",
   "version": "3.8.5-final"
  }
 },
 "nbformat": 4,
 "nbformat_minor": 2
}